{
 "cells": [
  {
   "cell_type": "markdown",
   "metadata": {},
   "source": [
    "# Problem Statement:\n",
    "\n",
    "Ames, IA has seen an increase in population of younger residents. According to the US Census, over 40% of it's residents are between the ages of 18-24 years. While this is a good thing for the city itself, as a population that young can contribute to the work force, buy homes, pay taxes and more; it has it's elderly population feeling left out.\n",
    "\n",
    "The same Census also puts the elderly population of residents 65 or older in Ames at 8%. With more younger residents coming in and growing, the standard of living is bound to keep increasing. As they grow older in age, they feel marginalized and want to know what options they have.\n",
    "\n",
    "Most have been considering leaving the state. Take John and Carrie Preston for instance. They've been residents for over 25 years but with the rapid changes, they feel it might be time to relocate to Florida simply because of the access to beaches, abundance of assisted living homes and close family in the area.\n",
    "\n",
    "They've called upon us here at Datascience-R-US to give them an idea of how much their home is currently worth. They've invited a few friends as well who are interested in relocating so we will be speaking at the local Elks Club to a few of them.\n",
    "\n",
    "In this project, we will attempt to give them a prediction of the price of houses in the Ames,Iowa area and what features contribute the most value to the price of a home. This way, they can make an informed decision on which features they can update in their home in order to capitalize off of the market.\n",
    "\n",
    "GOALS: In this notebook, I am taking you through my steps of how I use the Ames housing data set to predict the price of homes in the Iowa area.\n",
    "\n",
    "We will be exploring a few models in order to reach our goal of predicting price.\n",
    "\n",
    "We will be looking at: -Linear Regression Models -Lasso Models -Ridge Models\n",
    "\n",
    "After evaluating these three models, we will compare these models to our baseline score and select which model works the best in acheving our goal."
   ]
  },
  {
   "cell_type": "markdown",
   "metadata": {},
   "source": [
    "## GOALS:\n",
    "In this notebook, I am taking you through my steps of how I use the Ames housing data set to predict the price of homes in the Iowa area. \n",
    "\n",
    "We will me exploring a few models in order to reach our goal of this prediction.\n",
    "\n",
    "We will be looking at:\n",
    "-Linear Regression Models\n",
    "-Lasso Models \n",
    "-Ridge Models\n",
    "\n",
    "After evaluating these three models, we will compare these models to our baseline score and select which model works the best in acheving our goal.\n",
    "\n",
    "**Let's dive in!**"
   ]
  },
  {
   "cell_type": "markdown",
   "metadata": {},
   "source": [
    "## Step 1: Import all libraries and Data"
   ]
  },
  {
   "cell_type": "code",
   "execution_count": 8,
   "metadata": {},
   "outputs": [],
   "source": [
    "#imports for all imports \n",
    "import pandas as pd\n",
    "import numpy as np\n",
    "import seaborn as sns\n",
    "import matplotlib.pyplot as plt\n",
    "from sklearn.linear_model import LinearRegression, Lasso, Ridge\n",
    "from sklearn import metrics\n",
    "import statsmodels.api as sm\n",
    "from sklearn.model_selection import train_test_split, cross_val_score \n",
    "from sklearn.preprocessing import StandardScaler, PolynomialFeatures\n",
    "import statsmodels.api as sm\n",
    "import datetime as dt\n",
    "\n",
    "\n",
    "#options\n",
    "\n",
    "pd.set_option('max_columns', None)\n",
    "pd.set_option('max_rows', None)"
   ]
  },
  {
   "cell_type": "code",
   "execution_count": 2,
   "metadata": {},
   "outputs": [
    {
     "data": {
      "text/html": [
       "<div>\n",
       "<style scoped>\n",
       "    .dataframe tbody tr th:only-of-type {\n",
       "        vertical-align: middle;\n",
       "    }\n",
       "\n",
       "    .dataframe tbody tr th {\n",
       "        vertical-align: top;\n",
       "    }\n",
       "\n",
       "    .dataframe thead th {\n",
       "        text-align: right;\n",
       "    }\n",
       "</style>\n",
       "<table border=\"1\" class=\"dataframe\">\n",
       "  <thead>\n",
       "    <tr style=\"text-align: right;\">\n",
       "      <th></th>\n",
       "      <th>Id</th>\n",
       "      <th>PID</th>\n",
       "      <th>MS SubClass</th>\n",
       "      <th>MS Zoning</th>\n",
       "      <th>Lot Frontage</th>\n",
       "      <th>Lot Area</th>\n",
       "      <th>Street</th>\n",
       "      <th>Alley</th>\n",
       "      <th>Lot Shape</th>\n",
       "      <th>Land Contour</th>\n",
       "      <th>Utilities</th>\n",
       "      <th>Lot Config</th>\n",
       "      <th>Land Slope</th>\n",
       "      <th>Neighborhood</th>\n",
       "      <th>Condition 1</th>\n",
       "      <th>Condition 2</th>\n",
       "      <th>Bldg Type</th>\n",
       "      <th>House Style</th>\n",
       "      <th>Overall Qual</th>\n",
       "      <th>Overall Cond</th>\n",
       "      <th>Year Built</th>\n",
       "      <th>Year Remod/Add</th>\n",
       "      <th>Roof Style</th>\n",
       "      <th>Roof Matl</th>\n",
       "      <th>Exterior 1st</th>\n",
       "      <th>Exterior 2nd</th>\n",
       "      <th>Mas Vnr Type</th>\n",
       "      <th>Mas Vnr Area</th>\n",
       "      <th>Exter Qual</th>\n",
       "      <th>Exter Cond</th>\n",
       "      <th>Foundation</th>\n",
       "      <th>Bsmt Qual</th>\n",
       "      <th>Bsmt Cond</th>\n",
       "      <th>Bsmt Exposure</th>\n",
       "      <th>BsmtFin Type 1</th>\n",
       "      <th>BsmtFin SF 1</th>\n",
       "      <th>BsmtFin Type 2</th>\n",
       "      <th>BsmtFin SF 2</th>\n",
       "      <th>Bsmt Unf SF</th>\n",
       "      <th>Total Bsmt SF</th>\n",
       "      <th>Heating</th>\n",
       "      <th>Heating QC</th>\n",
       "      <th>Central Air</th>\n",
       "      <th>Electrical</th>\n",
       "      <th>1st Flr SF</th>\n",
       "      <th>2nd Flr SF</th>\n",
       "      <th>Low Qual Fin SF</th>\n",
       "      <th>Gr Liv Area</th>\n",
       "      <th>Bsmt Full Bath</th>\n",
       "      <th>Bsmt Half Bath</th>\n",
       "      <th>Full Bath</th>\n",
       "      <th>Half Bath</th>\n",
       "      <th>Bedroom AbvGr</th>\n",
       "      <th>Kitchen AbvGr</th>\n",
       "      <th>Kitchen Qual</th>\n",
       "      <th>TotRms AbvGrd</th>\n",
       "      <th>Functional</th>\n",
       "      <th>Fireplaces</th>\n",
       "      <th>Fireplace Qu</th>\n",
       "      <th>Garage Type</th>\n",
       "      <th>Garage Yr Blt</th>\n",
       "      <th>Garage Finish</th>\n",
       "      <th>Garage Cars</th>\n",
       "      <th>Garage Area</th>\n",
       "      <th>Garage Qual</th>\n",
       "      <th>Garage Cond</th>\n",
       "      <th>Paved Drive</th>\n",
       "      <th>Wood Deck SF</th>\n",
       "      <th>Open Porch SF</th>\n",
       "      <th>Enclosed Porch</th>\n",
       "      <th>3Ssn Porch</th>\n",
       "      <th>Screen Porch</th>\n",
       "      <th>Pool Area</th>\n",
       "      <th>Pool QC</th>\n",
       "      <th>Fence</th>\n",
       "      <th>Misc Feature</th>\n",
       "      <th>Misc Val</th>\n",
       "      <th>Mo Sold</th>\n",
       "      <th>Yr Sold</th>\n",
       "      <th>Sale Type</th>\n",
       "      <th>SalePrice</th>\n",
       "    </tr>\n",
       "  </thead>\n",
       "  <tbody>\n",
       "    <tr>\n",
       "      <th>0</th>\n",
       "      <td>109</td>\n",
       "      <td>533352170</td>\n",
       "      <td>60</td>\n",
       "      <td>RL</td>\n",
       "      <td>NaN</td>\n",
       "      <td>13517</td>\n",
       "      <td>Pave</td>\n",
       "      <td>NaN</td>\n",
       "      <td>IR1</td>\n",
       "      <td>Lvl</td>\n",
       "      <td>AllPub</td>\n",
       "      <td>CulDSac</td>\n",
       "      <td>Gtl</td>\n",
       "      <td>Sawyer</td>\n",
       "      <td>RRAe</td>\n",
       "      <td>Norm</td>\n",
       "      <td>1Fam</td>\n",
       "      <td>2Story</td>\n",
       "      <td>6</td>\n",
       "      <td>8</td>\n",
       "      <td>1976</td>\n",
       "      <td>2005</td>\n",
       "      <td>Gable</td>\n",
       "      <td>CompShg</td>\n",
       "      <td>HdBoard</td>\n",
       "      <td>Plywood</td>\n",
       "      <td>BrkFace</td>\n",
       "      <td>289.0</td>\n",
       "      <td>Gd</td>\n",
       "      <td>TA</td>\n",
       "      <td>CBlock</td>\n",
       "      <td>TA</td>\n",
       "      <td>TA</td>\n",
       "      <td>No</td>\n",
       "      <td>GLQ</td>\n",
       "      <td>533.0</td>\n",
       "      <td>Unf</td>\n",
       "      <td>0.0</td>\n",
       "      <td>192.0</td>\n",
       "      <td>725.0</td>\n",
       "      <td>GasA</td>\n",
       "      <td>Ex</td>\n",
       "      <td>Y</td>\n",
       "      <td>SBrkr</td>\n",
       "      <td>725</td>\n",
       "      <td>754</td>\n",
       "      <td>0</td>\n",
       "      <td>1479</td>\n",
       "      <td>0.0</td>\n",
       "      <td>0.0</td>\n",
       "      <td>2</td>\n",
       "      <td>1</td>\n",
       "      <td>3</td>\n",
       "      <td>1</td>\n",
       "      <td>Gd</td>\n",
       "      <td>6</td>\n",
       "      <td>Typ</td>\n",
       "      <td>0</td>\n",
       "      <td>NaN</td>\n",
       "      <td>Attchd</td>\n",
       "      <td>1976.0</td>\n",
       "      <td>RFn</td>\n",
       "      <td>2.0</td>\n",
       "      <td>475.0</td>\n",
       "      <td>TA</td>\n",
       "      <td>TA</td>\n",
       "      <td>Y</td>\n",
       "      <td>0</td>\n",
       "      <td>44</td>\n",
       "      <td>0</td>\n",
       "      <td>0</td>\n",
       "      <td>0</td>\n",
       "      <td>0</td>\n",
       "      <td>NaN</td>\n",
       "      <td>NaN</td>\n",
       "      <td>NaN</td>\n",
       "      <td>0</td>\n",
       "      <td>3</td>\n",
       "      <td>2010</td>\n",
       "      <td>WD</td>\n",
       "      <td>130500</td>\n",
       "    </tr>\n",
       "    <tr>\n",
       "      <th>1</th>\n",
       "      <td>544</td>\n",
       "      <td>531379050</td>\n",
       "      <td>60</td>\n",
       "      <td>RL</td>\n",
       "      <td>43.0</td>\n",
       "      <td>11492</td>\n",
       "      <td>Pave</td>\n",
       "      <td>NaN</td>\n",
       "      <td>IR1</td>\n",
       "      <td>Lvl</td>\n",
       "      <td>AllPub</td>\n",
       "      <td>CulDSac</td>\n",
       "      <td>Gtl</td>\n",
       "      <td>SawyerW</td>\n",
       "      <td>Norm</td>\n",
       "      <td>Norm</td>\n",
       "      <td>1Fam</td>\n",
       "      <td>2Story</td>\n",
       "      <td>7</td>\n",
       "      <td>5</td>\n",
       "      <td>1996</td>\n",
       "      <td>1997</td>\n",
       "      <td>Gable</td>\n",
       "      <td>CompShg</td>\n",
       "      <td>VinylSd</td>\n",
       "      <td>VinylSd</td>\n",
       "      <td>BrkFace</td>\n",
       "      <td>132.0</td>\n",
       "      <td>Gd</td>\n",
       "      <td>TA</td>\n",
       "      <td>PConc</td>\n",
       "      <td>Gd</td>\n",
       "      <td>TA</td>\n",
       "      <td>No</td>\n",
       "      <td>GLQ</td>\n",
       "      <td>637.0</td>\n",
       "      <td>Unf</td>\n",
       "      <td>0.0</td>\n",
       "      <td>276.0</td>\n",
       "      <td>913.0</td>\n",
       "      <td>GasA</td>\n",
       "      <td>Ex</td>\n",
       "      <td>Y</td>\n",
       "      <td>SBrkr</td>\n",
       "      <td>913</td>\n",
       "      <td>1209</td>\n",
       "      <td>0</td>\n",
       "      <td>2122</td>\n",
       "      <td>1.0</td>\n",
       "      <td>0.0</td>\n",
       "      <td>2</td>\n",
       "      <td>1</td>\n",
       "      <td>4</td>\n",
       "      <td>1</td>\n",
       "      <td>Gd</td>\n",
       "      <td>8</td>\n",
       "      <td>Typ</td>\n",
       "      <td>1</td>\n",
       "      <td>TA</td>\n",
       "      <td>Attchd</td>\n",
       "      <td>1997.0</td>\n",
       "      <td>RFn</td>\n",
       "      <td>2.0</td>\n",
       "      <td>559.0</td>\n",
       "      <td>TA</td>\n",
       "      <td>TA</td>\n",
       "      <td>Y</td>\n",
       "      <td>0</td>\n",
       "      <td>74</td>\n",
       "      <td>0</td>\n",
       "      <td>0</td>\n",
       "      <td>0</td>\n",
       "      <td>0</td>\n",
       "      <td>NaN</td>\n",
       "      <td>NaN</td>\n",
       "      <td>NaN</td>\n",
       "      <td>0</td>\n",
       "      <td>4</td>\n",
       "      <td>2009</td>\n",
       "      <td>WD</td>\n",
       "      <td>220000</td>\n",
       "    </tr>\n",
       "  </tbody>\n",
       "</table>\n",
       "</div>"
      ],
      "text/plain": [
       "    Id        PID  MS SubClass MS Zoning  Lot Frontage  Lot Area Street Alley  \\\n",
       "0  109  533352170           60        RL           NaN     13517   Pave   NaN   \n",
       "1  544  531379050           60        RL          43.0     11492   Pave   NaN   \n",
       "\n",
       "  Lot Shape Land Contour Utilities Lot Config Land Slope Neighborhood  \\\n",
       "0       IR1          Lvl    AllPub    CulDSac        Gtl       Sawyer   \n",
       "1       IR1          Lvl    AllPub    CulDSac        Gtl      SawyerW   \n",
       "\n",
       "  Condition 1 Condition 2 Bldg Type House Style  Overall Qual  Overall Cond  \\\n",
       "0        RRAe        Norm      1Fam      2Story             6             8   \n",
       "1        Norm        Norm      1Fam      2Story             7             5   \n",
       "\n",
       "   Year Built  Year Remod/Add Roof Style Roof Matl Exterior 1st Exterior 2nd  \\\n",
       "0        1976            2005      Gable   CompShg      HdBoard      Plywood   \n",
       "1        1996            1997      Gable   CompShg      VinylSd      VinylSd   \n",
       "\n",
       "  Mas Vnr Type  Mas Vnr Area Exter Qual Exter Cond Foundation Bsmt Qual  \\\n",
       "0      BrkFace         289.0         Gd         TA     CBlock        TA   \n",
       "1      BrkFace         132.0         Gd         TA      PConc        Gd   \n",
       "\n",
       "  Bsmt Cond Bsmt Exposure BsmtFin Type 1  BsmtFin SF 1 BsmtFin Type 2  \\\n",
       "0        TA            No            GLQ         533.0            Unf   \n",
       "1        TA            No            GLQ         637.0            Unf   \n",
       "\n",
       "   BsmtFin SF 2  Bsmt Unf SF  Total Bsmt SF Heating Heating QC Central Air  \\\n",
       "0           0.0        192.0          725.0    GasA         Ex           Y   \n",
       "1           0.0        276.0          913.0    GasA         Ex           Y   \n",
       "\n",
       "  Electrical  1st Flr SF  2nd Flr SF  Low Qual Fin SF  Gr Liv Area  \\\n",
       "0      SBrkr         725         754                0         1479   \n",
       "1      SBrkr         913        1209                0         2122   \n",
       "\n",
       "   Bsmt Full Bath  Bsmt Half Bath  Full Bath  Half Bath  Bedroom AbvGr  \\\n",
       "0             0.0             0.0          2          1              3   \n",
       "1             1.0             0.0          2          1              4   \n",
       "\n",
       "   Kitchen AbvGr Kitchen Qual  TotRms AbvGrd Functional  Fireplaces  \\\n",
       "0              1           Gd              6        Typ           0   \n",
       "1              1           Gd              8        Typ           1   \n",
       "\n",
       "  Fireplace Qu Garage Type  Garage Yr Blt Garage Finish  Garage Cars  \\\n",
       "0          NaN      Attchd         1976.0           RFn          2.0   \n",
       "1           TA      Attchd         1997.0           RFn          2.0   \n",
       "\n",
       "   Garage Area Garage Qual Garage Cond Paved Drive  Wood Deck SF  \\\n",
       "0        475.0          TA          TA           Y             0   \n",
       "1        559.0          TA          TA           Y             0   \n",
       "\n",
       "   Open Porch SF  Enclosed Porch  3Ssn Porch  Screen Porch  Pool Area Pool QC  \\\n",
       "0             44               0           0             0          0     NaN   \n",
       "1             74               0           0             0          0     NaN   \n",
       "\n",
       "  Fence Misc Feature  Misc Val  Mo Sold  Yr Sold Sale Type  SalePrice  \n",
       "0   NaN          NaN         0        3     2010       WD      130500  \n",
       "1   NaN          NaN         0        4     2009       WD      220000  "
      ]
     },
     "execution_count": 2,
     "metadata": {},
     "output_type": "execute_result"
    }
   ],
   "source": [
    "train_data = pd.read_csv('./datasets/train.csv')\n",
    "train_data.head(2)"
   ]
  },
  {
   "cell_type": "code",
   "execution_count": 3,
   "metadata": {},
   "outputs": [
    {
     "data": {
      "text/plain": [
       "(2051, 81)"
      ]
     },
     "execution_count": 3,
     "metadata": {},
     "output_type": "execute_result"
    }
   ],
   "source": [
    "train_data.shape"
   ]
  },
  {
   "cell_type": "code",
   "execution_count": 4,
   "metadata": {},
   "outputs": [
    {
     "name": "stdout",
     "output_type": "stream",
     "text": [
      "<class 'pandas.core.frame.DataFrame'>\n",
      "RangeIndex: 2051 entries, 0 to 2050\n",
      "Data columns (total 81 columns):\n",
      " #   Column           Non-Null Count  Dtype  \n",
      "---  ------           --------------  -----  \n",
      " 0   Id               2051 non-null   int64  \n",
      " 1   PID              2051 non-null   int64  \n",
      " 2   MS SubClass      2051 non-null   int64  \n",
      " 3   MS Zoning        2051 non-null   object \n",
      " 4   Lot Frontage     1721 non-null   float64\n",
      " 5   Lot Area         2051 non-null   int64  \n",
      " 6   Street           2051 non-null   object \n",
      " 7   Alley            140 non-null    object \n",
      " 8   Lot Shape        2051 non-null   object \n",
      " 9   Land Contour     2051 non-null   object \n",
      " 10  Utilities        2051 non-null   object \n",
      " 11  Lot Config       2051 non-null   object \n",
      " 12  Land Slope       2051 non-null   object \n",
      " 13  Neighborhood     2051 non-null   object \n",
      " 14  Condition 1      2051 non-null   object \n",
      " 15  Condition 2      2051 non-null   object \n",
      " 16  Bldg Type        2051 non-null   object \n",
      " 17  House Style      2051 non-null   object \n",
      " 18  Overall Qual     2051 non-null   int64  \n",
      " 19  Overall Cond     2051 non-null   int64  \n",
      " 20  Year Built       2051 non-null   int64  \n",
      " 21  Year Remod/Add   2051 non-null   int64  \n",
      " 22  Roof Style       2051 non-null   object \n",
      " 23  Roof Matl        2051 non-null   object \n",
      " 24  Exterior 1st     2051 non-null   object \n",
      " 25  Exterior 2nd     2051 non-null   object \n",
      " 26  Mas Vnr Type     2029 non-null   object \n",
      " 27  Mas Vnr Area     2029 non-null   float64\n",
      " 28  Exter Qual       2051 non-null   object \n",
      " 29  Exter Cond       2051 non-null   object \n",
      " 30  Foundation       2051 non-null   object \n",
      " 31  Bsmt Qual        1996 non-null   object \n",
      " 32  Bsmt Cond        1996 non-null   object \n",
      " 33  Bsmt Exposure    1993 non-null   object \n",
      " 34  BsmtFin Type 1   1996 non-null   object \n",
      " 35  BsmtFin SF 1     2050 non-null   float64\n",
      " 36  BsmtFin Type 2   1995 non-null   object \n",
      " 37  BsmtFin SF 2     2050 non-null   float64\n",
      " 38  Bsmt Unf SF      2050 non-null   float64\n",
      " 39  Total Bsmt SF    2050 non-null   float64\n",
      " 40  Heating          2051 non-null   object \n",
      " 41  Heating QC       2051 non-null   object \n",
      " 42  Central Air      2051 non-null   object \n",
      " 43  Electrical       2051 non-null   object \n",
      " 44  1st Flr SF       2051 non-null   int64  \n",
      " 45  2nd Flr SF       2051 non-null   int64  \n",
      " 46  Low Qual Fin SF  2051 non-null   int64  \n",
      " 47  Gr Liv Area      2051 non-null   int64  \n",
      " 48  Bsmt Full Bath   2049 non-null   float64\n",
      " 49  Bsmt Half Bath   2049 non-null   float64\n",
      " 50  Full Bath        2051 non-null   int64  \n",
      " 51  Half Bath        2051 non-null   int64  \n",
      " 52  Bedroom AbvGr    2051 non-null   int64  \n",
      " 53  Kitchen AbvGr    2051 non-null   int64  \n",
      " 54  Kitchen Qual     2051 non-null   object \n",
      " 55  TotRms AbvGrd    2051 non-null   int64  \n",
      " 56  Functional       2051 non-null   object \n",
      " 57  Fireplaces       2051 non-null   int64  \n",
      " 58  Fireplace Qu     1051 non-null   object \n",
      " 59  Garage Type      1938 non-null   object \n",
      " 60  Garage Yr Blt    1937 non-null   float64\n",
      " 61  Garage Finish    1937 non-null   object \n",
      " 62  Garage Cars      2050 non-null   float64\n",
      " 63  Garage Area      2050 non-null   float64\n",
      " 64  Garage Qual      1937 non-null   object \n",
      " 65  Garage Cond      1937 non-null   object \n",
      " 66  Paved Drive      2051 non-null   object \n",
      " 67  Wood Deck SF     2051 non-null   int64  \n",
      " 68  Open Porch SF    2051 non-null   int64  \n",
      " 69  Enclosed Porch   2051 non-null   int64  \n",
      " 70  3Ssn Porch       2051 non-null   int64  \n",
      " 71  Screen Porch     2051 non-null   int64  \n",
      " 72  Pool Area        2051 non-null   int64  \n",
      " 73  Pool QC          9 non-null      object \n",
      " 74  Fence            400 non-null    object \n",
      " 75  Misc Feature     65 non-null     object \n",
      " 76  Misc Val         2051 non-null   int64  \n",
      " 77  Mo Sold          2051 non-null   int64  \n",
      " 78  Yr Sold          2051 non-null   int64  \n",
      " 79  Sale Type        2051 non-null   object \n",
      " 80  SalePrice        2051 non-null   int64  \n",
      "dtypes: float64(11), int64(28), object(42)\n",
      "memory usage: 1.3+ MB\n"
     ]
    }
   ],
   "source": [
    "train_data.info()"
   ]
  },
  {
   "cell_type": "code",
   "execution_count": 9,
   "metadata": {},
   "outputs": [
    {
     "data": {
      "text/plain": [
       "Id                    0\n",
       "PID                   0\n",
       "MS SubClass           0\n",
       "MS Zoning             0\n",
       "Lot Frontage        330\n",
       "Lot Area              0\n",
       "Street                0\n",
       "Alley              1911\n",
       "Lot Shape             0\n",
       "Land Contour          0\n",
       "Utilities             0\n",
       "Lot Config            0\n",
       "Land Slope            0\n",
       "Neighborhood          0\n",
       "Condition 1           0\n",
       "Condition 2           0\n",
       "Bldg Type             0\n",
       "House Style           0\n",
       "Overall Qual          0\n",
       "Overall Cond          0\n",
       "Year Built            0\n",
       "Year Remod/Add        0\n",
       "Roof Style            0\n",
       "Roof Matl             0\n",
       "Exterior 1st          0\n",
       "Exterior 2nd          0\n",
       "Mas Vnr Type         22\n",
       "Mas Vnr Area         22\n",
       "Exter Qual            0\n",
       "Exter Cond            0\n",
       "Foundation            0\n",
       "Bsmt Qual            55\n",
       "Bsmt Cond            55\n",
       "Bsmt Exposure        58\n",
       "BsmtFin Type 1       55\n",
       "BsmtFin SF 1          1\n",
       "BsmtFin Type 2       56\n",
       "BsmtFin SF 2          1\n",
       "Bsmt Unf SF           1\n",
       "Total Bsmt SF         1\n",
       "Heating               0\n",
       "Heating QC            0\n",
       "Central Air           0\n",
       "Electrical            0\n",
       "1st Flr SF            0\n",
       "2nd Flr SF            0\n",
       "Low Qual Fin SF       0\n",
       "Gr Liv Area           0\n",
       "Bsmt Full Bath        2\n",
       "Bsmt Half Bath        2\n",
       "Full Bath             0\n",
       "Half Bath             0\n",
       "Bedroom AbvGr         0\n",
       "Kitchen AbvGr         0\n",
       "Kitchen Qual          0\n",
       "TotRms AbvGrd         0\n",
       "Functional            0\n",
       "Fireplaces            0\n",
       "Fireplace Qu       1000\n",
       "Garage Type         113\n",
       "Garage Yr Blt       114\n",
       "Garage Finish       114\n",
       "Garage Cars           1\n",
       "Garage Area           1\n",
       "Garage Qual         114\n",
       "Garage Cond         114\n",
       "Paved Drive           0\n",
       "Wood Deck SF          0\n",
       "Open Porch SF         0\n",
       "Enclosed Porch        0\n",
       "3Ssn Porch            0\n",
       "Screen Porch          0\n",
       "Pool Area             0\n",
       "Pool QC            2042\n",
       "Fence              1651\n",
       "Misc Feature       1986\n",
       "Misc Val              0\n",
       "Mo Sold               0\n",
       "Yr Sold               0\n",
       "Sale Type             0\n",
       "SalePrice             0\n",
       "dtype: int64"
      ]
     },
     "execution_count": 9,
     "metadata": {},
     "output_type": "execute_result"
    }
   ],
   "source": [
    "train_data.isnull().sum()"
   ]
  },
  {
   "cell_type": "code",
   "execution_count": null,
   "metadata": {},
   "outputs": [],
   "source": [
    "train_data['Lot Frontage'].sort_values(ascending = False).head()"
   ]
  },
  {
   "cell_type": "markdown",
   "metadata": {},
   "source": [
    "## Step 2: Cleaning and EDA"
   ]
  },
  {
   "cell_type": "markdown",
   "metadata": {},
   "source": [
    "Here we will be cleaning our training data set and then transforming our testing data. I've decided to keep most of my data that I found valuable and fill in the 'NAN' rows with values such as 'NA' or 0. Because while these values are null, it's still data that tells us something. I feel that it's more important to keep as much data as possible at this point and then narrow down as we figure out which variables affect our target. Let's investigate!"
   ]
  },
  {
   "cell_type": "code",
   "execution_count": null,
   "metadata": {},
   "outputs": [],
   "source": [
    "#changing year and month to date time\n",
    "train_data.rename(columns = {'Yr Sold': 'year', 'Mo Sold': 'month'}, inplace = True)"
   ]
  },
  {
   "cell_type": "code",
   "execution_count": null,
   "metadata": {},
   "outputs": [],
   "source": [
    "train_data['date'] = pd.to_datetime(train_data[['year', 'month']].assign(DAY=1))\n",
    "train_data.head()"
   ]
  },
  {
   "cell_type": "code",
   "execution_count": null,
   "metadata": {},
   "outputs": [],
   "source": [
    "train_data.drop(columns = ['PID', 'Garage Yr Blt','Pool QC', 'Fireplace Qu', 'Exterior 2nd'], axis = 1, inplace = True)\n",
    "#I'm making an assumption that if null values are high, they need to be dropped or filled"
   ]
  },
  {
   "cell_type": "code",
   "execution_count": null,
   "metadata": {},
   "outputs": [],
   "source": [
    "train_data.fillna({'Fence': 'na', 'Misc Feature': 'na', 'Alley': 'na', 'Garage Type': 'na', 'Garage Qual': 'na', 'Garage Cond':'na', 'Lot Frontage': 0}, inplace = True)"
   ]
  },
  {
   "cell_type": "code",
   "execution_count": null,
   "metadata": {},
   "outputs": [],
   "source": [
    "train_data.isnull().sum()"
   ]
  },
  {
   "cell_type": "code",
   "execution_count": null,
   "metadata": {},
   "outputs": [],
   "source": [
    "train_data.dropna(inplace = True)"
   ]
  },
  {
   "cell_type": "code",
   "execution_count": null,
   "metadata": {},
   "outputs": [],
   "source": [
    "train_data.shape"
   ]
  },
  {
   "cell_type": "markdown",
   "metadata": {},
   "source": [
    "## Let's get some descriptive stats about the home prices in the area"
   ]
  },
  {
   "cell_type": "code",
   "execution_count": null,
   "metadata": {},
   "outputs": [],
   "source": [
    "train_data['SalePrice'].round().mean() #price of average home in Ames IA"
   ]
  },
  {
   "cell_type": "code",
   "execution_count": null,
   "metadata": {},
   "outputs": [],
   "source": [
    "train_data['SalePrice'].median() #most popular price in Ames IA"
   ]
  },
  {
   "cell_type": "markdown",
   "metadata": {},
   "source": [
    "### Checking for outliers in our data\n",
    "\n",
    "We'll use a box plot here to see if we have any outliers in our Sale Price Column"
   ]
  },
  {
   "cell_type": "code",
   "execution_count": null,
   "metadata": {},
   "outputs": [],
   "source": [
    "sns.boxplot(train_data.SalePrice); #Seems like we have a few values that are outside of our data range. Seems like they are extremely huge houses"
   ]
  },
  {
   "cell_type": "markdown",
   "metadata": {},
   "source": [
    "**Seems like we have a few values that are outside of our data range.** \n",
    "\n",
    "**They seem to be huge houses but I don't feel that this will offset our data so I've decided to leave it in**"
   ]
  },
  {
   "cell_type": "markdown",
   "metadata": {},
   "source": [
    "I'd like to see the correlation to of square ft to the price. Will plot all my sq ft columns to see \n",
    "\n",
    "I'd also like to see how the discrete variables stack up to price"
   ]
  },
  {
   "cell_type": "code",
   "execution_count": null,
   "metadata": {},
   "outputs": [],
   "source": [
    "#create date column\n",
    "train_data.index = train_data['date']"
   ]
  },
  {
   "cell_type": "code",
   "execution_count": null,
   "metadata": {},
   "outputs": [],
   "source": [
    "train_data.index"
   ]
  },
  {
   "cell_type": "code",
   "execution_count": null,
   "metadata": {},
   "outputs": [],
   "source": [
    "x = train_data.index\n",
    "y = train_data['SalePrice']\n",
    "plt.figure(figsize=(10,10))\n",
    "sns.lineplot(x, y, size= 10)\n",
    "plt.xticks(size =8)\n",
    "plt.title('Sales price of homes in Ames, IA from 2006-2010')"
   ]
  },
  {
   "cell_type": "markdown",
   "metadata": {},
   "source": [
    "Findings:\n",
    "The graph is a little hard to read but it seems that overall, the price of homes in Ames, IA fluctuate between the 150k-250k mark showing that there are various markets in the Ames,IA area. There was also a sharp decline prices in January of 2008 which coincides with the great recession faced in the US at the time. The market did bounce back to historically high peaks in January 2009 in which it showcased high volatility. This was accompanied by a sharp decline about 5 months later."
   ]
  },
  {
   "cell_type": "code",
   "execution_count": null,
   "metadata": {},
   "outputs": [],
   "source": [
    "#Prices based on Neighborhoods\n",
    "plt.figure(figsize=(10,10))\n",
    "sns.barplot(x = 'Neighborhood', y= 'SalePrice', data = train_data)\n",
    "plt.xticks(size = 8, rotation = 25);"
   ]
  },
  {
   "cell_type": "markdown",
   "metadata": {},
   "source": [
    "## Findings:\n",
    "\n",
    "**Neighborhoods**\n",
    "\n",
    "- As far as pricing goes, the most expensive neighboorhoods is  Stone Br. A few other follow closely which are NridgHt, NoRidge and Grnhill. This means that the vlaues of homes in this area are worth more than other areas. Further analysis is required to see why these homes are values higher in these neighborhoods."
   ]
  },
  {
   "cell_type": "code",
   "execution_count": null,
   "metadata": {},
   "outputs": [],
   "source": [
    "plt.figure(figsize=(10,10))\n",
    "sns.barplot(x = 'Neighborhood', y= 'MS SubClass', data = train_data)\n",
    "plt.xticks(size = 8, rotation = 35)\n",
    "plt.title('Neighborhoods compared by MS Sub Class');"
   ]
  },
  {
   "cell_type": "markdown",
   "metadata": {},
   "source": [
    "## Findings:\n",
    "Homes in the Br Dale, MeadowV, and Landmark neighborhoods tend to be PUD's(Planned Unit Development) \n",
    "This means that these homes share common properties that everyone who lives in this type of community has access to. These neighborhoods can be classified as condominum or commercial type areas even if the home does look like a single family home. GrnHill and Greens neighborhoods are also classified as PUD's. The difference being that they are one story buildings as compared to the first 3 neighborhoods mentioned. \n",
    "\n",
    "Good to note that if a client is requesting to live in a \"shared ammenities\" space, these opitions would probably be of great interest to them."
   ]
  },
  {
   "cell_type": "code",
   "execution_count": null,
   "metadata": {},
   "outputs": [],
   "source": [
    "plt.figure(figsize=(10,10))\n",
    "sns.scatterplot(x ='BsmtFin Type 1', y = 'SalePrice', data = train_data);"
   ]
  },
  {
   "cell_type": "markdown",
   "metadata": {},
   "source": [
    "## Basement condition:\n",
    "While not super detailed, it seems that keeping the basement in good condition (GLQ) will garner the highest price of all categories."
   ]
  },
  {
   "cell_type": "code",
   "execution_count": null,
   "metadata": {},
   "outputs": [],
   "source": [
    "sns.barplot(x ='Garage Finish', y = 'SalePrice', data = train_data);"
   ]
  },
  {
   "cell_type": "markdown",
   "metadata": {},
   "source": [
    "## Garage Finishing:\n",
    "- A garage interior finish is also worth more in the Ames, IA area. On average, homes with an interior finished garage garner a sales price of almost $250,000."
   ]
  },
  {
   "cell_type": "code",
   "execution_count": null,
   "metadata": {},
   "outputs": [],
   "source": [
    "sns.barplot(x = 'Misc Feature', y = 'SalePrice', data = train_data);"
   ]
  },
  {
   "cell_type": "markdown",
   "metadata": {},
   "source": [
    "## Misc Feature\n",
    "- Tennis court seems to garner the highest price. It's also worth noting that homes without any Miscellaneous features still perform better than homes with shed, elevator and 2nd garage categories. This will be good news for homeowners who do not possess such features\n"
   ]
  },
  {
   "cell_type": "code",
   "execution_count": null,
   "metadata": {},
   "outputs": [],
   "source": [
    "sns.barplot(x = 'Paved Drive', y = 'SalePrice', data = train_data);"
   ]
  },
  {
   "cell_type": "markdown",
   "metadata": {},
   "source": [
    "## Paved Driveway:\n",
    "\n",
    "- A home with a paved driveway on average, is worth over 25% more than a partial driveway. We can advice clients to pave their driveways as it increases the likelihood of a higher Sale Price."
   ]
  },
  {
   "cell_type": "code",
   "execution_count": null,
   "metadata": {},
   "outputs": [],
   "source": [
    "#heating systems\n",
    "plt.figure(figsize=(10,10))\n",
    "sns.barplot(x = 'Heating', y= 'SalePrice', data = train_data);"
   ]
  },
  {
   "cell_type": "markdown",
   "metadata": {},
   "source": [
    "## Heating Systems:\n",
    "- As far as heating systems go, residents in Ames, IA tend to value 'Gas forced Warm Air' Furnance over the other types of heating sytems as the prices show.  "
   ]
  },
  {
   "cell_type": "code",
   "execution_count": null,
   "metadata": {},
   "outputs": [],
   "source": [
    "sns.barplot(x= 'Overall Qual', y= 'SalePrice', data = train_data);"
   ]
  },
  {
   "cell_type": "code",
   "execution_count": null,
   "metadata": {},
   "outputs": [],
   "source": [
    "#heatmap of all continous variables\n",
    "plt.figure(figsize=(15,25))\n",
    "sns.heatmap(train_data[['SalePrice', 'Open Porch SF', '3Ssn Porch', 'Screen Porch', 'Enclosed Porch', 'Wood Deck SF', 'Misc Val', 'Lot Frontage', 'Lot Area', 'Mas Vnr Area',\n",
    "                        'BsmtFin SF 1', 'BsmtFin SF 2', 'Bsmt Unf SF', 'Total Bsmt SF', '1st Flr SF', '2nd Flr SF', 'Low Qual Fin SF', 'Gr Liv Area', 'Garage Area']].corr(), annot=True);"
   ]
  },
  {
   "cell_type": "markdown",
   "metadata": {},
   "source": [
    "## Findings:\n",
    "- Gross living area is most closely correlated to price according to our heatmap. Garage Area is a close 2nd. While most homeowners can't increase their gross living area without shelling out a pretty penny, increasing the garage area might be the next best option."
   ]
  },
  {
   "cell_type": "markdown",
   "metadata": {},
   "source": [
    "## Step 3: Feature Engineering"
   ]
  },
  {
   "cell_type": "markdown",
   "metadata": {},
   "source": [
    "## Let's get some dummies !\n",
    "While this initial round looks decent, We still need to convert our categorical data in order to feed it into our models. We need to see how  our X coef [Features] affects our [Target], Saleprice.\n",
    "In order to do this. I will be creating dummy columns for a lot of our variables. "
   ]
  },
  {
   "cell_type": "code",
   "execution_count": null,
   "metadata": {
    "scrolled": true
   },
   "outputs": [],
   "source": [
    "train_data = pd.get_dummies(data = train_data, columns = [ \n",
    "                                                        'House Style', 'Bsmt Exposure', \n",
    "                                                        'Garage Cond','Street', 'Lot Config', \n",
    "                                                        'Neighborhood', 'Condition 1', 'Bldg Type', 'Roof Style', \n",
    "                                                        'Exter Cond', 'Foundation', 'Bsmt Qual','Bsmt Cond', \n",
    "                                                        'Kitchen Qual', 'Functional', 'Garage Type', 'Paved Drive',\n",
    "                                                        'Fence','Sale Type', 'Exter Qual', 'Garage Finish', 'Garage Qual',\n",
    "                                                        'Alley','Land Slope','Mas Vnr Type'])"
   ]
  },
  {
   "cell_type": "code",
   "execution_count": null,
   "metadata": {},
   "outputs": [],
   "source": [
    "train_data.shape"
   ]
  },
  {
   "cell_type": "markdown",
   "metadata": {},
   "source": [
    "# Step 4:  Modeling process"
   ]
  },
  {
   "cell_type": "code",
   "execution_count": null,
   "metadata": {},
   "outputs": [],
   "source": [
    "train_data.head()"
   ]
  },
  {
   "cell_type": "code",
   "execution_count": null,
   "metadata": {},
   "outputs": [],
   "source": [
    "train_data.drop(columns = ['MS Zoning', 'MS SubClass', \"Electrical\", \"BsmtFin Type 1\", \"BsmtFin Type 2\", 'Lot Shape', 'Condition 2', 'Heating', 'Street_Pave', 'Utilities',\n",
    "                          'Roof Matl', 'Central Air', 'Misc Feature', 'Exterior 1st', 'Land Contour', 'Heating QC'], inplace= True)"
   ]
  },
  {
   "cell_type": "markdown",
   "metadata": {},
   "source": [
    "# Instantiate!\n",
    "Now before we move any further, Now that we have dummified our columns. Let's see how this new data affects our target variable. Which is... Sale Price!.\n",
    "\n",
    "I'll be using a few regression models here to get the best predictions of homes in the Ames, IA area. Let's get started with Linear Regression."
   ]
  },
  {
   "cell_type": "code",
   "execution_count": null,
   "metadata": {},
   "outputs": [],
   "source": [
    "#creating X and Y variables\n",
    "Features = train_data.drop(['SalePrice','date', 'month', 'Id'], axis= 1)\n",
    "X = Features\n",
    "y = train_data ['SalePrice']\n",
    "sc = StandardScaler()\n",
    "\n",
    "#train test split\n",
    "X_train, X_test, y_train, y_test = train_test_split(X, y, train_size = 0.7, random_state = 42)\n",
    "X_train = sc.fit_transform(X_train)\n",
    "X_test = sc.fit_transform(X_test)"
   ]
  },
  {
   "cell_type": "code",
   "execution_count": null,
   "metadata": {},
   "outputs": [],
   "source": [
    "# instantiate Linear Regression model\n",
    "lr = LinearRegression()\n",
    "lr.fit(X_train,y_train)"
   ]
  },
  {
   "cell_type": "code",
   "execution_count": null,
   "metadata": {},
   "outputs": [],
   "source": [
    "#finding mean of our predicted values and true values\n",
    "y_hat = lr.predict(X)\n",
    "print(y_hat.mean())\n",
    "print(y.mean())"
   ]
  },
  {
   "cell_type": "code",
   "execution_count": null,
   "metadata": {},
   "outputs": [],
   "source": [
    "# calculating residuals\n",
    "resids = y - y_hat\n",
    "resids"
   ]
  },
  {
   "cell_type": "code",
   "execution_count": null,
   "metadata": {},
   "outputs": [],
   "source": [
    "plt.hist(resids);"
   ]
  },
  {
   "cell_type": "code",
   "execution_count": null,
   "metadata": {},
   "outputs": [],
   "source": [
    "print(lr.intercept_) \n",
    "print(lr.coef_[0])"
   ]
  },
  {
   "cell_type": "code",
   "execution_count": null,
   "metadata": {},
   "outputs": [],
   "source": [
    "#checking errors to see how off values are\n",
    "print('MAE:', metrics.mean_absolute_error(y, y_hat))\n",
    "print('MSE:', metrics.mean_squared_error(y, y_hat))\n",
    "print('RMSE:', np.sqrt(metrics.mean_squared_error(y, y_hat)))"
   ]
  },
  {
   "cell_type": "code",
   "execution_count": null,
   "metadata": {},
   "outputs": [],
   "source": [
    "#create coefficents dataframe\n",
    "coefs = pd.DataFrame({'column':X.columns, 'coef': lr.coef_}) \n",
    "coefs.tail(20)"
   ]
  },
  {
   "cell_type": "code",
   "execution_count": null,
   "metadata": {},
   "outputs": [],
   "source": [
    "#inital train and test scores\n",
    "print (lr.score(X_train, y_train))\n",
    "print (lr.score(X_test,y_test))"
   ]
  },
  {
   "cell_type": "code",
   "execution_count": null,
   "metadata": {},
   "outputs": [],
   "source": [
    "# Features = test_data[['Gr Liv Area', 'Overall Cond', 'Full Bath', 'Half Bath', 'Year Built', 'Bedroom AbvGr', 'Year Remod/Add', 'Kitchen AbvGr', 'Total Bsmt SF', 'Fireplaces', 'Garage Cars', '1st Flr SF', '2nd Flr SF']]\n",
    "# X_ = Features"
   ]
  },
  {
   "cell_type": "code",
   "execution_count": null,
   "metadata": {},
   "outputs": [],
   "source": [
    "# y_pred= lr.predict(X_)\n",
    "# y_pred"
   ]
  },
  {
   "cell_type": "code",
   "execution_count": null,
   "metadata": {},
   "outputs": [],
   "source": [
    "# test_data['SalePrice'] = y_pred\n",
    "# test_data['SalePrice']"
   ]
  },
  {
   "cell_type": "code",
   "execution_count": null,
   "metadata": {},
   "outputs": [],
   "source": [
    "# Kaggle_sub = test_data[['Id','SalePrice']]"
   ]
  },
  {
   "cell_type": "code",
   "execution_count": null,
   "metadata": {},
   "outputs": [],
   "source": [
    "# Kaggle_sub.to_csv('../datasets/Kaggle_sub.csv', index = False)"
   ]
  },
  {
   "cell_type": "markdown",
   "metadata": {},
   "source": [
    "## Let's do a Lasso Regression!"
   ]
  },
  {
   "cell_type": "code",
   "execution_count": null,
   "metadata": {},
   "outputs": [],
   "source": [
    "model = Lasso(alpha = .1)"
   ]
  },
  {
   "cell_type": "code",
   "execution_count": null,
   "metadata": {},
   "outputs": [],
   "source": [
    "model.fit(X_train, y_train)"
   ]
  },
  {
   "cell_type": "code",
   "execution_count": null,
   "metadata": {},
   "outputs": [],
   "source": [
    "model.score(X_train, y_train)"
   ]
  },
  {
   "cell_type": "code",
   "execution_count": null,
   "metadata": {},
   "outputs": [],
   "source": [
    "model.score(X_test, y_test)"
   ]
  },
  {
   "cell_type": "code",
   "execution_count": null,
   "metadata": {},
   "outputs": [],
   "source": [
    "coefs_1 = pd.DataFrame({'column':X.columns, 'coef': model.coef_})\n",
    "#relationship between our coefficients and target. \n",
    "#These represent the dollar value in price for every increase or decrease we have in each of these coefficents\n"
   ]
  },
  {
   "cell_type": "code",
   "execution_count": null,
   "metadata": {},
   "outputs": [],
   "source": [
    "#find highest negative coefficients\n",
    "\n",
    "coefs_1.loc[coefs_1['coef'] == 0].head(45)"
   ]
  },
  {
   "cell_type": "code",
   "execution_count": null,
   "metadata": {},
   "outputs": [],
   "source": [
    "from statsmodels.stats.outliers_influence import variance_inflation_factor\n",
    "\n",
    "def calc_vif(X):\n",
    "# works mainly for continous data\n",
    "    # Calculating VIF\n",
    "    vif = pd.DataFrame()\n",
    "    vif[\"variables\"] = X.columns\n",
    "    vif[\"VIF\"] = [variance_inflation_factor(X.values, i) for i in range(X.shape[1])]\n",
    "\n",
    "    return(vif)"
   ]
  },
  {
   "cell_type": "code",
   "execution_count": null,
   "metadata": {},
   "outputs": [],
   "source": [
    "VIF = calc_vif(X)\n"
   ]
  },
  {
   "cell_type": "code",
   "execution_count": null,
   "metadata": {},
   "outputs": [],
   "source": [
    "# #finisng correlation between independent variables\n",
    "# corr = train_data.corr()\n",
    "# c1 = corr.abs().unstack()\n",
    "# c1.sort_values(ascending = False)\n"
   ]
  },
  {
   "cell_type": "code",
   "execution_count": null,
   "metadata": {},
   "outputs": [],
   "source": [
    "VIF.iloc[0:50]"
   ]
  },
  {
   "cell_type": "code",
   "execution_count": null,
   "metadata": {},
   "outputs": [],
   "source": [
    "#getting OLS regression results to see which features are statistically significant by evaluating their p-value\n",
    "results = sm.OLS(y_test,X_test).fit()\n",
    "results.summary()  "
   ]
  },
  {
   "cell_type": "code",
   "execution_count": null,
   "metadata": {},
   "outputs": [],
   "source": [
    "train_data.drop(columns = ['Kitchen AbvGr', 'MS Zoning_C (all)', 'Condition 2_RRAe', 'Neighborhood_Landmrk', 'Roof Style_Mansard', 'Roof Matl_Tar&Grv', 'Roof Matl_WdShngl','Functional_Sev', 'Misc Feature_Elev',\n",
    "                          'Sale Type_ConLI', 'Exterior 1st_BrkComm', 'Exterior 1st_Stone', 'Land Slope_Sev'], inplace=True)"
   ]
  },
  {
   "cell_type": "raw",
   "metadata": {},
   "source": []
  },
  {
   "cell_type": "markdown",
   "metadata": {},
   "source": [
    "### Now let's try a Ridge Model"
   ]
  },
  {
   "cell_type": "code",
   "execution_count": null,
   "metadata": {},
   "outputs": [],
   "source": [
    "# Instantiate.\n",
    "ridge_model = Ridge(alpha=0.1)\n",
    "\n",
    "# Fit.\n",
    "ridge_model.fit(X_train, y_train)\n",
    "\n",
    "# print R2 scores\n",
    "print(f'The ridge train score is: {ridge_model.score(X_train, y_train)}')\n",
    "print(f'The ridge test score is :{ridge_model.score(X_test, y_test)}')"
   ]
  },
  {
   "cell_type": "code",
   "execution_count": null,
   "metadata": {},
   "outputs": [],
   "source": [
    "ridge = pd.DataFrame({'column':X.columns, 'coef': ridge_model.coef_}) \n",
    "ridge.loc[ridge['coef'] == 0]"
   ]
  },
  {
   "cell_type": "code",
   "execution_count": null,
   "metadata": {},
   "outputs": [],
   "source": [
    "pred = ridge_model.predict(X)"
   ]
  },
  {
   "cell_type": "code",
   "execution_count": null,
   "metadata": {},
   "outputs": [],
   "source": [
    "residuals = y - pred\n",
    "residuals.mean()  #difference in true Sales price vs predicted sales price"
   ]
  },
  {
   "cell_type": "code",
   "execution_count": null,
   "metadata": {},
   "outputs": [],
   "source": [
    "metrics.r2_score(y, pred) #this would be how much my predictions are off by"
   ]
  },
  {
   "cell_type": "markdown",
   "metadata": {},
   "source": [
    "# Step 5:  Overall Findings:\n",
    "\n",
    "So all three models seemed to score between a range of 90-93% between the training and testing data. I did notice that my linear and lasso models made it difficult to see which variables are strongly correlated with price\n",
    "\n",
    "However with my Ridge Model, I can clearly see which variable is affecting price and can give recommendations as well! So Ridge is the model we will stick with."
   ]
  },
  {
   "cell_type": "markdown",
   "metadata": {},
   "source": [
    "# Step 6: Recommendations!\n",
    "\n",
    "So after our findings we can now recommed a few things that our elderly patients can do to increase the value of their home\n",
    "\n",
    "In our EDA, square footage happened to be one of the biggest drivers of price. Looking at our Ridge model coefficients, we can see this proves to be true. \n",
    "\n",
    "Lot Area, Gross Living Area, 1st and 2nd floor and total basement square footage carry added average value of over **$10,000** in value. \n",
    "\n",
    "Now it's completely understandable if our clients would be reluctant to accept this recommendation because it's not an easy thing to just add additional square footage!\n",
    "\n",
    "**So what other options do we have?**\n",
    "\n",
    "***Improving Overall condition and quality and exterior quality***\n",
    "\n",
    "-Keeping the overal condition and quality and exterior quality of your home can add value as well! Approximately, **$7,000** to be exact! So just keeping the house in overall good condition and the quality of material that is used in the house in good shape is key!\n",
    "\n",
    "**Misc Features**\n",
    "\n",
    "- Adding some miscellaneous features such as a Shed or a garage can add up up to $800 on average\n",
    "\n",
    "**Garage**\n",
    "\n",
    "- Add another car garage or adding some square footage to your current garage area can add a value between **$ 2000- $4000** \n",
    "\n",
    "**Paved Driveway** \n",
    "\n",
    "- Having a paved driveway can add up to $500 dollars in value as well\n",
    "\n",
    "**Porch**\n",
    "\n",
    "- A screen porch, which can be added towards the rear of your home, can add up to **$3000** in value!\n",
    "\n",
    "**Fence Minimum Privacy**\n",
    "\n",
    "- Adding just a little fence privacy can increase the value  \n",
    "\n",
    "**Kitchen quality** \n",
    "\n",
    "-Kepping your kitchen in 'Excellent' shape also carries about a **$5000** increase in value of your home\n",
    "\n",
    "**Roof Matl_CompShg**\n",
    "\n",
    "- Compound shingle roofs adds an additional $2095 in value\n",
    "\n",
    "**Neighborhoods**\n",
    "\n",
    "- StoneBr, Nridght, NoRidge, Somertst are among some of the neighborhoods have the highest value. So if you're home falls within those areas, an additional $2-3k in value can be added to your home.  \n"
   ]
  },
  {
   "cell_type": "markdown",
   "metadata": {},
   "source": [
    "# Summary:\n",
    "\n",
    "- While these models do provide a baseline as to understanding the Ames, IA real estate market, we cannot accurately use these models as effectively to predict price.\n",
    "\n",
    "- As seen from our R2 results, the model was very much off on the prices it predicted. \n",
    "\n",
    "- This is simply because there's just information that we do not know that hasn't been included in our data. Or we may have too much data even though our Lasso, Linear and Ridge models all performed well on the test data. This was an important lesson in realizing that the scores of the model is not always the best predictor. We should focus more on the RMSE or MSE in this case. \n",
    "\n",
    "- As a final word of advice, we highly recommend working with local and knowledgeable Realtors in the area. Our model was a good start in obtaining value of certain features in a home, but it is not the end be all solution.\n",
    "\n",
    "Thank you!\n",
    "\n"
   ]
  },
  {
   "cell_type": "code",
   "execution_count": null,
   "metadata": {},
   "outputs": [],
   "source": []
  }
 ],
 "metadata": {
  "kernelspec": {
   "display_name": "Python 3",
   "language": "python",
   "name": "python3"
  },
  "language_info": {
   "codemirror_mode": {
    "name": "ipython",
    "version": 3
   },
   "file_extension": ".py",
   "mimetype": "text/x-python",
   "name": "python",
   "nbconvert_exporter": "python",
   "pygments_lexer": "ipython3",
   "version": "3.7.7"
  }
 },
 "nbformat": 4,
 "nbformat_minor": 4
}
