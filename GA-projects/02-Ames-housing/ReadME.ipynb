{
 "cells": [
  {
   "cell_type": "markdown",
   "metadata": {},
   "source": [
    "## Problem Statement:\n",
    "A new real estate company, One World Realty has emerged in Ames, IA and is interested in taking some market share from existing brokerage companies. There's been reports that these companies have been over listing previous sellers properties and thus leaving the sellers frustrated as they end up with less money than expected once the property closes and the keys are transfered to the new owners. \n",
    "\n",
    "One World Realty is planning on bridging this gap by managing sellers expectations on what their homes are worth. To do this we will use data from the county's assesor's office to build a model that can predict prices of homes in the area. \n",
    "\n",
    "In addition to using this model and offering exceptional service, the goal is have more sellers wishing to list their homes with this brokerage. \n",
    "\n",
    "\n",
    "\n",
    "**GOALS**:\n",
    "\n",
    "In this notebook, I am taking you through my steps of how I use the Ames housing data set to predict the price of homes in the Iowa area.\n",
    "\n",
    "We will be exploring a few models in order to reach our goal of predicting price.\n",
    "\n",
    "We will be looking at: -Linear Regression Models -Lasso Models -Ridge Models\n",
    "\n",
    "After evaluating these three models, we will compare these models and select which model works the best in acheving our goal."
   ]
  },
  {
   "cell_type": "markdown",
   "metadata": {},
   "source": [
    "# Data Dictionary:\n",
    "\n",
    "A copy of the data dictonary used in this project can be found at the link below. This will give insight as to what each column and their values mean\n",
    "\n",
    "http://jse.amstat.org/v19n3/decock/DataDocumentation.txt"
   ]
  },
  {
   "cell_type": "markdown",
   "metadata": {},
   "source": [
    "# Next up: Data Cleaning, EDA and Modeling!"
   ]
  },
  {
   "cell_type": "markdown",
   "metadata": {},
   "source": [
    "These steps can all be found in the notebook attached"
   ]
  },
  {
   "cell_type": "markdown",
   "metadata": {},
   "source": [
    "# Overall Findings:\n",
    "\n",
    "So all three models seemed to score between a range of 90-93% between the training and testing data. I did notice that my linear and lasso models made it difficult to see which variables are strongly correlated with price\n",
    "\n",
    "However with my Ridge Model, I can clearly see which variable is affecting price and can give recommendations as well! So Ridge is the model we will stick with."
   ]
  },
  {
   "cell_type": "markdown",
   "metadata": {},
   "source": [
    "# Recommendations!¶\n",
    "\n",
    "So after our findings we can now recommed a few things that our elderly patients can do to increase the value of their home\n",
    "\n",
    "In our EDA, square footage happened to be one of the biggest drivers of price. Looking at our Ridge model coefficients, we can see this proves to be true.\n",
    "\n",
    "Lot Area, Gross Living Area, 1st and 2nd floor and total basement square footage carry added average value of over $10,000 in value.\n",
    "\n",
    "Now it's completely understandable if our clients would be reluctant to accept this recommendation because it's not an easy thing to just add additional square footage!\n",
    "\n",
    "So what other options do we have?\n",
    "\n",
    "Improving Overall condition and quality and exterior quality\n",
    "\n",
    "-Keeping the overal condition and quality and exterior quality of your home can add value as well! Approximately, $7,000 to be exact! So just keeping the house in overall good condition and the quality of material that is used in the house in good shape is key!\n",
    "\n",
    "Misc Features\n",
    "\n",
    "Adding some miscellaneous features such as a Shed or a garage can add up up to $800 on average\n",
    "Garage\n",
    "\n",
    "Add another car garage or adding some square footage to your current garage area can add a value between  2000− 4000\n",
    "Paved Driveway\n",
    "\n",
    "Having a paved driveway can add up to $500 dollars in value as well\n",
    "Porch\n",
    "\n",
    "A screen porch, which can be added towards the rear of your home, can add up to $3000 in value!\n",
    "Fence Minimum Privacy\n",
    "\n",
    "Adding just a little fence privacy can increase the value\n",
    "Kitchen quality\n",
    "\n",
    "-Kepping your kitchen in 'Excellent' shape also carries about a $5000 increase in value of your home\n",
    "\n",
    "Roof Matl_CompShg\n",
    "\n",
    "Compound shingle roofs adds an additional $2095 in value\n",
    "Neighborhoods\n",
    "\n",
    "StoneBr, Nridght, NoRidge, Somertst are among some of the neighborhoods have the highest value. So if you're home falls within those areas, an additional $2-3k in value can be added to your home."
   ]
  },
  {
   "cell_type": "markdown",
   "metadata": {},
   "source": [
    "# Summary:\n",
    "\n",
    "While these models do provide a baseline as to understanding the Ames, IA real estate market, we cannot accurately use these models as effectively to predict price.\n",
    "\n",
    "As seen from our R2 results, the model was very much off on the prices it predicted.\n",
    "\n",
    "This is simply because there's just information that we do not know that hasn't been included in our data. Or we may have too much data even though our Lasso, Linear and Ridge models all performed well on the test data. This was an important lesson in realizing that the scores of the model is not always the\n",
    "\n",
    "As a final word of advice, we highly recommend working with local and knowledgeable Realtors in the area. Our model was a good start in obtaining value of certain features in a home, but it is not the end be all solution."
   ]
  },
  {
   "cell_type": "code",
   "execution_count": null,
   "metadata": {},
   "outputs": [],
   "source": []
  }
 ],
 "metadata": {
  "kernelspec": {
   "display_name": "Python 3",
   "language": "python",
   "name": "python3"
  },
  "language_info": {
   "codemirror_mode": {
    "name": "ipython",
    "version": 3
   },
   "file_extension": ".py",
   "mimetype": "text/x-python",
   "name": "python",
   "nbconvert_exporter": "python",
   "pygments_lexer": "ipython3",
   "version": "3.7.7"
  }
 },
 "nbformat": 4,
 "nbformat_minor": 4
}
