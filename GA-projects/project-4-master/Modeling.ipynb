{
 "cells": [
  {
   "cell_type": "code",
   "execution_count": 47,
   "metadata": {},
   "outputs": [],
   "source": [
    "\n",
    "import pandas as pd\n",
    "import numpy as np\n",
    "import matplotlib.pyplot as plt\n",
    "import seaborn as sns\n",
    "from sklearn.linear_model import LogisticRegression\n",
    "from sklearn.neighbors import KNeighborsClassifier\n",
    "from sklearn.tree import DecisionTreeClassifier\n",
    "from sklearn.ensemble import BaggingClassifier, AdaBoostClassifier, RandomForestClassifier, VotingClassifier\n",
    "from sklearn.svm import SVC\n",
    "from sklearn.model_selection import train_test_split, cross_val_score\n",
    "from sklearn.preprocessing import StandardScaler\n",
    "from sklearn.pipeline import Pipeline\n",
    "from sklearn.metrics import plot_confusion_matrix, confusion_matrix, f1_score\n",
    "from sklearn.feature_extraction.text import CountVectorizer, TfidfVectorizer"
   ]
  },
  {
   "cell_type": "code",
   "execution_count": 2,
   "metadata": {},
   "outputs": [],
   "source": [
    "#allows all columns to be scrolled\n",
    "pd.set_option('display.max_columns', None)\n",
    "\n",
    "# Source:https://stackoverflow.com/questions/47022070/display-all-dataframe-columns-in-a-jupyter-python-notebook/47022213 "
   ]
  },
  {
   "cell_type": "markdown",
   "metadata": {},
   "source": [
    "## Read in data\n"
   ]
  },
  {
   "cell_type": "code",
   "execution_count": 3,
   "metadata": {},
   "outputs": [
    {
     "data": {
      "text/html": [
       "<div>\n",
       "<style scoped>\n",
       "    .dataframe tbody tr th:only-of-type {\n",
       "        vertical-align: middle;\n",
       "    }\n",
       "\n",
       "    .dataframe tbody tr th {\n",
       "        vertical-align: top;\n",
       "    }\n",
       "\n",
       "    .dataframe thead th {\n",
       "        text-align: right;\n",
       "    }\n",
       "</style>\n",
       "<table border=\"1\" class=\"dataframe\">\n",
       "  <thead>\n",
       "    <tr style=\"text-align: right;\">\n",
       "      <th></th>\n",
       "      <th>age</th>\n",
       "      <th>workclass</th>\n",
       "      <th>fnlwgt</th>\n",
       "      <th>education</th>\n",
       "      <th>education-num</th>\n",
       "      <th>marital-status</th>\n",
       "      <th>occupation</th>\n",
       "      <th>relationship</th>\n",
       "      <th>sex</th>\n",
       "      <th>capital-gain</th>\n",
       "      <th>capital-loss</th>\n",
       "      <th>hours-per-week</th>\n",
       "      <th>native-country</th>\n",
       "      <th>wage</th>\n",
       "    </tr>\n",
       "  </thead>\n",
       "  <tbody>\n",
       "    <tr>\n",
       "      <th>0</th>\n",
       "      <td>39</td>\n",
       "      <td>State-gov</td>\n",
       "      <td>77516</td>\n",
       "      <td>Bachelors</td>\n",
       "      <td>13</td>\n",
       "      <td>Never-married</td>\n",
       "      <td>Adm-clerical</td>\n",
       "      <td>Not-in-family</td>\n",
       "      <td>Male</td>\n",
       "      <td>2174</td>\n",
       "      <td>0</td>\n",
       "      <td>40</td>\n",
       "      <td>United-States</td>\n",
       "      <td>0</td>\n",
       "    </tr>\n",
       "    <tr>\n",
       "      <th>1</th>\n",
       "      <td>50</td>\n",
       "      <td>Self-emp-not-inc</td>\n",
       "      <td>83311</td>\n",
       "      <td>Bachelors</td>\n",
       "      <td>13</td>\n",
       "      <td>Married-civ-spouse</td>\n",
       "      <td>Exec-managerial</td>\n",
       "      <td>Husband</td>\n",
       "      <td>Male</td>\n",
       "      <td>0</td>\n",
       "      <td>0</td>\n",
       "      <td>13</td>\n",
       "      <td>United-States</td>\n",
       "      <td>0</td>\n",
       "    </tr>\n",
       "    <tr>\n",
       "      <th>2</th>\n",
       "      <td>38</td>\n",
       "      <td>Private</td>\n",
       "      <td>215646</td>\n",
       "      <td>HS-grad</td>\n",
       "      <td>9</td>\n",
       "      <td>Divorced</td>\n",
       "      <td>Handlers-cleaners</td>\n",
       "      <td>Not-in-family</td>\n",
       "      <td>Male</td>\n",
       "      <td>0</td>\n",
       "      <td>0</td>\n",
       "      <td>40</td>\n",
       "      <td>United-States</td>\n",
       "      <td>0</td>\n",
       "    </tr>\n",
       "    <tr>\n",
       "      <th>3</th>\n",
       "      <td>53</td>\n",
       "      <td>Private</td>\n",
       "      <td>234721</td>\n",
       "      <td>11th</td>\n",
       "      <td>7</td>\n",
       "      <td>Married-civ-spouse</td>\n",
       "      <td>Handlers-cleaners</td>\n",
       "      <td>Husband</td>\n",
       "      <td>Male</td>\n",
       "      <td>0</td>\n",
       "      <td>0</td>\n",
       "      <td>40</td>\n",
       "      <td>United-States</td>\n",
       "      <td>0</td>\n",
       "    </tr>\n",
       "    <tr>\n",
       "      <th>4</th>\n",
       "      <td>28</td>\n",
       "      <td>Private</td>\n",
       "      <td>338409</td>\n",
       "      <td>Bachelors</td>\n",
       "      <td>13</td>\n",
       "      <td>Married-civ-spouse</td>\n",
       "      <td>Prof-specialty</td>\n",
       "      <td>Wife</td>\n",
       "      <td>Female</td>\n",
       "      <td>0</td>\n",
       "      <td>0</td>\n",
       "      <td>40</td>\n",
       "      <td>Cuba</td>\n",
       "      <td>0</td>\n",
       "    </tr>\n",
       "  </tbody>\n",
       "</table>\n",
       "</div>"
      ],
      "text/plain": [
       "   age         workclass  fnlwgt  education  education-num  \\\n",
       "0   39         State-gov   77516  Bachelors             13   \n",
       "1   50  Self-emp-not-inc   83311  Bachelors             13   \n",
       "2   38           Private  215646    HS-grad              9   \n",
       "3   53           Private  234721       11th              7   \n",
       "4   28           Private  338409  Bachelors             13   \n",
       "\n",
       "       marital-status         occupation   relationship     sex  capital-gain  \\\n",
       "0       Never-married       Adm-clerical  Not-in-family    Male          2174   \n",
       "1  Married-civ-spouse    Exec-managerial        Husband    Male             0   \n",
       "2            Divorced  Handlers-cleaners  Not-in-family    Male             0   \n",
       "3  Married-civ-spouse  Handlers-cleaners        Husband    Male             0   \n",
       "4  Married-civ-spouse     Prof-specialty           Wife  Female             0   \n",
       "\n",
       "   capital-loss  hours-per-week native-country  wage  \n",
       "0             0              40  United-States     0  \n",
       "1             0              13  United-States     0  \n",
       "2             0              40  United-States     0  \n",
       "3             0              40  United-States     0  \n",
       "4             0              40           Cuba     0  "
      ]
     },
     "execution_count": 3,
     "metadata": {},
     "output_type": "execute_result"
    }
   ],
   "source": [
    "income = pd.read_csv('./data/train_cleaned.csv')\n",
    "income.head()"
   ]
  },
  {
   "cell_type": "markdown",
   "metadata": {},
   "source": [
    "#### Columns to run\n",
    "`Age`, `workclass`, `occupation`, `edu_num`, `hours per week`"
   ]
  },
  {
   "cell_type": "markdown",
   "metadata": {},
   "source": [
    "# Feature Engineering"
   ]
  },
  {
   "cell_type": "markdown",
   "metadata": {},
   "source": [
    "### Target Encoding"
   ]
  },
  {
   "cell_type": "code",
   "execution_count": 4,
   "metadata": {},
   "outputs": [
    {
     "name": "stderr",
     "output_type": "stream",
     "text": [
      "/Users/macbookair/opt/anaconda3/lib/python3.7/site-packages/category_encoders/utils.py:21: FutureWarning: is_categorical is deprecated and will be removed in a future version.  Use is_categorical_dtype instead\n",
      "  elif pd.api.types.is_categorical(cols):\n",
      "/Users/macbookair/opt/anaconda3/lib/python3.7/site-packages/category_encoders/utils.py:21: FutureWarning: is_categorical is deprecated and will be removed in a future version.  Use is_categorical_dtype instead\n",
      "  elif pd.api.types.is_categorical(cols):\n",
      "/Users/macbookair/opt/anaconda3/lib/python3.7/site-packages/category_encoders/utils.py:21: FutureWarning: is_categorical is deprecated and will be removed in a future version.  Use is_categorical_dtype instead\n",
      "  elif pd.api.types.is_categorical(cols):\n",
      "/Users/macbookair/opt/anaconda3/lib/python3.7/site-packages/category_encoders/utils.py:21: FutureWarning: is_categorical is deprecated and will be removed in a future version.  Use is_categorical_dtype instead\n",
      "  elif pd.api.types.is_categorical(cols):\n",
      "/Users/macbookair/opt/anaconda3/lib/python3.7/site-packages/category_encoders/utils.py:21: FutureWarning: is_categorical is deprecated and will be removed in a future version.  Use is_categorical_dtype instead\n",
      "  elif pd.api.types.is_categorical(cols):\n"
     ]
    }
   ],
   "source": [
    "# target encode the following columns\n",
    "encode_columns = ['workclass', 'education', 'marital-status', 'occupation', 'native-country']\n",
    "\n",
    "for col in encode_columns:\n",
    "    encoder = TargetEncoder()\n",
    "    income[f'{col}_encode'] = encoder.fit_transform(income[col], income['wage'])"
   ]
  },
  {
   "cell_type": "markdown",
   "metadata": {},
   "source": [
    "### Binarize `sex`"
   ]
  },
  {
   "cell_type": "code",
   "execution_count": 5,
   "metadata": {},
   "outputs": [],
   "source": [
    "# Binarize the sex column\n",
    "income['sex'] = np.where(income['sex']=='Male', 1, 0)"
   ]
  },
  {
   "cell_type": "markdown",
   "metadata": {},
   "source": [
    "## Polynomial Features"
   ]
  },
  {
   "cell_type": "markdown",
   "metadata": {},
   "source": [
    "### Sample Weight column"
   ]
  },
  {
   "cell_type": "code",
   "execution_count": 6,
   "metadata": {},
   "outputs": [],
   "source": [
    "# Creating a sample weight column\n",
    "income['smpl_wgt'] = income['fnlwgt'].apply(lambda x: x / income['fnlwgt'].sum())"
   ]
  },
  {
   "cell_type": "code",
   "execution_count": 7,
   "metadata": {},
   "outputs": [
    {
     "data": {
      "text/html": [
       "<div>\n",
       "<style scoped>\n",
       "    .dataframe tbody tr th:only-of-type {\n",
       "        vertical-align: middle;\n",
       "    }\n",
       "\n",
       "    .dataframe tbody tr th {\n",
       "        vertical-align: top;\n",
       "    }\n",
       "\n",
       "    .dataframe thead th {\n",
       "        text-align: right;\n",
       "    }\n",
       "</style>\n",
       "<table border=\"1\" class=\"dataframe\">\n",
       "  <thead>\n",
       "    <tr style=\"text-align: right;\">\n",
       "      <th></th>\n",
       "      <th>age</th>\n",
       "      <th>hours-per-week</th>\n",
       "      <th>education-num</th>\n",
       "      <th>age^2</th>\n",
       "      <th>age hours-per-week</th>\n",
       "      <th>age education-num</th>\n",
       "      <th>hours-per-week^2</th>\n",
       "      <th>hours-per-week education-num</th>\n",
       "      <th>education-num^2</th>\n",
       "    </tr>\n",
       "  </thead>\n",
       "  <tbody>\n",
       "    <tr>\n",
       "      <th>0</th>\n",
       "      <td>39.0</td>\n",
       "      <td>40.0</td>\n",
       "      <td>13.0</td>\n",
       "      <td>1521.0</td>\n",
       "      <td>1560.0</td>\n",
       "      <td>507.0</td>\n",
       "      <td>1600.0</td>\n",
       "      <td>520.0</td>\n",
       "      <td>169.0</td>\n",
       "    </tr>\n",
       "    <tr>\n",
       "      <th>1</th>\n",
       "      <td>50.0</td>\n",
       "      <td>13.0</td>\n",
       "      <td>13.0</td>\n",
       "      <td>2500.0</td>\n",
       "      <td>650.0</td>\n",
       "      <td>650.0</td>\n",
       "      <td>169.0</td>\n",
       "      <td>169.0</td>\n",
       "      <td>169.0</td>\n",
       "    </tr>\n",
       "    <tr>\n",
       "      <th>2</th>\n",
       "      <td>38.0</td>\n",
       "      <td>40.0</td>\n",
       "      <td>9.0</td>\n",
       "      <td>1444.0</td>\n",
       "      <td>1520.0</td>\n",
       "      <td>342.0</td>\n",
       "      <td>1600.0</td>\n",
       "      <td>360.0</td>\n",
       "      <td>81.0</td>\n",
       "    </tr>\n",
       "  </tbody>\n",
       "</table>\n",
       "</div>"
      ],
      "text/plain": [
       "    age  hours-per-week  education-num   age^2  age hours-per-week  \\\n",
       "0  39.0            40.0           13.0  1521.0              1560.0   \n",
       "1  50.0            13.0           13.0  2500.0               650.0   \n",
       "2  38.0            40.0            9.0  1444.0              1520.0   \n",
       "\n",
       "   age education-num  hours-per-week^2  hours-per-week education-num  \\\n",
       "0              507.0            1600.0                         520.0   \n",
       "1              650.0             169.0                         169.0   \n",
       "2              342.0            1600.0                         360.0   \n",
       "\n",
       "   education-num^2  \n",
       "0            169.0  \n",
       "1            169.0  \n",
       "2             81.0  "
      ]
     },
     "execution_count": 7,
     "metadata": {},
     "output_type": "execute_result"
    }
   ],
   "source": [
    "features = ['age', 'hours-per-week', 'education-num']\n",
    "\n",
    "X = income[features]                              \n",
    "poly = PolynomialFeatures(include_bias=False)                      \n",
    "X_poly = poly.fit_transform(X)       \n",
    "\n",
    "poly_features = pd.DataFrame(X_poly, columns=poly.get_feature_names(features))\n",
    "poly_features.head(3)"
   ]
  },
  {
   "cell_type": "code",
   "execution_count": 8,
   "metadata": {},
   "outputs": [],
   "source": [
    "#join\n",
    "income = income.join(poly_features.drop(columns = ['age', 'hours-per-week', 'education-num'], axis = 1), how = 'left')"
   ]
  },
  {
   "cell_type": "code",
   "execution_count": 12,
   "metadata": {},
   "outputs": [],
   "source": [
    "income_final = income._get_numeric_data()"
   ]
  },
  {
   "cell_type": "code",
   "execution_count": 13,
   "metadata": {},
   "outputs": [],
   "source": [
    "# Log age\n",
    "income_final['log_age'] = np.log(income_final['age'])"
   ]
  },
  {
   "cell_type": "code",
   "execution_count": 14,
   "metadata": {},
   "outputs": [
    {
     "data": {
      "text/html": [
       "<div>\n",
       "<style scoped>\n",
       "    .dataframe tbody tr th:only-of-type {\n",
       "        vertical-align: middle;\n",
       "    }\n",
       "\n",
       "    .dataframe tbody tr th {\n",
       "        vertical-align: top;\n",
       "    }\n",
       "\n",
       "    .dataframe thead th {\n",
       "        text-align: right;\n",
       "    }\n",
       "</style>\n",
       "<table border=\"1\" class=\"dataframe\">\n",
       "  <thead>\n",
       "    <tr style=\"text-align: right;\">\n",
       "      <th></th>\n",
       "      <th>age</th>\n",
       "      <th>fnlwgt</th>\n",
       "      <th>education-num</th>\n",
       "      <th>sex</th>\n",
       "      <th>capital-gain</th>\n",
       "      <th>capital-loss</th>\n",
       "      <th>hours-per-week</th>\n",
       "      <th>wage</th>\n",
       "      <th>workclass_encode</th>\n",
       "      <th>education_encode</th>\n",
       "      <th>marital-status_encode</th>\n",
       "      <th>occupation_encode</th>\n",
       "      <th>native-country_encode</th>\n",
       "      <th>smpl_wgt</th>\n",
       "      <th>age^2</th>\n",
       "      <th>age hours-per-week</th>\n",
       "      <th>age education-num</th>\n",
       "      <th>hours-per-week^2</th>\n",
       "      <th>hours-per-week education-num</th>\n",
       "      <th>education-num^2</th>\n",
       "      <th>log_age</th>\n",
       "    </tr>\n",
       "  </thead>\n",
       "  <tbody>\n",
       "    <tr>\n",
       "      <th>0</th>\n",
       "      <td>39</td>\n",
       "      <td>77516</td>\n",
       "      <td>13</td>\n",
       "      <td>1</td>\n",
       "      <td>2174</td>\n",
       "      <td>0</td>\n",
       "      <td>40</td>\n",
       "      <td>0</td>\n",
       "      <td>0.271957</td>\n",
       "      <td>0.414753</td>\n",
       "      <td>0.045961</td>\n",
       "      <td>0.134483</td>\n",
       "      <td>0.245835</td>\n",
       "      <td>0.000013</td>\n",
       "      <td>1521.0</td>\n",
       "      <td>1560.0</td>\n",
       "      <td>507.0</td>\n",
       "      <td>1600.0</td>\n",
       "      <td>520.0</td>\n",
       "      <td>169.0</td>\n",
       "      <td>3.663562</td>\n",
       "    </tr>\n",
       "    <tr>\n",
       "      <th>1</th>\n",
       "      <td>50</td>\n",
       "      <td>83311</td>\n",
       "      <td>13</td>\n",
       "      <td>1</td>\n",
       "      <td>0</td>\n",
       "      <td>0</td>\n",
       "      <td>13</td>\n",
       "      <td>0</td>\n",
       "      <td>0.284927</td>\n",
       "      <td>0.414753</td>\n",
       "      <td>0.446848</td>\n",
       "      <td>0.484014</td>\n",
       "      <td>0.245835</td>\n",
       "      <td>0.000013</td>\n",
       "      <td>2500.0</td>\n",
       "      <td>650.0</td>\n",
       "      <td>650.0</td>\n",
       "      <td>169.0</td>\n",
       "      <td>169.0</td>\n",
       "      <td>169.0</td>\n",
       "      <td>3.912023</td>\n",
       "    </tr>\n",
       "    <tr>\n",
       "      <th>2</th>\n",
       "      <td>38</td>\n",
       "      <td>215646</td>\n",
       "      <td>9</td>\n",
       "      <td>1</td>\n",
       "      <td>0</td>\n",
       "      <td>0</td>\n",
       "      <td>40</td>\n",
       "      <td>0</td>\n",
       "      <td>0.218673</td>\n",
       "      <td>0.159509</td>\n",
       "      <td>0.104209</td>\n",
       "      <td>0.062774</td>\n",
       "      <td>0.245835</td>\n",
       "      <td>0.000035</td>\n",
       "      <td>1444.0</td>\n",
       "      <td>1520.0</td>\n",
       "      <td>342.0</td>\n",
       "      <td>1600.0</td>\n",
       "      <td>360.0</td>\n",
       "      <td>81.0</td>\n",
       "      <td>3.637586</td>\n",
       "    </tr>\n",
       "    <tr>\n",
       "      <th>3</th>\n",
       "      <td>53</td>\n",
       "      <td>234721</td>\n",
       "      <td>7</td>\n",
       "      <td>1</td>\n",
       "      <td>0</td>\n",
       "      <td>0</td>\n",
       "      <td>40</td>\n",
       "      <td>0</td>\n",
       "      <td>0.218673</td>\n",
       "      <td>0.051064</td>\n",
       "      <td>0.446848</td>\n",
       "      <td>0.062774</td>\n",
       "      <td>0.245835</td>\n",
       "      <td>0.000038</td>\n",
       "      <td>2809.0</td>\n",
       "      <td>2120.0</td>\n",
       "      <td>371.0</td>\n",
       "      <td>1600.0</td>\n",
       "      <td>280.0</td>\n",
       "      <td>49.0</td>\n",
       "      <td>3.970292</td>\n",
       "    </tr>\n",
       "    <tr>\n",
       "      <th>4</th>\n",
       "      <td>28</td>\n",
       "      <td>338409</td>\n",
       "      <td>13</td>\n",
       "      <td>0</td>\n",
       "      <td>0</td>\n",
       "      <td>0</td>\n",
       "      <td>40</td>\n",
       "      <td>0</td>\n",
       "      <td>0.218673</td>\n",
       "      <td>0.414753</td>\n",
       "      <td>0.446848</td>\n",
       "      <td>0.449034</td>\n",
       "      <td>0.263158</td>\n",
       "      <td>0.000055</td>\n",
       "      <td>784.0</td>\n",
       "      <td>1120.0</td>\n",
       "      <td>364.0</td>\n",
       "      <td>1600.0</td>\n",
       "      <td>520.0</td>\n",
       "      <td>169.0</td>\n",
       "      <td>3.332205</td>\n",
       "    </tr>\n",
       "  </tbody>\n",
       "</table>\n",
       "</div>"
      ],
      "text/plain": [
       "   age  fnlwgt  education-num  sex  capital-gain  capital-loss  \\\n",
       "0   39   77516             13    1          2174             0   \n",
       "1   50   83311             13    1             0             0   \n",
       "2   38  215646              9    1             0             0   \n",
       "3   53  234721              7    1             0             0   \n",
       "4   28  338409             13    0             0             0   \n",
       "\n",
       "   hours-per-week  wage  workclass_encode  education_encode  \\\n",
       "0              40     0          0.271957          0.414753   \n",
       "1              13     0          0.284927          0.414753   \n",
       "2              40     0          0.218673          0.159509   \n",
       "3              40     0          0.218673          0.051064   \n",
       "4              40     0          0.218673          0.414753   \n",
       "\n",
       "   marital-status_encode  occupation_encode  native-country_encode  smpl_wgt  \\\n",
       "0               0.045961           0.134483               0.245835  0.000013   \n",
       "1               0.446848           0.484014               0.245835  0.000013   \n",
       "2               0.104209           0.062774               0.245835  0.000035   \n",
       "3               0.446848           0.062774               0.245835  0.000038   \n",
       "4               0.446848           0.449034               0.263158  0.000055   \n",
       "\n",
       "    age^2  age hours-per-week  age education-num  hours-per-week^2  \\\n",
       "0  1521.0              1560.0              507.0            1600.0   \n",
       "1  2500.0               650.0              650.0             169.0   \n",
       "2  1444.0              1520.0              342.0            1600.0   \n",
       "3  2809.0              2120.0              371.0            1600.0   \n",
       "4   784.0              1120.0              364.0            1600.0   \n",
       "\n",
       "   hours-per-week education-num  education-num^2   log_age  \n",
       "0                         520.0            169.0  3.663562  \n",
       "1                         169.0            169.0  3.912023  \n",
       "2                         360.0             81.0  3.637586  \n",
       "3                         280.0             49.0  3.970292  \n",
       "4                         520.0            169.0  3.332205  "
      ]
     },
     "execution_count": 14,
     "metadata": {},
     "output_type": "execute_result"
    }
   ],
   "source": [
    "income_final.head()"
   ]
  },
  {
   "cell_type": "code",
   "execution_count": 22,
   "metadata": {},
   "outputs": [],
   "source": [
    "X = income_final.drop(columns = ['wage'])\n",
    "y= income_final['wage']"
   ]
  },
  {
   "cell_type": "code",
   "execution_count": 24,
   "metadata": {},
   "outputs": [],
   "source": [
    "def model_score_classification(X, y, models: list):\n",
    "    # Split data into training and testing set\n",
    "    X_train, X_test, y_train, y_test = train_test_split(X, y, random_state=42, stratify=y)\n",
    "    # Creating empty df to add to later\n",
    "    models_df = pd.DataFrame(columns=['model', \n",
    "                                      'parameters', \n",
    "                                      'train_accuracy',\n",
    "                                      'train_f1',\n",
    "                                      'train_spec',\n",
    "                                      'train_sens',\n",
    "                                      'test_accuracy',\n",
    "                                      'test_f1',\n",
    "                                      'test_spec',\n",
    "                                      'test_sens'])\n",
    "    for model in models:\n",
    "        # Create a pipeline to scale data and pass through model\n",
    "        pipe = Pipeline([\n",
    "            ('sc', StandardScaler()),\n",
    "            ('model', model) # Thanks Lisa Tagliaferri from Digitalocean.com https://www.digitalocean.com/community/tutorials/how-to-use-args-and-kwargs-in-python-3\n",
    "        ])\n",
    "        # Fitting the model\n",
    "        pipe.fit(X_train, y_train)\n",
    "        # Predictions\n",
    "        y_train_preds = pipe.predict(X_train)\n",
    "        y_test_preds = pipe.predict(X_test)\n",
    "        # Scoring the models\n",
    "        train_score = pipe.score(X_train, y_train)\n",
    "        train_f1 = f1_score(y_train, y_train_preds)\n",
    "        test_score = pipe.score(X_test, y_test)\n",
    "        test_f1 = f1_score(y_test, y_test_preds)\n",
    "        # Calculate train specificity and sensitivity\n",
    "        tn, fn, fp, tp = confusion_matrix(y_train, pipe.predict(X_train)).ravel()\n",
    "        train_spec = tn / (tn + fp)\n",
    "        train_sens = tp / (tp + fn)\n",
    "        # Calculate test specificity and sensitivity\n",
    "        tn, fn, fp, tp = confusion_matrix(y_test, pipe.predict(X_test)).ravel()\n",
    "        test_spec = tn / (tn + fp)\n",
    "        test_sens = tp / (tp + fn)\n",
    "        # Returning a dictionary of the information\n",
    "        model_row = {'model' : type(model).__name__, # Thanks Jonathan from Stack Overflow! https://stackoverflow.com/questions/52763325/how-to-obtain-only-the-name-of-a-models-object-in-scikitlearn\n",
    "                     'parameters' : model.get_params(),\n",
    "                     'train_accuracy' : train_score,\n",
    "                     'train_f1' : train_f1,\n",
    "                     'train_spec' : train_spec,\n",
    "                     'train_sens' : train_sens,\n",
    "                     'test_accuracy': test_score,\n",
    "                     'test_f1': test_f1,\n",
    "                     'test_spec' : test_spec,\n",
    "                     'test_sens' : test_sens}\n",
    "        # Add new row to models_df\n",
    "        models_df = models_df.append(model_row, ignore_index=True)\n",
    "    return models_df"
   ]
  },
  {
   "cell_type": "code",
   "execution_count": 25,
   "metadata": {},
   "outputs": [],
   "source": [
    "classification_models = [LogisticRegression(n_jobs=12),\n",
    "                        KNeighborsClassifier(n_neighbors=round(np.sqrt(income_final.shape[0])), n_jobs=12),\n",
    "                        DecisionTreeClassifier(max_depth=6),\n",
    "                        BaggingClassifier(base_estimator = DecisionTreeClassifier(max_depth=6), n_estimators=100, n_jobs=12),\n",
    "                        RandomForestClassifier(max_depth=6, n_estimators=250, n_jobs=12, random_state=42),\n",
    "                        AdaBoostClassifier(n_estimators=250, random_state=42),\n",
    "                        SVC(C=20, random_state=42)]"
   ]
  },
  {
   "cell_type": "code",
   "execution_count": 58,
   "metadata": {},
   "outputs": [
    {
     "data": {
      "text/html": [
       "<div>\n",
       "<style scoped>\n",
       "    .dataframe tbody tr th:only-of-type {\n",
       "        vertical-align: middle;\n",
       "    }\n",
       "\n",
       "    .dataframe tbody tr th {\n",
       "        vertical-align: top;\n",
       "    }\n",
       "\n",
       "    .dataframe thead th {\n",
       "        text-align: right;\n",
       "    }\n",
       "</style>\n",
       "<table border=\"1\" class=\"dataframe\">\n",
       "  <thead>\n",
       "    <tr style=\"text-align: right;\">\n",
       "      <th></th>\n",
       "      <th>model</th>\n",
       "      <th>parameters</th>\n",
       "      <th>train_accuracy</th>\n",
       "      <th>train_f1</th>\n",
       "      <th>train_spec</th>\n",
       "      <th>train_sens</th>\n",
       "      <th>test_accuracy</th>\n",
       "      <th>test_f1</th>\n",
       "      <th>test_spec</th>\n",
       "      <th>test_sens</th>\n",
       "    </tr>\n",
       "  </thead>\n",
       "  <tbody>\n",
       "    <tr>\n",
       "      <th>0</th>\n",
       "      <td>DecisionTreeClassifier</td>\n",
       "      <td>{'ccp_alpha': 0.0, 'class_weight': None, 'crit...</td>\n",
       "      <td>0.999918</td>\n",
       "      <td>0.99983</td>\n",
       "      <td>0.999892</td>\n",
       "      <td>1.0</td>\n",
       "      <td>0.809974</td>\n",
       "      <td>0.611599</td>\n",
       "      <td>0.878719</td>\n",
       "      <td>0.602076</td>\n",
       "    </tr>\n",
       "  </tbody>\n",
       "</table>\n",
       "</div>"
      ],
      "text/plain": [
       "                    model                                         parameters  \\\n",
       "0  DecisionTreeClassifier  {'ccp_alpha': 0.0, 'class_weight': None, 'crit...   \n",
       "\n",
       "   train_accuracy  train_f1  train_spec  train_sens  test_accuracy   test_f1  \\\n",
       "0        0.999918   0.99983    0.999892         1.0       0.809974  0.611599   \n",
       "\n",
       "   test_spec  test_sens  \n",
       "0   0.878719   0.602076  "
      ]
     },
     "execution_count": 58,
     "metadata": {},
     "output_type": "execute_result"
    }
   ],
   "source": [
    "model_score_classification(X, y, models=[DecisionTreeClassifier(random_state=42)])"
   ]
  },
  {
   "cell_type": "code",
   "execution_count": 59,
   "metadata": {},
   "outputs": [
    {
     "data": {
      "text/html": [
       "<div>\n",
       "<style scoped>\n",
       "    .dataframe tbody tr th:only-of-type {\n",
       "        vertical-align: middle;\n",
       "    }\n",
       "\n",
       "    .dataframe tbody tr th {\n",
       "        vertical-align: top;\n",
       "    }\n",
       "\n",
       "    .dataframe thead th {\n",
       "        text-align: right;\n",
       "    }\n",
       "</style>\n",
       "<table border=\"1\" class=\"dataframe\">\n",
       "  <thead>\n",
       "    <tr style=\"text-align: right;\">\n",
       "      <th></th>\n",
       "      <th>model</th>\n",
       "      <th>parameters</th>\n",
       "      <th>train_accuracy</th>\n",
       "      <th>train_f1</th>\n",
       "      <th>train_spec</th>\n",
       "      <th>train_sens</th>\n",
       "      <th>test_accuracy</th>\n",
       "      <th>test_f1</th>\n",
       "      <th>test_spec</th>\n",
       "      <th>test_sens</th>\n",
       "    </tr>\n",
       "  </thead>\n",
       "  <tbody>\n",
       "    <tr>\n",
       "      <th>0</th>\n",
       "      <td>RandomForestClassifier</td>\n",
       "      <td>{'bootstrap': True, 'ccp_alpha': 0.0, 'class_w...</td>\n",
       "      <td>0.999918</td>\n",
       "      <td>0.99983</td>\n",
       "      <td>0.999892</td>\n",
       "      <td>1.0</td>\n",
       "      <td>0.854686</td>\n",
       "      <td>0.677744</td>\n",
       "      <td>0.888647</td>\n",
       "      <td>0.72706</td>\n",
       "    </tr>\n",
       "  </tbody>\n",
       "</table>\n",
       "</div>"
      ],
      "text/plain": [
       "                    model                                         parameters  \\\n",
       "0  RandomForestClassifier  {'bootstrap': True, 'ccp_alpha': 0.0, 'class_w...   \n",
       "\n",
       "   train_accuracy  train_f1  train_spec  train_sens  test_accuracy   test_f1  \\\n",
       "0        0.999918   0.99983    0.999892         1.0       0.854686  0.677744   \n",
       "\n",
       "   test_spec  test_sens  \n",
       "0   0.888647    0.72706  "
      ]
     },
     "execution_count": 59,
     "metadata": {},
     "output_type": "execute_result"
    }
   ],
   "source": [
    "model_score_classification(X, y, models=[RandomForestClassifier(random_state=42)])"
   ]
  },
  {
   "cell_type": "code",
   "execution_count": 95,
   "metadata": {},
   "outputs": [
    {
     "name": "stderr",
     "output_type": "stream",
     "text": [
      "/Users/macbookair/opt/anaconda3/lib/python3.7/site-packages/sklearn/linear_model/_logistic.py:1539: UserWarning: 'n_jobs' > 1 does not have any effect when 'solver' is set to 'liblinear'. Got 'n_jobs' = 2.\n",
      "  \" = {}.\".format(effective_n_jobs(self.n_jobs)))\n"
     ]
    },
    {
     "name": "stdout",
     "output_type": "stream",
     "text": [
      "0.816953316953317\n",
      "0.8196781722147156\n"
     ]
    }
   ],
   "source": [
    "lr_pipe = Pipeline([ \n",
    "    ('sc', StandardScaler()),\n",
    "    ('lr' , LogisticRegression(solver = 'liblinear')),  \n",
    "])\n",
    "lr.fit(X_train, y_train)\n",
    "print(lr.score(X_train, y_train))\n",
    "print(lr.score(X_test, y_test))"
   ]
  },
  {
   "cell_type": "code",
   "execution_count": 88,
   "metadata": {},
   "outputs": [],
   "source": [
    "lr_pipe = Pipeline([ \n",
    "    ('sc', StandardScaler()),\n",
    "    ('lr', LogisticRegression(solver = 'liblinear')),\n",
    "    'n_jobs'])\n",
    "\n",
    "params = {\n",
    "    'lr__alpha': [1, 0.1, 0.01, 0.001, 0.0001, 0.00001]\n",
    "    ''\n",
    "}\n",
    "# gs_nb = GridSearchCV(pipe_nb, \n",
    "#                   param_grid=params_nb, \n",
    "#                   cv = 5) # 5-fold cross-validation.\n",
    "\n",
    "gridcv = GridSearchCV(lr_pipe,\n",
    "                      param_grid = params,\n",
    "                    cv = 3,\n",
    "                    verbose = 1)"
   ]
  },
  {
   "cell_type": "code",
   "execution_count": 90,
   "metadata": {},
   "outputs": [],
   "source": [
    "gridcv = GridSearchCV(lr_pipe,\n",
    "                      param_grid = params,\n",
    "                    cv = 3,\n",
    "                    verbose = 1)"
   ]
  },
  {
   "cell_type": "code",
   "execution_count": 91,
   "metadata": {},
   "outputs": [],
   "source": [
    "lr = LogisticRegression(solver = 'liblinear', n_jobs = 2)"
   ]
  },
  {
   "cell_type": "code",
   "execution_count": 71,
   "metadata": {},
   "outputs": [
    {
     "data": {
      "text/plain": [
       "LogisticRegression(C=1.0, class_weight=None, dual=False, fit_intercept=True,\n",
       "                   intercept_scaling=1, l1_ratio=None, max_iter=100,\n",
       "                   multi_class='auto', n_jobs=None, penalty='l2',\n",
       "                   random_state=None, solver='liblinear', tol=0.0001, verbose=0,\n",
       "                   warm_start=False)"
      ]
     },
     "execution_count": 71,
     "metadata": {},
     "output_type": "execute_result"
    }
   ],
   "source": [
    "# lr.fit(X_train, y_train)"
   ]
  },
  {
   "cell_type": "code",
   "execution_count": 45,
   "metadata": {},
   "outputs": [
    {
     "data": {
      "text/plain": [
       "0.816953316953317"
      ]
     },
     "execution_count": 45,
     "metadata": {},
     "output_type": "execute_result"
    }
   ],
   "source": [
    "# lr.score(X_train, y_train)"
   ]
  },
  {
   "cell_type": "code",
   "execution_count": 46,
   "metadata": {},
   "outputs": [
    {
     "data": {
      "text/plain": [
       "0.8196781722147156"
      ]
     },
     "execution_count": 46,
     "metadata": {},
     "output_type": "execute_result"
    }
   ],
   "source": [
    "# lr.score(X_test, y_test)"
   ]
  },
  {
   "cell_type": "code",
   "execution_count": 49,
   "metadata": {},
   "outputs": [
    {
     "name": "stdout",
     "output_type": "stream",
     "text": [
      "Logistic Regression predicted values: [0 0 0 0 0]\n"
     ]
    }
   ],
   "source": [
    "print(f'Logistic Regression predicted values: {lr.predict(X_train.head())}')"
   ]
  },
  {
   "cell_type": "markdown",
   "metadata": {},
   "source": [
    "## grid search"
   ]
  },
  {
   "cell_type": "code",
   "execution_count": 52,
   "metadata": {},
   "outputs": [],
   "source": [
    "pipe = Pipeline([\n",
    "    ('lr', LogisticRegression(solver = 'liblinear'))\n",
    "    ])"
   ]
  },
  {
   "cell_type": "code",
   "execution_count": 54,
   "metadata": {},
   "outputs": [],
   "source": [
    "pipe_params = {\n",
    "    'cv__max_features': [20],\n",
    "    'cv__min_df': [1, 2],\n",
    "    'cv__max_df': [.9, .95],\n",
    "    'cv__ngram_range': [(1,1), (1,2)]\n",
    "}"
   ]
  },
  {
   "cell_type": "code",
   "execution_count": 55,
   "metadata": {},
   "outputs": [],
   "source": [
    "gridsearch= GridSearchCV(pipe,\n",
    "                        param_grid = pipe_params, cv = 5)"
   ]
  },
  {
   "cell_type": "code",
   "execution_count": null,
   "metadata": {},
   "outputs": [],
   "source": [
    "pipe = Pipeline([\n",
    "    ('lr', LogisticRegression(solver = 'liblinear'))\n",
    "    ])"
   ]
  },
  {
   "cell_type": "code",
   "execution_count": 64,
   "metadata": {},
   "outputs": [],
   "source": [
    "dt = DecisionTreeClassifier(max_depth = 5,\n",
    "                            min_samples_split = 5,\n",
    "                            min_samples_leaf = 3,\n",
    "                            random_state = 42)"
   ]
  },
  {
   "cell_type": "code",
   "execution_count": 65,
   "metadata": {},
   "outputs": [
    {
     "data": {
      "text/plain": [
       "DecisionTreeClassifier(ccp_alpha=0.0, class_weight=None, criterion='gini',\n",
       "                       max_depth=5, max_features=None, max_leaf_nodes=None,\n",
       "                       min_impurity_decrease=0.0, min_impurity_split=None,\n",
       "                       min_samples_leaf=3, min_samples_split=5,\n",
       "                       min_weight_fraction_leaf=0.0, presort='deprecated',\n",
       "                       random_state=42, splitter='best')"
      ]
     },
     "execution_count": 65,
     "metadata": {},
     "output_type": "execute_result"
    }
   ],
   "source": [
    "dt.fit(X_train, y_train)"
   ]
  },
  {
   "cell_type": "code",
   "execution_count": 66,
   "metadata": {},
   "outputs": [
    {
     "name": "stdout",
     "output_type": "stream",
     "text": [
      "Score on training set: 0.8527436527436527\n",
      "Score on testing set: 0.8525979609384596\n"
     ]
    }
   ],
   "source": [
    "print(f'Score on training set: {dt.score(X_train, y_train)}')\n",
    "print(f'Score on testing set: {dt.score(X_test, y_test)}')"
   ]
  },
  {
   "cell_type": "code",
   "execution_count": 78,
   "metadata": {},
   "outputs": [],
   "source": [
    "gridcv = GridSearchCV(estimator = DecisionTreeClassifier(),\n",
    "                    param_grid = {'max_depth': [3, 5, 7, 10],\n",
    "                                  'min_samples_split': [5, 10, 15, 20],\n",
    "                                  'min_samples_leaf': [2, 3, 4, 5, 6, 7]},\n",
    "                    cv = 5,\n",
    "                    verbose = 1)"
   ]
  },
  {
   "cell_type": "code",
   "execution_count": 72,
   "metadata": {},
   "outputs": [
    {
     "name": "stdout",
     "output_type": "stream",
     "text": [
      "Fitting 5 folds for each of 96 candidates, totalling 480 fits\n"
     ]
    },
    {
     "name": "stderr",
     "output_type": "stream",
     "text": [
      "[Parallel(n_jobs=1)]: Using backend SequentialBackend with 1 concurrent workers.\n",
      "[Parallel(n_jobs=1)]: Done 480 out of 480 | elapsed:  1.2min finished\n"
     ]
    },
    {
     "data": {
      "text/plain": [
       "GridSearchCV(cv=5, error_score=nan,\n",
       "             estimator=DecisionTreeClassifier(ccp_alpha=0.0, class_weight=None,\n",
       "                                              criterion='gini', max_depth=None,\n",
       "                                              max_features=None,\n",
       "                                              max_leaf_nodes=None,\n",
       "                                              min_impurity_decrease=0.0,\n",
       "                                              min_impurity_split=None,\n",
       "                                              min_samples_leaf=1,\n",
       "                                              min_samples_split=2,\n",
       "                                              min_weight_fraction_leaf=0.0,\n",
       "                                              presort='deprecated',\n",
       "                                              random_state=None,\n",
       "                                              splitter='best'),\n",
       "             iid='deprecated', n_jobs=None,\n",
       "             param_grid={'max_depth': [3, 5, 7, 10],\n",
       "                         'min_samples_leaf': [2, 3, 4, 5, 6, 7],\n",
       "                         'min_samples_split': [5, 10, 15, 20]},\n",
       "             pre_dispatch='2*n_jobs', refit=True, return_train_score=False,\n",
       "             scoring=None, verbose=1)"
      ]
     },
     "execution_count": 72,
     "metadata": {},
     "output_type": "execute_result"
    }
   ],
   "source": [
    "gridcv.fit(X_train, y_train)"
   ]
  },
  {
   "cell_type": "code",
   "execution_count": 73,
   "metadata": {},
   "outputs": [
    {
     "data": {
      "text/plain": [
       "DecisionTreeClassifier(ccp_alpha=0.0, class_weight=None, criterion='gini',\n",
       "                       max_depth=7, max_features=None, max_leaf_nodes=None,\n",
       "                       min_impurity_decrease=0.0, min_impurity_split=None,\n",
       "                       min_samples_leaf=4, min_samples_split=20,\n",
       "                       min_weight_fraction_leaf=0.0, presort='deprecated',\n",
       "                       random_state=None, splitter='best')"
      ]
     },
     "execution_count": 73,
     "metadata": {},
     "output_type": "execute_result"
    }
   ],
   "source": [
    "gridcv.best_estimator_"
   ]
  },
  {
   "cell_type": "code",
   "execution_count": 74,
   "metadata": {},
   "outputs": [
    {
     "data": {
      "text/plain": [
       "{'max_depth': 7, 'min_samples_leaf': 4, 'min_samples_split': 20}"
      ]
     },
     "execution_count": 74,
     "metadata": {},
     "output_type": "execute_result"
    }
   ],
   "source": [
    "gridcv.best_params_"
   ]
  },
  {
   "cell_type": "code",
   "execution_count": 75,
   "metadata": {},
   "outputs": [
    {
     "name": "stdout",
     "output_type": "stream",
     "text": [
      "Score on training set: 0.8613022113022113\n",
      "Score on testing set: 0.8593538877287803\n"
     ]
    }
   ],
   "source": [
    "# Instantiate model with best parameters.\n",
    "dt = DecisionTreeClassifier(max_depth = 7,\n",
    "                            min_samples_split = 20,\n",
    "                            min_samples_leaf = 4,\n",
    "                            random_state = 42)\n",
    "\n",
    "# Fit model.\n",
    "dt.fit(X_train, y_train)\n",
    "\n",
    "# Evaluate model.\n",
    "print(f'Score on training set: {dt.score(X_train, y_train)}')\n",
    "print(f'Score on testing set: {dt.score(X_test, y_test)}')"
   ]
  },
  {
   "cell_type": "code",
   "execution_count": 79,
   "metadata": {},
   "outputs": [],
   "source": [
    "# lc = lasso_coef.iloc[lasso_coef.coef.abs().argsort()][::-1]\n",
    "# plt.figure(figsize = (10, 10))\n",
    "# sns.barplot(x = 'coef', y = 'column', data = lc, orient = 'h')\n",
    "# plt.xlabel('Lasso Coefficients', size = 13)\n",
    "# plt.ylabel('Columns', size = 13);"
   ]
  },
  {
   "cell_type": "code",
   "execution_count": null,
   "metadata": {},
   "outputs": [],
   "source": []
  }
 ],
 "metadata": {
  "kernelspec": {
   "display_name": "Python 3",
   "language": "python",
   "name": "python3"
  },
  "language_info": {
   "codemirror_mode": {
    "name": "ipython",
    "version": 3
   },
   "file_extension": ".py",
   "mimetype": "text/x-python",
   "name": "python",
   "nbconvert_exporter": "python",
   "pygments_lexer": "ipython3",
   "version": "3.7.7"
  }
 },
 "nbformat": 4,
 "nbformat_minor": 4
}
