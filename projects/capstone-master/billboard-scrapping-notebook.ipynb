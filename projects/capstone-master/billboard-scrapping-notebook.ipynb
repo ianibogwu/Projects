{
 "cells": [
  {
   "cell_type": "code",
   "execution_count": 1,
   "metadata": {},
   "outputs": [],
   "source": [
    "# Billboard.py is a python API that allows us to scrape data from Billboard.com\n",
    "import billboard\n",
    "import pandas as pd\n",
    "import matplotlib.pyplot as plt\n",
    "import seaborn as sns\n",
    "\n",
    "import time"
   ]
  },
  {
   "cell_type": "code",
   "execution_count": 2,
   "metadata": {},
   "outputs": [],
   "source": [
    "chart_types = billboard.charts() # the types of billboard charts billboard produces. "
   ]
  },
  {
   "cell_type": "code",
   "execution_count": 3,
   "metadata": {},
   "outputs": [
    {
     "data": {
      "text/plain": [
       "['hot-100',\n",
       " 'billboard-200',\n",
       " 'artist-100',\n",
       " 'social-50',\n",
       " 'streaming-songs',\n",
       " 'radio-songs',\n",
       " 'digital-song-sales',\n",
       " 'on-demand-songs',\n",
       " 'top-album-sales',\n",
       " 'current-albums']"
      ]
     },
     "execution_count": 3,
     "metadata": {},
     "output_type": "execute_result"
    }
   ],
   "source": [
    "chart_types[:10] #We will focus on the hot 100 for now and move into other types later if need be"
   ]
  },
  {
   "cell_type": "code",
   "execution_count": 4,
   "metadata": {},
   "outputs": [
    {
     "data": {
      "text/plain": [
       "billboard.ChartData"
      ]
     },
     "execution_count": 4,
     "metadata": {},
     "output_type": "execute_result"
    }
   ],
   "source": [
    "chart = billboard.ChartData('hot-100')\n",
    "type(chart)"
   ]
  },
  {
   "cell_type": "code",
   "execution_count": 5,
   "metadata": {},
   "outputs": [],
   "source": [
    "stop_date = '2000-01-01' # I'll collect 20 years worth of billboard data. I may not use it all for the project but the more the better \n",
    "start_time = time.time() # amount of time it takes to pull 20 yrs worth of data     \n",
    "\n",
    "def billboard_data(chart):\n",
    "    hot_100_df = pd.DataFrame() #empty dataframe that will be appended with hot_100 dictionary \n",
    "\n",
    "    chart = billboard.ChartData('hot-100', chart.previousDate, fetch = True, timeout = 10, max_retries = 10)\n",
    "\n",
    "    \n",
    "    while chart.previousDate > stop_date: #we will be iterating through the previous date until our stop date\n",
    "        chart = billboard.ChartData('hot-100', chart.previousDate)\n",
    "#         print(chart.previousDate)\n",
    "     \n",
    "        \n",
    "        for x in chart.entries:\n",
    "            hot_100 = {} #creates values and keys for our data\n",
    "            x = str(x).split(\" by \"), x.weeks, x.rank, x.peakPos, x.isNew\n",
    "            hot_100['date'] = chart.previousDate\n",
    "            hot_100['artist'] = x[0][1] #artist name\n",
    "            hot_100['title']  = x[0][0] #title of song\n",
    "            hot_100['weeks'] = x[1]     # number of weeks on 'Hot-100'\n",
    "            hot_100['rank'] = x[2]      # current rank\n",
    "            hot_100['peak_pos'] = x[3]  #peak position of song at the time\n",
    "            hot_100['is_new'] = x[4]    # is song new on the charts\n",
    "\n",
    "        \n",
    "            hot_100_df = hot_100_df.append(hot_100, ignore_index = True) # returns full data frame with all details needed    \n",
    "\n",
    "    if chart.previousDate <= stop_date:\n",
    "             print('My work here is done') # indicating our loop is done running\n",
    "       \n",
    "    finished_time = (time.time() - start_time)  \n",
    "    print(f'finished time in seconds {finished_time}') #how long function takes to run\n",
    "    \n",
    "    return hot_100_df\n",
    "   \n",
    "        "
   ]
  },
  {
   "cell_type": "code",
   "execution_count": 6,
   "metadata": {},
   "outputs": [
    {
     "name": "stdout",
     "output_type": "stream",
     "text": [
      "My work here is done\n",
      "finished time in seconds 5776.253194093704\n"
     ]
    }
   ],
   "source": [
    "billboard_hot100= billboard_data(chart)"
   ]
  },
  {
   "cell_type": "code",
   "execution_count": 7,
   "metadata": {},
   "outputs": [
    {
     "data": {
      "text/html": [
       "<div>\n",
       "<style scoped>\n",
       "    .dataframe tbody tr th:only-of-type {\n",
       "        vertical-align: middle;\n",
       "    }\n",
       "\n",
       "    .dataframe tbody tr th {\n",
       "        vertical-align: top;\n",
       "    }\n",
       "\n",
       "    .dataframe thead th {\n",
       "        text-align: right;\n",
       "    }\n",
       "</style>\n",
       "<table border=\"1\" class=\"dataframe\">\n",
       "  <thead>\n",
       "    <tr style=\"text-align: right;\">\n",
       "      <th></th>\n",
       "      <th>artist</th>\n",
       "      <th>date</th>\n",
       "      <th>is_new</th>\n",
       "      <th>peak_pos</th>\n",
       "      <th>rank</th>\n",
       "      <th>title</th>\n",
       "      <th>weeks</th>\n",
       "    </tr>\n",
       "  </thead>\n",
       "  <tbody>\n",
       "    <tr>\n",
       "      <th>0</th>\n",
       "      <td>Cardi B Featuring Megan Thee Stallion</td>\n",
       "      <td>2020-09-12</td>\n",
       "      <td>0.0</td>\n",
       "      <td>1.0</td>\n",
       "      <td>1.0</td>\n",
       "      <td>'WAP'</td>\n",
       "      <td>5.0</td>\n",
       "    </tr>\n",
       "    <tr>\n",
       "      <th>1</th>\n",
       "      <td>BTS</td>\n",
       "      <td>2020-09-12</td>\n",
       "      <td>0.0</td>\n",
       "      <td>1.0</td>\n",
       "      <td>2.0</td>\n",
       "      <td>'Dynamite'</td>\n",
       "      <td>3.0</td>\n",
       "    </tr>\n",
       "    <tr>\n",
       "      <th>2</th>\n",
       "      <td>Drake Featuring Lil Durk</td>\n",
       "      <td>2020-09-12</td>\n",
       "      <td>0.0</td>\n",
       "      <td>2.0</td>\n",
       "      <td>3.0</td>\n",
       "      <td>'Laugh Now Cry Later'</td>\n",
       "      <td>4.0</td>\n",
       "    </tr>\n",
       "    <tr>\n",
       "      <th>3</th>\n",
       "      <td>DaBaby Featuring Roddy Ricch</td>\n",
       "      <td>2020-09-12</td>\n",
       "      <td>0.0</td>\n",
       "      <td>1.0</td>\n",
       "      <td>4.0</td>\n",
       "      <td>'Rockstar'</td>\n",
       "      <td>21.0</td>\n",
       "    </tr>\n",
       "    <tr>\n",
       "      <th>4</th>\n",
       "      <td>The Weeknd</td>\n",
       "      <td>2020-09-12</td>\n",
       "      <td>0.0</td>\n",
       "      <td>1.0</td>\n",
       "      <td>5.0</td>\n",
       "      <td>'Blinding Lights'</td>\n",
       "      <td>41.0</td>\n",
       "    </tr>\n",
       "  </tbody>\n",
       "</table>\n",
       "</div>"
      ],
      "text/plain": [
       "                                  artist        date  is_new  peak_pos  rank  \\\n",
       "0  Cardi B Featuring Megan Thee Stallion  2020-09-12     0.0       1.0   1.0   \n",
       "1                                    BTS  2020-09-12     0.0       1.0   2.0   \n",
       "2               Drake Featuring Lil Durk  2020-09-12     0.0       2.0   3.0   \n",
       "3           DaBaby Featuring Roddy Ricch  2020-09-12     0.0       1.0   4.0   \n",
       "4                             The Weeknd  2020-09-12     0.0       1.0   5.0   \n",
       "\n",
       "                   title  weeks  \n",
       "0                  'WAP'    5.0  \n",
       "1             'Dynamite'    3.0  \n",
       "2  'Laugh Now Cry Later'    4.0  \n",
       "3             'Rockstar'   21.0  \n",
       "4      'Blinding Lights'   41.0  "
      ]
     },
     "execution_count": 7,
     "metadata": {},
     "output_type": "execute_result"
    }
   ],
   "source": [
    "billboard_hot100.head()"
   ]
  },
  {
   "cell_type": "code",
   "execution_count": 8,
   "metadata": {},
   "outputs": [
    {
     "data": {
      "text/plain": [
       "(108200, 7)"
      ]
     },
     "execution_count": 8,
     "metadata": {},
     "output_type": "execute_result"
    }
   ],
   "source": [
    "billboard_hot100.shape"
   ]
  },
  {
   "cell_type": "code",
   "execution_count": 10,
   "metadata": {},
   "outputs": [],
   "source": [
    "billboard_hot100.to_csv('./data/billboard.csv', index = False)"
   ]
  },
  {
   "cell_type": "code",
   "execution_count": null,
   "metadata": {},
   "outputs": [],
   "source": []
  }
 ],
 "metadata": {
  "kernelspec": {
   "display_name": "Python 3",
   "language": "python",
   "name": "python3"
  },
  "language_info": {
   "codemirror_mode": {
    "name": "ipython",
    "version": 3
   },
   "file_extension": ".py",
   "mimetype": "text/x-python",
   "name": "python",
   "nbconvert_exporter": "python",
   "pygments_lexer": "ipython3",
   "version": "3.7.7"
  }
 },
 "nbformat": 4,
 "nbformat_minor": 4
}
