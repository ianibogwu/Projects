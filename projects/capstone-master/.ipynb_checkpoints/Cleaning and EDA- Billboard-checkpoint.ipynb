{
 "cells": [
  {
   "cell_type": "code",
   "execution_count": 1,
   "metadata": {},
   "outputs": [],
   "source": [
    "#we will start with the imports\n",
    "import pandas as pd\n",
    "import matplotlib.pyplot as plt \n",
    "import seaborn as sns \n",
    "import numpy as np"
   ]
  },
  {
   "cell_type": "code",
   "execution_count": 2,
   "metadata": {},
   "outputs": [],
   "source": [
    "#read in data \n",
    "billboard = pd.read_csv('./data/billboard.csv')"
   ]
  },
  {
   "cell_type": "code",
   "execution_count": 3,
   "metadata": {},
   "outputs": [
    {
     "data": {
      "text/html": [
       "<div>\n",
       "<style scoped>\n",
       "    .dataframe tbody tr th:only-of-type {\n",
       "        vertical-align: middle;\n",
       "    }\n",
       "\n",
       "    .dataframe tbody tr th {\n",
       "        vertical-align: top;\n",
       "    }\n",
       "\n",
       "    .dataframe thead th {\n",
       "        text-align: right;\n",
       "    }\n",
       "</style>\n",
       "<table border=\"1\" class=\"dataframe\">\n",
       "  <thead>\n",
       "    <tr style=\"text-align: right;\">\n",
       "      <th></th>\n",
       "      <th>artist</th>\n",
       "      <th>date</th>\n",
       "      <th>is_new</th>\n",
       "      <th>peak_pos</th>\n",
       "      <th>rank</th>\n",
       "      <th>title</th>\n",
       "      <th>weeks</th>\n",
       "    </tr>\n",
       "  </thead>\n",
       "  <tbody>\n",
       "    <tr>\n",
       "      <th>0</th>\n",
       "      <td>Cardi B Featuring Megan Thee Stallion</td>\n",
       "      <td>2020-09-12</td>\n",
       "      <td>0.0</td>\n",
       "      <td>1.0</td>\n",
       "      <td>1.0</td>\n",
       "      <td>'WAP'</td>\n",
       "      <td>5.0</td>\n",
       "    </tr>\n",
       "    <tr>\n",
       "      <th>1</th>\n",
       "      <td>BTS</td>\n",
       "      <td>2020-09-12</td>\n",
       "      <td>0.0</td>\n",
       "      <td>1.0</td>\n",
       "      <td>2.0</td>\n",
       "      <td>'Dynamite'</td>\n",
       "      <td>3.0</td>\n",
       "    </tr>\n",
       "    <tr>\n",
       "      <th>2</th>\n",
       "      <td>Drake Featuring Lil Durk</td>\n",
       "      <td>2020-09-12</td>\n",
       "      <td>0.0</td>\n",
       "      <td>2.0</td>\n",
       "      <td>3.0</td>\n",
       "      <td>'Laugh Now Cry Later'</td>\n",
       "      <td>4.0</td>\n",
       "    </tr>\n",
       "    <tr>\n",
       "      <th>3</th>\n",
       "      <td>DaBaby Featuring Roddy Ricch</td>\n",
       "      <td>2020-09-12</td>\n",
       "      <td>0.0</td>\n",
       "      <td>1.0</td>\n",
       "      <td>4.0</td>\n",
       "      <td>'Rockstar'</td>\n",
       "      <td>21.0</td>\n",
       "    </tr>\n",
       "    <tr>\n",
       "      <th>4</th>\n",
       "      <td>The Weeknd</td>\n",
       "      <td>2020-09-12</td>\n",
       "      <td>0.0</td>\n",
       "      <td>1.0</td>\n",
       "      <td>5.0</td>\n",
       "      <td>'Blinding Lights'</td>\n",
       "      <td>41.0</td>\n",
       "    </tr>\n",
       "    <tr>\n",
       "      <th>5</th>\n",
       "      <td>24kGoldn Featuring iann dior</td>\n",
       "      <td>2020-09-12</td>\n",
       "      <td>0.0</td>\n",
       "      <td>6.0</td>\n",
       "      <td>6.0</td>\n",
       "      <td>'Mood'</td>\n",
       "      <td>5.0</td>\n",
       "    </tr>\n",
       "    <tr>\n",
       "      <th>6</th>\n",
       "      <td>Harry Styles</td>\n",
       "      <td>2020-09-12</td>\n",
       "      <td>0.0</td>\n",
       "      <td>1.0</td>\n",
       "      <td>7.0</td>\n",
       "      <td>'Watermelon Sugar'</td>\n",
       "      <td>25.0</td>\n",
       "    </tr>\n",
       "    <tr>\n",
       "      <th>7</th>\n",
       "      <td>Jack Harlow Featuring DaBaby, Tory Lanez &amp; Lil...</td>\n",
       "      <td>2020-09-12</td>\n",
       "      <td>0.0</td>\n",
       "      <td>2.0</td>\n",
       "      <td>8.0</td>\n",
       "      <td>'Whats Poppin'</td>\n",
       "      <td>31.0</td>\n",
       "    </tr>\n",
       "    <tr>\n",
       "      <th>8</th>\n",
       "      <td>Jawsh 685 x Jason Derulo</td>\n",
       "      <td>2020-09-12</td>\n",
       "      <td>0.0</td>\n",
       "      <td>7.0</td>\n",
       "      <td>9.0</td>\n",
       "      <td>'Savage Love (Laxed - Siren Beat)'</td>\n",
       "      <td>13.0</td>\n",
       "    </tr>\n",
       "    <tr>\n",
       "      <th>9</th>\n",
       "      <td>DJ Khaled Featuring Drake</td>\n",
       "      <td>2020-09-12</td>\n",
       "      <td>0.0</td>\n",
       "      <td>3.0</td>\n",
       "      <td>10.0</td>\n",
       "      <td>'Popstar'</td>\n",
       "      <td>8.0</td>\n",
       "    </tr>\n",
       "  </tbody>\n",
       "</table>\n",
       "</div>"
      ],
      "text/plain": [
       "                                              artist        date  is_new  \\\n",
       "0              Cardi B Featuring Megan Thee Stallion  2020-09-12     0.0   \n",
       "1                                                BTS  2020-09-12     0.0   \n",
       "2                           Drake Featuring Lil Durk  2020-09-12     0.0   \n",
       "3                       DaBaby Featuring Roddy Ricch  2020-09-12     0.0   \n",
       "4                                         The Weeknd  2020-09-12     0.0   \n",
       "5                       24kGoldn Featuring iann dior  2020-09-12     0.0   \n",
       "6                                       Harry Styles  2020-09-12     0.0   \n",
       "7  Jack Harlow Featuring DaBaby, Tory Lanez & Lil...  2020-09-12     0.0   \n",
       "8                           Jawsh 685 x Jason Derulo  2020-09-12     0.0   \n",
       "9                          DJ Khaled Featuring Drake  2020-09-12     0.0   \n",
       "\n",
       "   peak_pos  rank                               title  weeks  \n",
       "0       1.0   1.0                               'WAP'    5.0  \n",
       "1       1.0   2.0                          'Dynamite'    3.0  \n",
       "2       2.0   3.0               'Laugh Now Cry Later'    4.0  \n",
       "3       1.0   4.0                          'Rockstar'   21.0  \n",
       "4       1.0   5.0                   'Blinding Lights'   41.0  \n",
       "5       6.0   6.0                              'Mood'    5.0  \n",
       "6       1.0   7.0                  'Watermelon Sugar'   25.0  \n",
       "7       2.0   8.0                      'Whats Poppin'   31.0  \n",
       "8       7.0   9.0  'Savage Love (Laxed - Siren Beat)'   13.0  \n",
       "9       3.0  10.0                           'Popstar'    8.0  "
      ]
     },
     "execution_count": 3,
     "metadata": {},
     "output_type": "execute_result"
    }
   ],
   "source": [
    "billboard.head(10)"
   ]
  },
  {
   "cell_type": "code",
   "execution_count": 4,
   "metadata": {},
   "outputs": [
    {
     "name": "stdout",
     "output_type": "stream",
     "text": [
      "<class 'pandas.core.frame.DataFrame'>\n",
      "RangeIndex: 108200 entries, 0 to 108199\n",
      "Data columns (total 7 columns):\n",
      " #   Column    Non-Null Count   Dtype  \n",
      "---  ------    --------------   -----  \n",
      " 0   artist    108200 non-null  object \n",
      " 1   date      108200 non-null  object \n",
      " 2   is_new    108200 non-null  float64\n",
      " 3   peak_pos  108200 non-null  float64\n",
      " 4   rank      108200 non-null  float64\n",
      " 5   title     108200 non-null  object \n",
      " 6   weeks     108200 non-null  float64\n",
      "dtypes: float64(4), object(3)\n",
      "memory usage: 5.8+ MB\n"
     ]
    }
   ],
   "source": [
    "billboard.info() # no nulls!"
   ]
  },
  {
   "cell_type": "code",
   "execution_count": 5,
   "metadata": {},
   "outputs": [],
   "source": [
    "billboard['date'] = pd.to_datetime(billboard['date']) #changed date time"
   ]
  },
  {
   "cell_type": "code",
   "execution_count": 6,
   "metadata": {},
   "outputs": [
    {
     "name": "stdout",
     "output_type": "stream",
     "text": [
      "<class 'pandas.core.frame.DataFrame'>\n",
      "RangeIndex: 108200 entries, 0 to 108199\n",
      "Data columns (total 7 columns):\n",
      " #   Column    Non-Null Count   Dtype         \n",
      "---  ------    --------------   -----         \n",
      " 0   artist    108200 non-null  object        \n",
      " 1   date      108200 non-null  datetime64[ns]\n",
      " 2   is_new    108200 non-null  float64       \n",
      " 3   peak_pos  108200 non-null  float64       \n",
      " 4   rank      108200 non-null  float64       \n",
      " 5   title     108200 non-null  object        \n",
      " 6   weeks     108200 non-null  float64       \n",
      "dtypes: datetime64[ns](1), float64(4), object(2)\n",
      "memory usage: 5.8+ MB\n"
     ]
    }
   ],
   "source": [
    "billboard.info()"
   ]
  },
  {
   "cell_type": "code",
   "execution_count": 7,
   "metadata": {},
   "outputs": [],
   "source": [
    "new_bill = billboard.copy()"
   ]
  },
  {
   "cell_type": "code",
   "execution_count": 8,
   "metadata": {},
   "outputs": [],
   "source": [
    "new_bill['is_top10'] = new_bill[['peak_pos']] <=10"
   ]
  },
  {
   "cell_type": "code",
   "execution_count": 9,
   "metadata": {},
   "outputs": [
    {
     "name": "stdout",
     "output_type": "stream",
     "text": [
      "<class 'pandas.core.frame.DataFrame'>\n",
      "RangeIndex: 108200 entries, 0 to 108199\n",
      "Data columns (total 8 columns):\n",
      " #   Column    Non-Null Count   Dtype         \n",
      "---  ------    --------------   -----         \n",
      " 0   artist    108200 non-null  object        \n",
      " 1   date      108200 non-null  datetime64[ns]\n",
      " 2   is_new    108200 non-null  float64       \n",
      " 3   peak_pos  108200 non-null  float64       \n",
      " 4   rank      108200 non-null  float64       \n",
      " 5   title     108200 non-null  object        \n",
      " 6   weeks     108200 non-null  float64       \n",
      " 7   is_top10  108200 non-null  bool          \n",
      "dtypes: bool(1), datetime64[ns](1), float64(4), object(2)\n",
      "memory usage: 5.9+ MB\n"
     ]
    }
   ],
   "source": [
    "new_bill.info()"
   ]
  },
  {
   "cell_type": "code",
   "execution_count": 10,
   "metadata": {},
   "outputs": [],
   "source": [
    "new_bill['is_top10'] = new_bill['is_top10'].map({True:1, False:0})"
   ]
  },
  {
   "cell_type": "code",
   "execution_count": 11,
   "metadata": {},
   "outputs": [
    {
     "data": {
      "text/plain": [
       "(108200, 8)"
      ]
     },
     "execution_count": 11,
     "metadata": {},
     "output_type": "execute_result"
    }
   ],
   "source": [
    "new_bill.shape"
   ]
  },
  {
   "cell_type": "code",
   "execution_count": 12,
   "metadata": {},
   "outputs": [],
   "source": [
    "new_bill.drop_duplicates(subset = ['artist', 'title'], inplace = True)"
   ]
  },
  {
   "cell_type": "code",
   "execution_count": 13,
   "metadata": {},
   "outputs": [
    {
     "name": "stdout",
     "output_type": "stream",
     "text": [
      "<class 'pandas.core.frame.DataFrame'>\n",
      "Int64Index: 8458 entries, 0 to 108190\n",
      "Data columns (total 8 columns):\n",
      " #   Column    Non-Null Count  Dtype         \n",
      "---  ------    --------------  -----         \n",
      " 0   artist    8458 non-null   object        \n",
      " 1   date      8458 non-null   datetime64[ns]\n",
      " 2   is_new    8458 non-null   float64       \n",
      " 3   peak_pos  8458 non-null   float64       \n",
      " 4   rank      8458 non-null   float64       \n",
      " 5   title     8458 non-null   object        \n",
      " 6   weeks     8458 non-null   float64       \n",
      " 7   is_top10  8458 non-null   int64         \n",
      "dtypes: datetime64[ns](1), float64(4), int64(1), object(2)\n",
      "memory usage: 594.7+ KB\n"
     ]
    }
   ],
   "source": [
    "new_bill.info()"
   ]
  },
  {
   "cell_type": "code",
   "execution_count": 14,
   "metadata": {},
   "outputs": [
    {
     "data": {
      "text/html": [
       "<div>\n",
       "<style scoped>\n",
       "    .dataframe tbody tr th:only-of-type {\n",
       "        vertical-align: middle;\n",
       "    }\n",
       "\n",
       "    .dataframe tbody tr th {\n",
       "        vertical-align: top;\n",
       "    }\n",
       "\n",
       "    .dataframe thead th {\n",
       "        text-align: right;\n",
       "    }\n",
       "</style>\n",
       "<table border=\"1\" class=\"dataframe\">\n",
       "  <thead>\n",
       "    <tr style=\"text-align: right;\">\n",
       "      <th></th>\n",
       "      <th>artist</th>\n",
       "      <th>date</th>\n",
       "      <th>is_new</th>\n",
       "      <th>peak_pos</th>\n",
       "      <th>rank</th>\n",
       "      <th>title</th>\n",
       "      <th>weeks</th>\n",
       "      <th>is_top10</th>\n",
       "    </tr>\n",
       "  </thead>\n",
       "  <tbody>\n",
       "    <tr>\n",
       "      <th>0</th>\n",
       "      <td>Cardi B Featuring Megan Thee Stallion</td>\n",
       "      <td>2020-09-12</td>\n",
       "      <td>0.0</td>\n",
       "      <td>1.0</td>\n",
       "      <td>1.0</td>\n",
       "      <td>'WAP'</td>\n",
       "      <td>5.0</td>\n",
       "      <td>1</td>\n",
       "    </tr>\n",
       "    <tr>\n",
       "      <th>1</th>\n",
       "      <td>BTS</td>\n",
       "      <td>2020-09-12</td>\n",
       "      <td>0.0</td>\n",
       "      <td>1.0</td>\n",
       "      <td>2.0</td>\n",
       "      <td>'Dynamite'</td>\n",
       "      <td>3.0</td>\n",
       "      <td>1</td>\n",
       "    </tr>\n",
       "    <tr>\n",
       "      <th>2</th>\n",
       "      <td>Drake Featuring Lil Durk</td>\n",
       "      <td>2020-09-12</td>\n",
       "      <td>0.0</td>\n",
       "      <td>2.0</td>\n",
       "      <td>3.0</td>\n",
       "      <td>'Laugh Now Cry Later'</td>\n",
       "      <td>4.0</td>\n",
       "      <td>1</td>\n",
       "    </tr>\n",
       "    <tr>\n",
       "      <th>3</th>\n",
       "      <td>DaBaby Featuring Roddy Ricch</td>\n",
       "      <td>2020-09-12</td>\n",
       "      <td>0.0</td>\n",
       "      <td>1.0</td>\n",
       "      <td>4.0</td>\n",
       "      <td>'Rockstar'</td>\n",
       "      <td>21.0</td>\n",
       "      <td>1</td>\n",
       "    </tr>\n",
       "    <tr>\n",
       "      <th>4</th>\n",
       "      <td>The Weeknd</td>\n",
       "      <td>2020-09-12</td>\n",
       "      <td>0.0</td>\n",
       "      <td>1.0</td>\n",
       "      <td>5.0</td>\n",
       "      <td>'Blinding Lights'</td>\n",
       "      <td>41.0</td>\n",
       "      <td>1</td>\n",
       "    </tr>\n",
       "  </tbody>\n",
       "</table>\n",
       "</div>"
      ],
      "text/plain": [
       "                                  artist       date  is_new  peak_pos  rank  \\\n",
       "0  Cardi B Featuring Megan Thee Stallion 2020-09-12     0.0       1.0   1.0   \n",
       "1                                    BTS 2020-09-12     0.0       1.0   2.0   \n",
       "2               Drake Featuring Lil Durk 2020-09-12     0.0       2.0   3.0   \n",
       "3           DaBaby Featuring Roddy Ricch 2020-09-12     0.0       1.0   4.0   \n",
       "4                             The Weeknd 2020-09-12     0.0       1.0   5.0   \n",
       "\n",
       "                   title  weeks  is_top10  \n",
       "0                  'WAP'    5.0         1  \n",
       "1             'Dynamite'    3.0         1  \n",
       "2  'Laugh Now Cry Later'    4.0         1  \n",
       "3             'Rockstar'   21.0         1  \n",
       "4      'Blinding Lights'   41.0         1  "
      ]
     },
     "execution_count": 14,
     "metadata": {},
     "output_type": "execute_result"
    }
   ],
   "source": [
    "new_bill.head()"
   ]
  },
  {
   "cell_type": "code",
   "execution_count": 15,
   "metadata": {},
   "outputs": [
    {
     "data": {
      "text/plain": [
       "(8458, 8)"
      ]
     },
     "execution_count": 15,
     "metadata": {},
     "output_type": "execute_result"
    }
   ],
   "source": [
    "new_bill.shape"
   ]
  },
  {
   "cell_type": "code",
   "execution_count": 16,
   "metadata": {},
   "outputs": [],
   "source": [
    "new_bill['year'] = new_bill['date'].dt.year #getting year column to make it easier to filter"
   ]
  },
  {
   "cell_type": "code",
   "execution_count": 17,
   "metadata": {},
   "outputs": [
    {
     "data": {
      "text/html": [
       "<div>\n",
       "<style scoped>\n",
       "    .dataframe tbody tr th:only-of-type {\n",
       "        vertical-align: middle;\n",
       "    }\n",
       "\n",
       "    .dataframe tbody tr th {\n",
       "        vertical-align: top;\n",
       "    }\n",
       "\n",
       "    .dataframe thead th {\n",
       "        text-align: right;\n",
       "    }\n",
       "</style>\n",
       "<table border=\"1\" class=\"dataframe\">\n",
       "  <thead>\n",
       "    <tr style=\"text-align: right;\">\n",
       "      <th></th>\n",
       "      <th>artist</th>\n",
       "      <th>date</th>\n",
       "      <th>is_new</th>\n",
       "      <th>peak_pos</th>\n",
       "      <th>rank</th>\n",
       "      <th>title</th>\n",
       "      <th>weeks</th>\n",
       "      <th>is_top10</th>\n",
       "      <th>year</th>\n",
       "    </tr>\n",
       "  </thead>\n",
       "  <tbody>\n",
       "    <tr>\n",
       "      <th>45575</th>\n",
       "      <td>Adam Lambert</td>\n",
       "      <td>2011-12-31</td>\n",
       "      <td>1.0</td>\n",
       "      <td>76.0</td>\n",
       "      <td>76.0</td>\n",
       "      <td>'Better Than I Know Myself'</td>\n",
       "      <td>1.0</td>\n",
       "      <td>0</td>\n",
       "      <td>2011</td>\n",
       "    </tr>\n",
       "    <tr>\n",
       "      <th>45585</th>\n",
       "      <td>Justin Bieber Featuring Busta Rhymes</td>\n",
       "      <td>2011-12-31</td>\n",
       "      <td>0.0</td>\n",
       "      <td>86.0</td>\n",
       "      <td>86.0</td>\n",
       "      <td>'Drummer Boy'</td>\n",
       "      <td>2.0</td>\n",
       "      <td>0</td>\n",
       "      <td>2011</td>\n",
       "    </tr>\n",
       "    <tr>\n",
       "      <th>45586</th>\n",
       "      <td>The Script</td>\n",
       "      <td>2011-12-31</td>\n",
       "      <td>0.0</td>\n",
       "      <td>32.0</td>\n",
       "      <td>87.0</td>\n",
       "      <td>'Nothing'</td>\n",
       "      <td>20.0</td>\n",
       "      <td>0</td>\n",
       "      <td>2011</td>\n",
       "    </tr>\n",
       "  </tbody>\n",
       "</table>\n",
       "</div>"
      ],
      "text/plain": [
       "                                     artist       date  is_new  peak_pos  \\\n",
       "45575                          Adam Lambert 2011-12-31     1.0      76.0   \n",
       "45585  Justin Bieber Featuring Busta Rhymes 2011-12-31     0.0      86.0   \n",
       "45586                            The Script 2011-12-31     0.0      32.0   \n",
       "\n",
       "       rank                        title  weeks  is_top10  year  \n",
       "45575  76.0  'Better Than I Know Myself'    1.0         0  2011  \n",
       "45585  86.0                'Drummer Boy'    2.0         0  2011  \n",
       "45586  87.0                    'Nothing'   20.0         0  2011  "
      ]
     },
     "execution_count": 17,
     "metadata": {},
     "output_type": "execute_result"
    }
   ],
   "source": [
    "new_bill[new_bill['year'] == 2011].head(3)"
   ]
  },
  {
   "cell_type": "code",
   "execution_count": 18,
   "metadata": {},
   "outputs": [
    {
     "data": {
      "text/plain": [
       "87.0"
      ]
     },
     "execution_count": 18,
     "metadata": {},
     "output_type": "execute_result"
    }
   ],
   "source": [
    "new_bill['weeks'].max() #max number of weeks a song has stay on the charts"
   ]
  },
  {
   "cell_type": "code",
   "execution_count": 19,
   "metadata": {},
   "outputs": [
    {
     "data": {
      "text/plain": [
       "0    7254\n",
       "1    1204\n",
       "Name: is_top10, dtype: int64"
      ]
     },
     "execution_count": 19,
     "metadata": {},
     "output_type": "execute_result"
    }
   ],
   "source": [
    "new_bill['is_top10'].value_counts() "
   ]
  },
  {
   "cell_type": "markdown",
   "metadata": {},
   "source": [
    "In total, there only been 1204 songs to make it to the top 10 in the last 20 years!"
   ]
  },
  {
   "cell_type": "code",
   "execution_count": 20,
   "metadata": {},
   "outputs": [
    {
     "data": {
      "image/png": "[encoded data removed]",
      "text/plain": [
       "<Figure size 864x720 with 1 Axes>"
      ]
     },
     "metadata": {},
     "output_type": "display_data"
    }
   ],
   "source": [
    "# How much sex impacts in wage\n",
    "sns.set(style = 'whitegrid')\n",
    "plt.figure(figsize = (12,10))\n",
    "sns.barplot(x='year', y='is_top10', data=new_bill)\n",
    "plt.title('Songs in top 10 by year', fontsize=16)\n",
    "plt.xticks(fontsize= 7)\n",
    "plt.xlabel('year', fontsize=13)\n",
    "plt.ylabel('is_top10', fontsize=13)\n",
    "plt.savefig('./images/song-year.png', bbox_inches='tight');"
   ]
  },
  {
   "cell_type": "code",
   "execution_count": 21,
   "metadata": {},
   "outputs": [
    {
     "data": {
      "image/png": "[encoded data removed]",
      "text/plain": [
       "<Figure size 864x720 with 1 Axes>"
      ]
     },
     "metadata": {},
     "output_type": "display_data"
    }
   ],
   "source": [
    "plt.figure(figsize = (12, 10))\n",
    "sns.barplot(x='weeks', y='is_top10', data=new_bill)\n",
    "plt.title('Number of top10 songs by weeks', fontsize=16)\n",
    "plt.xticks(np.arange(0, 88, step=0.6))\n",
    "plt.xlabel('weeks', fontsize=9),\n",
    "plt.ylabel('is_top10', fontsize=13);\n",
    "plt.savefig('./images/song-weeks.png', bbox_inches='tight');"
   ]
  },
  {
   "cell_type": "code",
   "execution_count": 22,
   "metadata": {},
   "outputs": [
    {
     "data": {
      "image/png": "[encoded data removed]",
      "text/plain": [
       "<Figure size 864x432 with 1 Axes>"
      ]
     },
     "metadata": {},
     "output_type": "display_data"
    }
   ],
   "source": [
    "plt.figure(figsize = (12, 6))\n",
    "sns.barplot(x='is_new', y='is_top10', data=new_bill)\n",
    "plt.title('Number of new songs to hit top 10', fontsize=16)\n",
    "plt.xticks(fontsize=10)\n",
    "plt.xlabel('is_new', fontsize=13)\n",
    "plt.ylabel('is_top10', fontsize=13)\n",
    "plt.savefig('./images/is_new.png', bbox_inches='tight');"
   ]
  },
  {
   "cell_type": "markdown",
   "metadata": {},
   "source": [
    "## Findings from EDA:\n",
    "- It's very rare for a new song to hit top 10 in its first week. Graph above shows that songs will spend some time on the charts first before getting into the top 10.\n",
    "\n",
    "- This directly corrolates to our 2nd graph. The longer a song spends on the Billboard Hot-100, the more likely it is to reach Top 10 status\n",
    "\n",
    "- Our 3rd graph shows just how difficult it is to get into this bracket. Of the 20 years of data I scraped, only 1200 songs have made it to the Top-10 chart. On average thats is about 60 songs a year!"
   ]
  },
  {
   "cell_type": "code",
   "execution_count": null,
   "metadata": {},
   "outputs": [],
   "source": []
  }
 ],
 "metadata": {
  "kernelspec": {
   "display_name": "Python 3",
   "language": "python",
   "name": "python3"
  },
  "language_info": {
   "codemirror_mode": {
    "name": "ipython",
    "version": 3
   },
   "file_extension": ".py",
   "mimetype": "text/x-python",
   "name": "python",
   "nbconvert_exporter": "python",
   "pygments_lexer": "ipython3",
   "version": "3.7.7"
  }
 },
 "nbformat": 4,
 "nbformat_minor": 4
}
