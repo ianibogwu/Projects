{
 "cells": [
  {
   "cell_type": "markdown",
   "metadata": {},
   "source": [
    "In this section I'll focus on using regression models to predict popularity of songs with my coefficents being audio features. Let's see how it goes!"
   ]
  },
  {
   "cell_type": "code",
   "execution_count": 1,
   "metadata": {},
   "outputs": [],
   "source": [
    "import pandas as pd\n",
    "import numpy as np\n",
    "import seaborn as sns\n",
    "import matplotlib.pyplot as plt\n",
    "from sklearn.linear_model import LinearRegression\n",
    "from sklearn.model_selection import train_test_split, cross_val_score\n",
    "from sklearn.preprocessing import StandardScaler\n",
    "from sklearn.linear_model import LinearRegression\n",
    "from sklearn.linear_model import LogisticRegression\n",
    "from sklearn.neighbors import KNeighborsClassifier\n",
    "from sklearn.tree import DecisionTreeClassifier\n",
    "from sklearn.ensemble import BaggingClassifier, RandomForestClassifier, AdaBoostClassifier\n",
    "from sklearn.svm import SVC\n",
    "import re\n",
    "from nltk.tokenize import sent_tokenize, word_tokenize\n",
    "from nltk.tokenize import RegexpTokenizer\n",
    "from sklearn.model_selection import train_test_split, GridSearchCV\n",
    "from sklearn.metrics import f1_score\n",
    "from sklearn.feature_extraction.text import CountVectorizer, TfidfVectorizer\n",
    "from sklearn.pipeline import Pipeline\n",
    "from sklearn.naive_bayes import MultinomialNB\n",
    "from sklearn.metrics import confusion_matrix, plot_confusion_matrix"
   ]
  },
  {
   "cell_type": "code",
   "execution_count": 2,
   "metadata": {},
   "outputs": [
    {
     "data": {
      "text/html": [
       "<div>\n",
       "<style scoped>\n",
       "    .dataframe tbody tr th:only-of-type {\n",
       "        vertical-align: middle;\n",
       "    }\n",
       "\n",
       "    .dataframe tbody tr th {\n",
       "        vertical-align: top;\n",
       "    }\n",
       "\n",
       "    .dataframe thead th {\n",
       "        text-align: right;\n",
       "    }\n",
       "</style>\n",
       "<table border=\"1\" class=\"dataframe\">\n",
       "  <thead>\n",
       "    <tr style=\"text-align: right;\">\n",
       "      <th></th>\n",
       "      <th>artist</th>\n",
       "      <th>track_name</th>\n",
       "      <th>track_id</th>\n",
       "      <th>popularity</th>\n",
       "      <th>danceability</th>\n",
       "      <th>energy</th>\n",
       "      <th>key</th>\n",
       "      <th>loudness</th>\n",
       "      <th>mode</th>\n",
       "      <th>speechiness</th>\n",
       "      <th>instrumentalness</th>\n",
       "      <th>liveness</th>\n",
       "      <th>valence</th>\n",
       "      <th>tempo</th>\n",
       "      <th>duration_ms</th>\n",
       "      <th>time_signature</th>\n",
       "      <th>is_top10</th>\n",
       "    </tr>\n",
       "  </thead>\n",
       "  <tbody>\n",
       "    <tr>\n",
       "      <th>0</th>\n",
       "      <td>Cardi B</td>\n",
       "      <td>WAP (feat. Megan Thee Stallion)</td>\n",
       "      <td>4Oun2ylbjFKMPTiaSbbCih</td>\n",
       "      <td>99</td>\n",
       "      <td>0.935</td>\n",
       "      <td>0.454</td>\n",
       "      <td>1</td>\n",
       "      <td>-7.509</td>\n",
       "      <td>1</td>\n",
       "      <td>0.3750</td>\n",
       "      <td>0.000000</td>\n",
       "      <td>0.0824</td>\n",
       "      <td>0.357</td>\n",
       "      <td>133.073</td>\n",
       "      <td>187541</td>\n",
       "      <td>4</td>\n",
       "      <td>1</td>\n",
       "    </tr>\n",
       "    <tr>\n",
       "      <th>1</th>\n",
       "      <td>DaBaby</td>\n",
       "      <td>ROCKSTAR (feat. Roddy Ricch)</td>\n",
       "      <td>7ytR5pFWmSjzHJIeQkgog4</td>\n",
       "      <td>96</td>\n",
       "      <td>0.746</td>\n",
       "      <td>0.690</td>\n",
       "      <td>11</td>\n",
       "      <td>-7.956</td>\n",
       "      <td>1</td>\n",
       "      <td>0.1640</td>\n",
       "      <td>0.000000</td>\n",
       "      <td>0.1010</td>\n",
       "      <td>0.497</td>\n",
       "      <td>89.977</td>\n",
       "      <td>181733</td>\n",
       "      <td>4</td>\n",
       "      <td>1</td>\n",
       "    </tr>\n",
       "    <tr>\n",
       "      <th>2</th>\n",
       "      <td>BTS</td>\n",
       "      <td>Dynamite</td>\n",
       "      <td>0t1kP63rueHleOhQkYSXFY</td>\n",
       "      <td>97</td>\n",
       "      <td>0.746</td>\n",
       "      <td>0.765</td>\n",
       "      <td>6</td>\n",
       "      <td>-4.410</td>\n",
       "      <td>0</td>\n",
       "      <td>0.0993</td>\n",
       "      <td>0.000000</td>\n",
       "      <td>0.0936</td>\n",
       "      <td>0.737</td>\n",
       "      <td>114.044</td>\n",
       "      <td>199054</td>\n",
       "      <td>4</td>\n",
       "      <td>1</td>\n",
       "    </tr>\n",
       "    <tr>\n",
       "      <th>3</th>\n",
       "      <td>Drake</td>\n",
       "      <td>Laugh Now Cry Later (feat. Lil Durk)</td>\n",
       "      <td>2SAqBLGA283SUiwJ3xOUVI</td>\n",
       "      <td>95</td>\n",
       "      <td>0.761</td>\n",
       "      <td>0.518</td>\n",
       "      <td>0</td>\n",
       "      <td>-8.871</td>\n",
       "      <td>1</td>\n",
       "      <td>0.1340</td>\n",
       "      <td>0.000035</td>\n",
       "      <td>0.1070</td>\n",
       "      <td>0.522</td>\n",
       "      <td>133.976</td>\n",
       "      <td>261493</td>\n",
       "      <td>4</td>\n",
       "      <td>1</td>\n",
       "    </tr>\n",
       "    <tr>\n",
       "      <th>4</th>\n",
       "      <td>The Weeknd</td>\n",
       "      <td>Blinding Lights</td>\n",
       "      <td>0VjIjW4GlUZAMYd2vXMi3b</td>\n",
       "      <td>97</td>\n",
       "      <td>0.514</td>\n",
       "      <td>0.730</td>\n",
       "      <td>1</td>\n",
       "      <td>-5.934</td>\n",
       "      <td>1</td>\n",
       "      <td>0.0598</td>\n",
       "      <td>0.000095</td>\n",
       "      <td>0.0897</td>\n",
       "      <td>0.334</td>\n",
       "      <td>171.005</td>\n",
       "      <td>200040</td>\n",
       "      <td>4</td>\n",
       "      <td>1</td>\n",
       "    </tr>\n",
       "  </tbody>\n",
       "</table>\n",
       "</div>"
      ],
      "text/plain": [
       "       artist                            track_name                track_id  \\\n",
       "0     Cardi B       WAP (feat. Megan Thee Stallion)  4Oun2ylbjFKMPTiaSbbCih   \n",
       "1      DaBaby          ROCKSTAR (feat. Roddy Ricch)  7ytR5pFWmSjzHJIeQkgog4   \n",
       "2         BTS                              Dynamite  0t1kP63rueHleOhQkYSXFY   \n",
       "3       Drake  Laugh Now Cry Later (feat. Lil Durk)  2SAqBLGA283SUiwJ3xOUVI   \n",
       "4  The Weeknd                       Blinding Lights  0VjIjW4GlUZAMYd2vXMi3b   \n",
       "\n",
       "   popularity  danceability  energy  key  loudness  mode  speechiness  \\\n",
       "0          99         0.935   0.454    1    -7.509     1       0.3750   \n",
       "1          96         0.746   0.690   11    -7.956     1       0.1640   \n",
       "2          97         0.746   0.765    6    -4.410     0       0.0993   \n",
       "3          95         0.761   0.518    0    -8.871     1       0.1340   \n",
       "4          97         0.514   0.730    1    -5.934     1       0.0598   \n",
       "\n",
       "   instrumentalness  liveness  valence    tempo  duration_ms  time_signature  \\\n",
       "0          0.000000    0.0824    0.357  133.073       187541               4   \n",
       "1          0.000000    0.1010    0.497   89.977       181733               4   \n",
       "2          0.000000    0.0936    0.737  114.044       199054               4   \n",
       "3          0.000035    0.1070    0.522  133.976       261493               4   \n",
       "4          0.000095    0.0897    0.334  171.005       200040               4   \n",
       "\n",
       "   is_top10  \n",
       "0         1  \n",
       "1         1  \n",
       "2         1  \n",
       "3         1  \n",
       "4         1  "
      ]
     },
     "execution_count": 2,
     "metadata": {},
     "output_type": "execute_result"
    }
   ],
   "source": [
    "#read in billboard data\n",
    "billboard = pd.read_csv('./data/billboard_audio_final.csv')\n",
    "billboard.head()"
   ]
  },
  {
   "cell_type": "code",
   "execution_count": 3,
   "metadata": {},
   "outputs": [
    {
     "name": "stdout",
     "output_type": "stream",
     "text": [
      "<class 'pandas.core.frame.DataFrame'>\n",
      "RangeIndex: 500 entries, 0 to 499\n",
      "Data columns (total 17 columns):\n",
      " #   Column            Non-Null Count  Dtype  \n",
      "---  ------            --------------  -----  \n",
      " 0   artist            500 non-null    object \n",
      " 1   track_name        500 non-null    object \n",
      " 2   track_id          500 non-null    object \n",
      " 3   popularity        500 non-null    int64  \n",
      " 4   danceability      500 non-null    float64\n",
      " 5   energy            500 non-null    float64\n",
      " 6   key               500 non-null    int64  \n",
      " 7   loudness          500 non-null    float64\n",
      " 8   mode              500 non-null    int64  \n",
      " 9   speechiness       500 non-null    float64\n",
      " 10  instrumentalness  500 non-null    float64\n",
      " 11  liveness          500 non-null    float64\n",
      " 12  valence           500 non-null    float64\n",
      " 13  tempo             500 non-null    float64\n",
      " 14  duration_ms       500 non-null    int64  \n",
      " 15  time_signature    500 non-null    int64  \n",
      " 16  is_top10          500 non-null    int64  \n",
      "dtypes: float64(8), int64(6), object(3)\n",
      "memory usage: 66.5+ KB\n"
     ]
    }
   ],
   "source": [
    "billboard.info()"
   ]
  },
  {
   "cell_type": "code",
   "execution_count": 4,
   "metadata": {},
   "outputs": [
    {
     "data": {
      "text/plain": [
       "0.6825879999999992"
      ]
     },
     "execution_count": 4,
     "metadata": {},
     "output_type": "execute_result"
    }
   ],
   "source": [
    "billboard['danceability'].mean()"
   ]
  },
  {
   "cell_type": "code",
   "execution_count": 5,
   "metadata": {},
   "outputs": [
    {
     "data": {
      "text/plain": [
       "0.6550939999999993"
      ]
     },
     "execution_count": 5,
     "metadata": {},
     "output_type": "execute_result"
    }
   ],
   "source": [
    "billboard['energy'].mean()"
   ]
  },
  {
   "cell_type": "code",
   "execution_count": 6,
   "metadata": {},
   "outputs": [
    {
     "data": {
      "text/plain": [
       "4.94"
      ]
     },
     "execution_count": 6,
     "metadata": {},
     "output_type": "execute_result"
    }
   ],
   "source": [
    "billboard['key'].mean()"
   ]
  },
  {
   "cell_type": "code",
   "execution_count": 7,
   "metadata": {},
   "outputs": [
    {
     "data": {
      "text/plain": [
       "-6.0542260000000025"
      ]
     },
     "execution_count": 7,
     "metadata": {},
     "output_type": "execute_result"
    }
   ],
   "source": [
    "billboard['loudness'].mean()"
   ]
  },
  {
   "cell_type": "code",
   "execution_count": 8,
   "metadata": {},
   "outputs": [
    {
     "data": {
      "text/plain": [
       "0.11384420000000005"
      ]
     },
     "execution_count": 8,
     "metadata": {},
     "output_type": "execute_result"
    }
   ],
   "source": [
    "billboard['speechiness'].mean()"
   ]
  },
  {
   "cell_type": "code",
   "execution_count": 9,
   "metadata": {},
   "outputs": [
    {
     "data": {
      "text/plain": [
       "0.0059971014399999995"
      ]
     },
     "execution_count": 9,
     "metadata": {},
     "output_type": "execute_result"
    }
   ],
   "source": [
    "billboard['instrumentalness'].mean()"
   ]
  },
  {
   "cell_type": "code",
   "execution_count": 10,
   "metadata": {},
   "outputs": [
    {
     "data": {
      "text/plain": [
       "0.17575200000000019"
      ]
     },
     "execution_count": 10,
     "metadata": {},
     "output_type": "execute_result"
    }
   ],
   "source": [
    "billboard['liveness'].mean()"
   ]
  },
  {
   "cell_type": "code",
   "execution_count": 11,
   "metadata": {},
   "outputs": [
    {
     "data": {
      "text/plain": [
       "121.51234999999996"
      ]
     },
     "execution_count": 11,
     "metadata": {},
     "output_type": "execute_result"
    }
   ],
   "source": [
    "billboard['tempo'].mean()"
   ]
  },
  {
   "cell_type": "code",
   "execution_count": 12,
   "metadata": {},
   "outputs": [
    {
     "data": {
      "text/plain": [
       "0.5101410000000001"
      ]
     },
     "execution_count": 12,
     "metadata": {},
     "output_type": "execute_result"
    }
   ],
   "source": [
    "billboard['valence'].mean()"
   ]
  },
  {
   "cell_type": "code",
   "execution_count": 13,
   "metadata": {},
   "outputs": [
    {
     "data": {
      "text/html": [
       "<div>\n",
       "<style scoped>\n",
       "    .dataframe tbody tr th:only-of-type {\n",
       "        vertical-align: middle;\n",
       "    }\n",
       "\n",
       "    .dataframe tbody tr th {\n",
       "        vertical-align: top;\n",
       "    }\n",
       "\n",
       "    .dataframe thead th {\n",
       "        text-align: right;\n",
       "    }\n",
       "</style>\n",
       "<table border=\"1\" class=\"dataframe\">\n",
       "  <thead>\n",
       "    <tr style=\"text-align: right;\">\n",
       "      <th></th>\n",
       "      <th>artist</th>\n",
       "      <th>track_name</th>\n",
       "      <th>track_id</th>\n",
       "      <th>popularity</th>\n",
       "      <th>danceability</th>\n",
       "      <th>energy</th>\n",
       "      <th>key</th>\n",
       "      <th>loudness</th>\n",
       "      <th>mode</th>\n",
       "      <th>speechiness</th>\n",
       "      <th>instrumentalness</th>\n",
       "      <th>liveness</th>\n",
       "      <th>valence</th>\n",
       "      <th>tempo</th>\n",
       "      <th>duration_ms</th>\n",
       "      <th>time_signature</th>\n",
       "      <th>is_top10</th>\n",
       "    </tr>\n",
       "  </thead>\n",
       "  <tbody>\n",
       "    <tr>\n",
       "      <th>0</th>\n",
       "      <td>Dagny</td>\n",
       "      <td>Moment</td>\n",
       "      <td>4OkHsgHOmGePTzQfsJGzJE</td>\n",
       "      <td>58</td>\n",
       "      <td>0.832</td>\n",
       "      <td>0.833</td>\n",
       "      <td>0</td>\n",
       "      <td>-3.646</td>\n",
       "      <td>0</td>\n",
       "      <td>0.0452</td>\n",
       "      <td>0.000096</td>\n",
       "      <td>0.156</td>\n",
       "      <td>0.9700</td>\n",
       "      <td>117.973</td>\n",
       "      <td>165979</td>\n",
       "      <td>4</td>\n",
       "      <td>0</td>\n",
       "    </tr>\n",
       "    <tr>\n",
       "      <th>1</th>\n",
       "      <td>Two Feet</td>\n",
       "      <td>Think I'm Crazy</td>\n",
       "      <td>271bNJw8s9aL0EqxBZY56P</td>\n",
       "      <td>62</td>\n",
       "      <td>0.761</td>\n",
       "      <td>0.797</td>\n",
       "      <td>11</td>\n",
       "      <td>-4.818</td>\n",
       "      <td>0</td>\n",
       "      <td>0.0645</td>\n",
       "      <td>0.000010</td>\n",
       "      <td>0.196</td>\n",
       "      <td>0.7820</td>\n",
       "      <td>119.975</td>\n",
       "      <td>182619</td>\n",
       "      <td>4</td>\n",
       "      <td>0</td>\n",
       "    </tr>\n",
       "    <tr>\n",
       "      <th>2</th>\n",
       "      <td>Anna of the North</td>\n",
       "      <td>Someone Special</td>\n",
       "      <td>59JRqDcEQi6o3ZLZKvqo12</td>\n",
       "      <td>55</td>\n",
       "      <td>0.478</td>\n",
       "      <td>0.343</td>\n",
       "      <td>7</td>\n",
       "      <td>-10.728</td>\n",
       "      <td>1</td>\n",
       "      <td>0.0294</td>\n",
       "      <td>0.421000</td>\n",
       "      <td>0.123</td>\n",
       "      <td>0.0819</td>\n",
       "      <td>117.743</td>\n",
       "      <td>256671</td>\n",
       "      <td>4</td>\n",
       "      <td>0</td>\n",
       "    </tr>\n",
       "    <tr>\n",
       "      <th>3</th>\n",
       "      <td>Refs</td>\n",
       "      <td>Run</td>\n",
       "      <td>2BnWdpby84W3Nx5ugnCwDP</td>\n",
       "      <td>32</td>\n",
       "      <td>0.181</td>\n",
       "      <td>0.422</td>\n",
       "      <td>7</td>\n",
       "      <td>-9.211</td>\n",
       "      <td>1</td>\n",
       "      <td>0.0343</td>\n",
       "      <td>0.000071</td>\n",
       "      <td>0.132</td>\n",
       "      <td>0.0551</td>\n",
       "      <td>79.655</td>\n",
       "      <td>202226</td>\n",
       "      <td>5</td>\n",
       "      <td>0</td>\n",
       "    </tr>\n",
       "    <tr>\n",
       "      <th>4</th>\n",
       "      <td>Elohim</td>\n",
       "      <td>Good Day Bad Day</td>\n",
       "      <td>2gvk0tcgT5cm97I1TWHAQa</td>\n",
       "      <td>48</td>\n",
       "      <td>0.865</td>\n",
       "      <td>0.598</td>\n",
       "      <td>5</td>\n",
       "      <td>-6.376</td>\n",
       "      <td>0</td>\n",
       "      <td>0.0948</td>\n",
       "      <td>0.000228</td>\n",
       "      <td>0.171</td>\n",
       "      <td>0.7350</td>\n",
       "      <td>110.018</td>\n",
       "      <td>194886</td>\n",
       "      <td>4</td>\n",
       "      <td>0</td>\n",
       "    </tr>\n",
       "  </tbody>\n",
       "</table>\n",
       "</div>"
      ],
      "text/plain": [
       "              artist        track_name                track_id  popularity  \\\n",
       "0              Dagny            Moment  4OkHsgHOmGePTzQfsJGzJE          58   \n",
       "1           Two Feet   Think I'm Crazy  271bNJw8s9aL0EqxBZY56P          62   \n",
       "2  Anna of the North   Someone Special  59JRqDcEQi6o3ZLZKvqo12          55   \n",
       "3               Refs               Run  2BnWdpby84W3Nx5ugnCwDP          32   \n",
       "4             Elohim  Good Day Bad Day  2gvk0tcgT5cm97I1TWHAQa          48   \n",
       "\n",
       "   danceability  energy  key  loudness  mode  speechiness  instrumentalness  \\\n",
       "0         0.832   0.833    0    -3.646     0       0.0452          0.000096   \n",
       "1         0.761   0.797   11    -4.818     0       0.0645          0.000010   \n",
       "2         0.478   0.343    7   -10.728     1       0.0294          0.421000   \n",
       "3         0.181   0.422    7    -9.211     1       0.0343          0.000071   \n",
       "4         0.865   0.598    5    -6.376     0       0.0948          0.000228   \n",
       "\n",
       "   liveness  valence    tempo  duration_ms  time_signature  is_top10  \n",
       "0     0.156   0.9700  117.973       165979               4         0  \n",
       "1     0.196   0.7820  119.975       182619               4         0  \n",
       "2     0.123   0.0819  117.743       256671               4         0  \n",
       "3     0.132   0.0551   79.655       202226               5         0  \n",
       "4     0.171   0.7350  110.018       194886               4         0  "
      ]
     },
     "execution_count": 13,
     "metadata": {},
     "output_type": "execute_result"
    }
   ],
   "source": [
    "uncharted = pd.read_csv('./data/newsongs_audio_final.csv')\n",
    "uncharted.head()"
   ]
  },
  {
   "cell_type": "code",
   "execution_count": 14,
   "metadata": {},
   "outputs": [
    {
     "data": {
      "text/plain": [
       "0.6258533916849008"
      ]
     },
     "execution_count": 14,
     "metadata": {},
     "output_type": "execute_result"
    }
   ],
   "source": [
    "uncharted['danceability'].mean()"
   ]
  },
  {
   "cell_type": "code",
   "execution_count": 15,
   "metadata": {},
   "outputs": [
    {
     "data": {
      "text/plain": [
       "0.5644857768052517"
      ]
     },
     "execution_count": 15,
     "metadata": {},
     "output_type": "execute_result"
    }
   ],
   "source": [
    "uncharted['energy'].mean()"
   ]
  },
  {
   "cell_type": "code",
   "execution_count": 16,
   "metadata": {},
   "outputs": [
    {
     "data": {
      "text/plain": [
       "5.185995623632385"
      ]
     },
     "execution_count": 16,
     "metadata": {},
     "output_type": "execute_result"
    }
   ],
   "source": [
    "uncharted['key'].mean()"
   ]
  },
  {
   "cell_type": "code",
   "execution_count": 17,
   "metadata": {},
   "outputs": [
    {
     "data": {
      "text/plain": [
       "-8.561857768052517"
      ]
     },
     "execution_count": 17,
     "metadata": {},
     "output_type": "execute_result"
    }
   ],
   "source": [
    "uncharted['loudness'].mean()"
   ]
  },
  {
   "cell_type": "code",
   "execution_count": 18,
   "metadata": {},
   "outputs": [
    {
     "data": {
      "text/plain": [
       "0.167411159737418"
      ]
     },
     "execution_count": 18,
     "metadata": {},
     "output_type": "execute_result"
    }
   ],
   "source": [
    "uncharted['liveness'].mean()"
   ]
  },
  {
   "cell_type": "code",
   "execution_count": 19,
   "metadata": {},
   "outputs": [
    {
     "data": {
      "text/plain": [
       "0.08875388002188185"
      ]
     },
     "execution_count": 19,
     "metadata": {},
     "output_type": "execute_result"
    }
   ],
   "source": [
    "uncharted['instrumentalness'].mean()"
   ]
  },
  {
   "cell_type": "code",
   "execution_count": 20,
   "metadata": {},
   "outputs": [
    {
     "data": {
      "text/plain": [
       "0.08599299781181625"
      ]
     },
     "execution_count": 20,
     "metadata": {},
     "output_type": "execute_result"
    }
   ],
   "source": [
    "uncharted['speechiness'].mean()"
   ]
  },
  {
   "cell_type": "code",
   "execution_count": 21,
   "metadata": {},
   "outputs": [
    {
     "data": {
      "text/plain": [
       "0.43591444201312884"
      ]
     },
     "execution_count": 21,
     "metadata": {},
     "output_type": "execute_result"
    }
   ],
   "source": [
    "uncharted['valence'].mean()"
   ]
  },
  {
   "cell_type": "code",
   "execution_count": 22,
   "metadata": {},
   "outputs": [
    {
     "data": {
      "text/plain": [
       "120.96923194748369"
      ]
     },
     "execution_count": 22,
     "metadata": {},
     "output_type": "execute_result"
    }
   ],
   "source": [
    "uncharted['tempo'].mean()"
   ]
  },
  {
   "cell_type": "code",
   "execution_count": 23,
   "metadata": {},
   "outputs": [],
   "source": [
    "final_df = pd.concat([billboard, uncharted], ignore_index= True)"
   ]
  },
  {
   "cell_type": "markdown",
   "metadata": {},
   "source": [
    "## What do our results tell us?\n",
    "\n",
    "- This shows that on average, Billboard top 10 songs have higher scores than non top 10 tracks!\n",
    "- By looking at the mean scores, Billboard top-10 songs out rank our uncharted in terms of dancability, energy and loudness. Other feaures are listed too but these three were what stood out to me"
   ]
  },
  {
   "cell_type": "markdown",
   "metadata": {},
   "source": [
    "## Classification models"
   ]
  },
  {
   "cell_type": "code",
   "execution_count": 24,
   "metadata": {},
   "outputs": [],
   "source": [
    "features= final_df.drop(columns=[\"artist\", \"track_name\", \"track_id\", \"is_top10\", \"popularity\"])\n",
    "X = features\n",
    "y = final_df['is_top10']\n",
    "\n",
    "X_train, X_test, y_train, y_test = train_test_split(\n",
    "    X, y,\n",
    "    test_size = 0.2,\n",
    "    random_state = 42\n",
    ")\n",
    "\n",
    "sc = StandardScaler()\n",
    "X_train = sc.fit_transform(X_train)\n",
    "X_test = sc.transform(X_test)"
   ]
  },
  {
   "cell_type": "code",
   "execution_count": 25,
   "metadata": {},
   "outputs": [
    {
     "data": {
      "text/plain": [
       "SVC(C=1.0, break_ties=False, cache_size=200, class_weight=None, coef0=0.0,\n",
       "    decision_function_shape='ovr', degree=3, gamma='scale', kernel='rbf',\n",
       "    max_iter=-1, probability=False, random_state=None, shrinking=True,\n",
       "    tol=0.001, verbose=False)"
      ]
     },
     "execution_count": 25,
     "metadata": {},
     "output_type": "execute_result"
    }
   ],
   "source": [
    "logreg_class = LogisticRegression()\n",
    "logreg_class.fit(X_train, y_train)\n",
    "\n",
    "knn_class = KNeighborsClassifier()\n",
    "knn_class.fit(X_train, y_train)\n",
    "\n",
    "cart_class = DecisionTreeClassifier()\n",
    "cart_class.fit(X_train, y_train)\n",
    "\n",
    "bagged_class = BaggingClassifier()\n",
    "bagged_class.fit(X_train, y_train)\n",
    "\n",
    "random_forest_class = RandomForestClassifier()\n",
    "random_forest_class.fit(X_train, y_train)\n",
    "\n",
    "adaboost_class = AdaBoostClassifier()\n",
    "adaboost_class.fit(X_train, y_train)\n",
    "\n",
    "support_vector_class = SVC()\n",
    "support_vector_class.fit(X_train, y_train)"
   ]
  },
  {
   "cell_type": "code",
   "execution_count": 26,
   "metadata": {},
   "outputs": [],
   "source": [
    "def f1_scorer(model, X_train, X_test, y_train, y_test):\n",
    "    f1_train = f1_score(y_true = y_train,\n",
    "                        y_pred = model.predict(X_train))\n",
    "    f1_test = f1_score(y_true = y_test,\n",
    "                       y_pred = model.predict(X_test))\n",
    "    \n",
    "    print(\"The training F1-score for \" + str(model.__class__.__name__) + \" is: \" + str(f1_train))\n",
    "    print(\"The testing F1-score for \" + str(model.__class__.__name__) + \" is: \" + str(f1_test))\n",
    "    print()"
   ]
  },
  {
   "cell_type": "code",
   "execution_count": 27,
   "metadata": {},
   "outputs": [
    {
     "name": "stdout",
     "output_type": "stream",
     "text": [
      "The training F1-score for LogisticRegression is: 0.7931034482758621\n",
      "The testing F1-score for LogisticRegression is: 0.7549019607843137\n",
      "\n",
      "The training F1-score for KNeighborsClassifier is: 0.8224513172966781\n",
      "The testing F1-score for KNeighborsClassifier is: 0.6886792452830189\n",
      "\n",
      "The training F1-score for DecisionTreeClassifier is: 0.9975490196078431\n",
      "The testing F1-score for DecisionTreeClassifier is: 0.68\n",
      "\n",
      "The training F1-score for BaggingClassifier is: 0.976629766297663\n",
      "The testing F1-score for BaggingClassifier is: 0.6910994764397906\n",
      "\n",
      "The training F1-score for RandomForestClassifier is: 0.9975550122249389\n",
      "The testing F1-score for RandomForestClassifier is: 0.7216494845360826\n",
      "\n",
      "The training F1-score for AdaBoostClassifier is: 0.8455089820359281\n",
      "The testing F1-score for AdaBoostClassifier is: 0.7093596059113301\n",
      "\n",
      "The training F1-score for SVC is: 0.8290993071593534\n",
      "The testing F1-score for SVC is: 0.743718592964824\n",
      "\n"
     ]
    }
   ],
   "source": [
    "f1_scorer(logreg_class, X_train, X_test, y_train, y_test)\n",
    "f1_scorer(knn_class, X_train, X_test, y_train, y_test)\n",
    "f1_scorer(cart_class, X_train, X_test, y_train, y_test)\n",
    "f1_scorer(bagged_class, X_train, X_test, y_train, y_test)\n",
    "f1_scorer(random_forest_class, X_train, X_test, y_train, y_test)\n",
    "f1_scorer(adaboost_class, X_train, X_test, y_train, y_test)\n",
    "f1_scorer(support_vector_class, X_train, X_test, y_train, y_test)"
   ]
  },
  {
   "cell_type": "code",
   "execution_count": 28,
   "metadata": {},
   "outputs": [
    {
     "data": {
      "text/plain": [
       "1    0.522466\n",
       "0    0.477534\n",
       "Name: is_top10, dtype: float64"
      ]
     },
     "execution_count": 28,
     "metadata": {},
     "output_type": "execute_result"
    }
   ],
   "source": [
    "y.value_counts(normalize=True)"
   ]
  },
  {
   "cell_type": "markdown",
   "metadata": {},
   "source": [
    "## Conclusion:\n",
    "\n",
    "So using just audio features, our model was able to predict over our baseline on which songs were Billboard Top 10 songs!\n",
    "\n",
    "-We'll add in lyrics and see if we can get a better prediction"
   ]
  },
  {
   "cell_type": "markdown",
   "metadata": {},
   "source": [
    "# Adding in the lyrics.\n",
    "- At this point we have an idea as to how good our model is at predicting if a song is top 10 or not just by the audio features\n",
    "- Now lets see what the lyrics tell us!"
   ]
  },
  {
   "cell_type": "code",
   "execution_count": 29,
   "metadata": {},
   "outputs": [
    {
     "data": {
      "text/html": [
       "<div>\n",
       "<style scoped>\n",
       "    .dataframe tbody tr th:only-of-type {\n",
       "        vertical-align: middle;\n",
       "    }\n",
       "\n",
       "    .dataframe tbody tr th {\n",
       "        vertical-align: top;\n",
       "    }\n",
       "\n",
       "    .dataframe thead th {\n",
       "        text-align: right;\n",
       "    }\n",
       "</style>\n",
       "<table border=\"1\" class=\"dataframe\">\n",
       "  <thead>\n",
       "    <tr style=\"text-align: right;\">\n",
       "      <th></th>\n",
       "      <th>artist</th>\n",
       "      <th>track_name</th>\n",
       "      <th>track_id</th>\n",
       "      <th>popularity</th>\n",
       "      <th>danceability</th>\n",
       "      <th>energy</th>\n",
       "      <th>key</th>\n",
       "      <th>loudness</th>\n",
       "      <th>mode</th>\n",
       "      <th>speechiness</th>\n",
       "      <th>instrumentalness</th>\n",
       "      <th>liveness</th>\n",
       "      <th>valence</th>\n",
       "      <th>tempo</th>\n",
       "      <th>duration_ms</th>\n",
       "      <th>time_signature</th>\n",
       "      <th>is_top10</th>\n",
       "      <th>lyrics</th>\n",
       "    </tr>\n",
       "  </thead>\n",
       "  <tbody>\n",
       "    <tr>\n",
       "      <th>0</th>\n",
       "      <td>Cardi B</td>\n",
       "      <td>WAP (feat. Megan Thee Stallion)</td>\n",
       "      <td>4Oun2ylbjFKMPTiaSbbCih</td>\n",
       "      <td>99</td>\n",
       "      <td>0.935</td>\n",
       "      <td>0.454</td>\n",
       "      <td>1</td>\n",
       "      <td>-7.509</td>\n",
       "      <td>1</td>\n",
       "      <td>0.3750</td>\n",
       "      <td>0.000000</td>\n",
       "      <td>0.0824</td>\n",
       "      <td>0.357</td>\n",
       "      <td>133.073</td>\n",
       "      <td>187541</td>\n",
       "      <td>4</td>\n",
       "      <td>1</td>\n",
       "      <td>[Cardi B]\\nLook I said, certified freak\\nSeven...</td>\n",
       "    </tr>\n",
       "    <tr>\n",
       "      <th>1</th>\n",
       "      <td>DaBaby</td>\n",
       "      <td>ROCKSTAR (feat. Roddy Ricch)</td>\n",
       "      <td>7ytR5pFWmSjzHJIeQkgog4</td>\n",
       "      <td>96</td>\n",
       "      <td>0.746</td>\n",
       "      <td>0.690</td>\n",
       "      <td>11</td>\n",
       "      <td>-7.956</td>\n",
       "      <td>1</td>\n",
       "      <td>0.1640</td>\n",
       "      <td>0.000000</td>\n",
       "      <td>0.1010</td>\n",
       "      <td>0.497</td>\n",
       "      <td>89.977</td>\n",
       "      <td>181733</td>\n",
       "      <td>4</td>\n",
       "      <td>1</td>\n",
       "      <td>[Intro: DaBaby]\\nWoo, woo\\nI pull up (pull up)...</td>\n",
       "    </tr>\n",
       "    <tr>\n",
       "      <th>2</th>\n",
       "      <td>BTS</td>\n",
       "      <td>Dynamite</td>\n",
       "      <td>0t1kP63rueHleOhQkYSXFY</td>\n",
       "      <td>97</td>\n",
       "      <td>0.746</td>\n",
       "      <td>0.765</td>\n",
       "      <td>6</td>\n",
       "      <td>-4.410</td>\n",
       "      <td>0</td>\n",
       "      <td>0.0993</td>\n",
       "      <td>0.000000</td>\n",
       "      <td>0.0936</td>\n",
       "      <td>0.737</td>\n",
       "      <td>114.044</td>\n",
       "      <td>199054</td>\n",
       "      <td>4</td>\n",
       "      <td>1</td>\n",
       "      <td>[Intro: Jungkook]\\n'Cause I, I, I'm in the sta...</td>\n",
       "    </tr>\n",
       "    <tr>\n",
       "      <th>3</th>\n",
       "      <td>Drake</td>\n",
       "      <td>Laugh Now Cry Later (feat. Lil Durk)</td>\n",
       "      <td>2SAqBLGA283SUiwJ3xOUVI</td>\n",
       "      <td>95</td>\n",
       "      <td>0.761</td>\n",
       "      <td>0.518</td>\n",
       "      <td>0</td>\n",
       "      <td>-8.871</td>\n",
       "      <td>1</td>\n",
       "      <td>0.1340</td>\n",
       "      <td>0.000035</td>\n",
       "      <td>0.1070</td>\n",
       "      <td>0.522</td>\n",
       "      <td>133.976</td>\n",
       "      <td>261493</td>\n",
       "      <td>4</td>\n",
       "      <td>1</td>\n",
       "      <td>[Intro: Drake]\\nWoah, woah\\nYeah\\n\\n[Chorus: D...</td>\n",
       "    </tr>\n",
       "    <tr>\n",
       "      <th>4</th>\n",
       "      <td>The Weeknd</td>\n",
       "      <td>Blinding Lights</td>\n",
       "      <td>0VjIjW4GlUZAMYd2vXMi3b</td>\n",
       "      <td>97</td>\n",
       "      <td>0.514</td>\n",
       "      <td>0.730</td>\n",
       "      <td>1</td>\n",
       "      <td>-5.934</td>\n",
       "      <td>1</td>\n",
       "      <td>0.0598</td>\n",
       "      <td>0.000095</td>\n",
       "      <td>0.0897</td>\n",
       "      <td>0.334</td>\n",
       "      <td>171.005</td>\n",
       "      <td>200040</td>\n",
       "      <td>4</td>\n",
       "      <td>1</td>\n",
       "      <td>[Intro]\\nYeah\\n\\n[Verse 1]\\nI've been tryna ca...</td>\n",
       "    </tr>\n",
       "    <tr>\n",
       "      <th>5</th>\n",
       "      <td>24kGoldn</td>\n",
       "      <td>Mood (feat. Iann Dior)</td>\n",
       "      <td>3tjFYV6RSFtuktYl3ZtYcq</td>\n",
       "      <td>100</td>\n",
       "      <td>0.700</td>\n",
       "      <td>0.722</td>\n",
       "      <td>7</td>\n",
       "      <td>-3.558</td>\n",
       "      <td>0</td>\n",
       "      <td>0.0369</td>\n",
       "      <td>0.000000</td>\n",
       "      <td>0.2720</td>\n",
       "      <td>0.756</td>\n",
       "      <td>90.989</td>\n",
       "      <td>140526</td>\n",
       "      <td>4</td>\n",
       "      <td>1</td>\n",
       "      <td>[Intro: 24kGoldn]\\nOh-oh-oh\\nYeah, yeah, yeah,...</td>\n",
       "    </tr>\n",
       "    <tr>\n",
       "      <th>6</th>\n",
       "      <td>Harry Styles</td>\n",
       "      <td>Watermelon Sugar</td>\n",
       "      <td>6UelLqGlWMcVH1E5c4H7lY</td>\n",
       "      <td>95</td>\n",
       "      <td>0.548</td>\n",
       "      <td>0.816</td>\n",
       "      <td>0</td>\n",
       "      <td>-4.209</td>\n",
       "      <td>1</td>\n",
       "      <td>0.0465</td>\n",
       "      <td>0.000000</td>\n",
       "      <td>0.3350</td>\n",
       "      <td>0.557</td>\n",
       "      <td>95.390</td>\n",
       "      <td>174000</td>\n",
       "      <td>4</td>\n",
       "      <td>1</td>\n",
       "      <td>[Verse 1]\\nTastes like strawberries on a summe...</td>\n",
       "    </tr>\n",
       "    <tr>\n",
       "      <th>7</th>\n",
       "      <td>Jack Harlow</td>\n",
       "      <td>WHATS POPPIN (feat. DaBaby, Tory Lanez &amp; Lil W...</td>\n",
       "      <td>2MbdDtCv5LUVjYy9RuGTgC</td>\n",
       "      <td>91</td>\n",
       "      <td>0.904</td>\n",
       "      <td>0.723</td>\n",
       "      <td>11</td>\n",
       "      <td>-5.224</td>\n",
       "      <td>0</td>\n",
       "      <td>0.2600</td>\n",
       "      <td>0.000000</td>\n",
       "      <td>0.1850</td>\n",
       "      <td>0.835</td>\n",
       "      <td>145.013</td>\n",
       "      <td>227478</td>\n",
       "      <td>4</td>\n",
       "      <td>1</td>\n",
       "      <td>[Verse 1: Jack Harlow]\\nBack with the remix\\nT...</td>\n",
       "    </tr>\n",
       "    <tr>\n",
       "      <th>8</th>\n",
       "      <td>Jawsh 685</td>\n",
       "      <td>Savage Love (Laxed – Siren Beat) [BTS Remix]</td>\n",
       "      <td>4TgxFMOn5yoESW6zCidCXL</td>\n",
       "      <td>84</td>\n",
       "      <td>0.758</td>\n",
       "      <td>0.598</td>\n",
       "      <td>0</td>\n",
       "      <td>-5.695</td>\n",
       "      <td>0</td>\n",
       "      <td>0.0868</td>\n",
       "      <td>0.000000</td>\n",
       "      <td>0.2950</td>\n",
       "      <td>0.658</td>\n",
       "      <td>149.836</td>\n",
       "      <td>184905</td>\n",
       "      <td>4</td>\n",
       "      <td>1</td>\n",
       "      <td>[Intro]\\nBTS\\n\\n[Chorus: Jung Kook]\\nSavage lo...</td>\n",
       "    </tr>\n",
       "    <tr>\n",
       "      <th>9</th>\n",
       "      <td>DJ Khaled</td>\n",
       "      <td>POPSTAR (feat. Drake)</td>\n",
       "      <td>6EDO9iiTtwNv6waLwa1UUq</td>\n",
       "      <td>93</td>\n",
       "      <td>0.800</td>\n",
       "      <td>0.560</td>\n",
       "      <td>5</td>\n",
       "      <td>-4.818</td>\n",
       "      <td>0</td>\n",
       "      <td>0.2610</td>\n",
       "      <td>0.000000</td>\n",
       "      <td>0.1340</td>\n",
       "      <td>0.450</td>\n",
       "      <td>163.071</td>\n",
       "      <td>200221</td>\n",
       "      <td>4</td>\n",
       "      <td>1</td>\n",
       "      <td>Bitches callin′ my phone like\\nI am locked up‚...</td>\n",
       "    </tr>\n",
       "  </tbody>\n",
       "</table>\n",
       "</div>"
      ],
      "text/plain": [
       "         artist                                         track_name  \\\n",
       "0       Cardi B                    WAP (feat. Megan Thee Stallion)   \n",
       "1        DaBaby                       ROCKSTAR (feat. Roddy Ricch)   \n",
       "2           BTS                                           Dynamite   \n",
       "3         Drake               Laugh Now Cry Later (feat. Lil Durk)   \n",
       "4    The Weeknd                                    Blinding Lights   \n",
       "5      24kGoldn                             Mood (feat. Iann Dior)   \n",
       "6  Harry Styles                                   Watermelon Sugar   \n",
       "7   Jack Harlow  WHATS POPPIN (feat. DaBaby, Tory Lanez & Lil W...   \n",
       "8     Jawsh 685       Savage Love (Laxed – Siren Beat) [BTS Remix]   \n",
       "9     DJ Khaled                              POPSTAR (feat. Drake)   \n",
       "\n",
       "                 track_id  popularity  danceability  energy  key  loudness  \\\n",
       "0  4Oun2ylbjFKMPTiaSbbCih          99         0.935   0.454    1    -7.509   \n",
       "1  7ytR5pFWmSjzHJIeQkgog4          96         0.746   0.690   11    -7.956   \n",
       "2  0t1kP63rueHleOhQkYSXFY          97         0.746   0.765    6    -4.410   \n",
       "3  2SAqBLGA283SUiwJ3xOUVI          95         0.761   0.518    0    -8.871   \n",
       "4  0VjIjW4GlUZAMYd2vXMi3b          97         0.514   0.730    1    -5.934   \n",
       "5  3tjFYV6RSFtuktYl3ZtYcq         100         0.700   0.722    7    -3.558   \n",
       "6  6UelLqGlWMcVH1E5c4H7lY          95         0.548   0.816    0    -4.209   \n",
       "7  2MbdDtCv5LUVjYy9RuGTgC          91         0.904   0.723   11    -5.224   \n",
       "8  4TgxFMOn5yoESW6zCidCXL          84         0.758   0.598    0    -5.695   \n",
       "9  6EDO9iiTtwNv6waLwa1UUq          93         0.800   0.560    5    -4.818   \n",
       "\n",
       "   mode  speechiness  instrumentalness  liveness  valence    tempo  \\\n",
       "0     1       0.3750          0.000000    0.0824    0.357  133.073   \n",
       "1     1       0.1640          0.000000    0.1010    0.497   89.977   \n",
       "2     0       0.0993          0.000000    0.0936    0.737  114.044   \n",
       "3     1       0.1340          0.000035    0.1070    0.522  133.976   \n",
       "4     1       0.0598          0.000095    0.0897    0.334  171.005   \n",
       "5     0       0.0369          0.000000    0.2720    0.756   90.989   \n",
       "6     1       0.0465          0.000000    0.3350    0.557   95.390   \n",
       "7     0       0.2600          0.000000    0.1850    0.835  145.013   \n",
       "8     0       0.0868          0.000000    0.2950    0.658  149.836   \n",
       "9     0       0.2610          0.000000    0.1340    0.450  163.071   \n",
       "\n",
       "   duration_ms  time_signature  is_top10  \\\n",
       "0       187541               4         1   \n",
       "1       181733               4         1   \n",
       "2       199054               4         1   \n",
       "3       261493               4         1   \n",
       "4       200040               4         1   \n",
       "5       140526               4         1   \n",
       "6       174000               4         1   \n",
       "7       227478               4         1   \n",
       "8       184905               4         1   \n",
       "9       200221               4         1   \n",
       "\n",
       "                                              lyrics  \n",
       "0  [Cardi B]\\nLook I said, certified freak\\nSeven...  \n",
       "1  [Intro: DaBaby]\\nWoo, woo\\nI pull up (pull up)...  \n",
       "2  [Intro: Jungkook]\\n'Cause I, I, I'm in the sta...  \n",
       "3  [Intro: Drake]\\nWoah, woah\\nYeah\\n\\n[Chorus: D...  \n",
       "4  [Intro]\\nYeah\\n\\n[Verse 1]\\nI've been tryna ca...  \n",
       "5  [Intro: 24kGoldn]\\nOh-oh-oh\\nYeah, yeah, yeah,...  \n",
       "6  [Verse 1]\\nTastes like strawberries on a summe...  \n",
       "7  [Verse 1: Jack Harlow]\\nBack with the remix\\nT...  \n",
       "8  [Intro]\\nBTS\\n\\n[Chorus: Jung Kook]\\nSavage lo...  \n",
       "9  Bitches callin′ my phone like\\nI am locked up‚...  "
      ]
     },
     "execution_count": 29,
     "metadata": {},
     "output_type": "execute_result"
    }
   ],
   "source": [
    "lyrics_df = pd.read_csv('./data/final_df_lyrics.csv')\n",
    "lyrics_df.head(10)"
   ]
  },
  {
   "cell_type": "code",
   "execution_count": 30,
   "metadata": {},
   "outputs": [
    {
     "name": "stdout",
     "output_type": "stream",
     "text": [
      "<class 'pandas.core.frame.DataFrame'>\n",
      "RangeIndex: 957 entries, 0 to 956\n",
      "Data columns (total 18 columns):\n",
      " #   Column            Non-Null Count  Dtype  \n",
      "---  ------            --------------  -----  \n",
      " 0   artist            957 non-null    object \n",
      " 1   track_name        957 non-null    object \n",
      " 2   track_id          957 non-null    object \n",
      " 3   popularity        957 non-null    int64  \n",
      " 4   danceability      957 non-null    float64\n",
      " 5   energy            957 non-null    float64\n",
      " 6   key               957 non-null    int64  \n",
      " 7   loudness          957 non-null    float64\n",
      " 8   mode              957 non-null    int64  \n",
      " 9   speechiness       957 non-null    float64\n",
      " 10  instrumentalness  957 non-null    float64\n",
      " 11  liveness          957 non-null    float64\n",
      " 12  valence           957 non-null    float64\n",
      " 13  tempo             957 non-null    float64\n",
      " 14  duration_ms       957 non-null    int64  \n",
      " 15  time_signature    957 non-null    int64  \n",
      " 16  is_top10          957 non-null    int64  \n",
      " 17  lyrics            884 non-null    object \n",
      "dtypes: float64(8), int64(6), object(4)\n",
      "memory usage: 134.7+ KB\n"
     ]
    }
   ],
   "source": [
    "lyrics_df.info()"
   ]
  },
  {
   "cell_type": "code",
   "execution_count": 31,
   "metadata": {},
   "outputs": [],
   "source": [
    "lyrics_df['lyrics1']= lyrics_df.loc[lyrics_df['is_top10'] ==1]['lyrics']"
   ]
  },
  {
   "cell_type": "code",
   "execution_count": 32,
   "metadata": {},
   "outputs": [],
   "source": [
    "lyrics_df.fillna('nan', inplace = True) #not sure why some of the lyrics disappared keep them as null. It's only about 5% of the data"
   ]
  },
  {
   "cell_type": "code",
   "execution_count": 33,
   "metadata": {},
   "outputs": [],
   "source": [
    "#using count vectorizer to remove stop words\n",
    "cv = CountVectorizer(stop_words= 'english', min_df= 2, ngram_range = (1,2))\n",
    "cv.fit(lyrics_df['lyrics1'])\n",
    "lyrics_count = cv.transform(lyrics_df['lyrics1'])\n",
    "lyrics_count_df = pd.DataFrame(lyrics_count.todense(), columns = cv.get_feature_names())"
   ]
  },
  {
   "cell_type": "code",
   "execution_count": 34,
   "metadata": {},
   "outputs": [
    {
     "data": {
      "text/html": [
       "<div>\n",
       "<style scoped>\n",
       "    .dataframe tbody tr th:only-of-type {\n",
       "        vertical-align: middle;\n",
       "    }\n",
       "\n",
       "    .dataframe tbody tr th {\n",
       "        vertical-align: top;\n",
       "    }\n",
       "\n",
       "    .dataframe thead th {\n",
       "        text-align: right;\n",
       "    }\n",
       "</style>\n",
       "<table border=\"1\" class=\"dataframe\">\n",
       "  <thead>\n",
       "    <tr style=\"text-align: right;\">\n",
       "      <th></th>\n",
       "      <th>000</th>\n",
       "      <th>000 hours</th>\n",
       "      <th>000 years</th>\n",
       "      <th>03</th>\n",
       "      <th>070</th>\n",
       "      <th>070 shake</th>\n",
       "      <th>08</th>\n",
       "      <th>10</th>\n",
       "      <th>10 000</th>\n",
       "      <th>10 10</th>\n",
       "      <th>...</th>\n",
       "      <th>یا</th>\n",
       "      <th>یه</th>\n",
       "      <th>یک</th>\n",
       "      <th>یکی</th>\n",
       "      <th>가사</th>\n",
       "      <th>그런</th>\n",
       "      <th>나를</th>\n",
       "      <th>내가</th>\n",
       "      <th>않는</th>\n",
       "      <th>있는</th>\n",
       "    </tr>\n",
       "  </thead>\n",
       "  <tbody>\n",
       "    <tr>\n",
       "      <th>0</th>\n",
       "      <td>0</td>\n",
       "      <td>0</td>\n",
       "      <td>0</td>\n",
       "      <td>0</td>\n",
       "      <td>0</td>\n",
       "      <td>0</td>\n",
       "      <td>0</td>\n",
       "      <td>0</td>\n",
       "      <td>0</td>\n",
       "      <td>0</td>\n",
       "      <td>...</td>\n",
       "      <td>0</td>\n",
       "      <td>0</td>\n",
       "      <td>0</td>\n",
       "      <td>0</td>\n",
       "      <td>0</td>\n",
       "      <td>0</td>\n",
       "      <td>0</td>\n",
       "      <td>0</td>\n",
       "      <td>0</td>\n",
       "      <td>0</td>\n",
       "    </tr>\n",
       "    <tr>\n",
       "      <th>1</th>\n",
       "      <td>0</td>\n",
       "      <td>0</td>\n",
       "      <td>0</td>\n",
       "      <td>0</td>\n",
       "      <td>0</td>\n",
       "      <td>0</td>\n",
       "      <td>0</td>\n",
       "      <td>0</td>\n",
       "      <td>0</td>\n",
       "      <td>0</td>\n",
       "      <td>...</td>\n",
       "      <td>0</td>\n",
       "      <td>0</td>\n",
       "      <td>0</td>\n",
       "      <td>0</td>\n",
       "      <td>0</td>\n",
       "      <td>0</td>\n",
       "      <td>0</td>\n",
       "      <td>0</td>\n",
       "      <td>0</td>\n",
       "      <td>0</td>\n",
       "    </tr>\n",
       "    <tr>\n",
       "      <th>2</th>\n",
       "      <td>0</td>\n",
       "      <td>0</td>\n",
       "      <td>0</td>\n",
       "      <td>0</td>\n",
       "      <td>0</td>\n",
       "      <td>0</td>\n",
       "      <td>0</td>\n",
       "      <td>0</td>\n",
       "      <td>0</td>\n",
       "      <td>0</td>\n",
       "      <td>...</td>\n",
       "      <td>0</td>\n",
       "      <td>0</td>\n",
       "      <td>0</td>\n",
       "      <td>0</td>\n",
       "      <td>0</td>\n",
       "      <td>0</td>\n",
       "      <td>0</td>\n",
       "      <td>0</td>\n",
       "      <td>0</td>\n",
       "      <td>0</td>\n",
       "    </tr>\n",
       "    <tr>\n",
       "      <th>3</th>\n",
       "      <td>0</td>\n",
       "      <td>0</td>\n",
       "      <td>0</td>\n",
       "      <td>0</td>\n",
       "      <td>0</td>\n",
       "      <td>0</td>\n",
       "      <td>0</td>\n",
       "      <td>0</td>\n",
       "      <td>0</td>\n",
       "      <td>0</td>\n",
       "      <td>...</td>\n",
       "      <td>0</td>\n",
       "      <td>0</td>\n",
       "      <td>0</td>\n",
       "      <td>0</td>\n",
       "      <td>0</td>\n",
       "      <td>0</td>\n",
       "      <td>0</td>\n",
       "      <td>0</td>\n",
       "      <td>0</td>\n",
       "      <td>0</td>\n",
       "    </tr>\n",
       "    <tr>\n",
       "      <th>4</th>\n",
       "      <td>0</td>\n",
       "      <td>0</td>\n",
       "      <td>0</td>\n",
       "      <td>0</td>\n",
       "      <td>0</td>\n",
       "      <td>0</td>\n",
       "      <td>0</td>\n",
       "      <td>0</td>\n",
       "      <td>0</td>\n",
       "      <td>0</td>\n",
       "      <td>...</td>\n",
       "      <td>0</td>\n",
       "      <td>0</td>\n",
       "      <td>0</td>\n",
       "      <td>0</td>\n",
       "      <td>0</td>\n",
       "      <td>0</td>\n",
       "      <td>0</td>\n",
       "      <td>0</td>\n",
       "      <td>0</td>\n",
       "      <td>0</td>\n",
       "    </tr>\n",
       "  </tbody>\n",
       "</table>\n",
       "<p>5 rows × 18385 columns</p>\n",
       "</div>"
      ],
      "text/plain": [
       "   000  000 hours  000 years  03  070  070 shake  08  10  10 000  10 10  ...  \\\n",
       "0    0          0          0   0    0          0   0   0       0      0  ...   \n",
       "1    0          0          0   0    0          0   0   0       0      0  ...   \n",
       "2    0          0          0   0    0          0   0   0       0      0  ...   \n",
       "3    0          0          0   0    0          0   0   0       0      0  ...   \n",
       "4    0          0          0   0    0          0   0   0       0      0  ...   \n",
       "\n",
       "   یا  یه  یک  یکی  가사  그런  나를  내가  않는  있는  \n",
       "0   0   0   0    0   0   0   0   0   0   0  \n",
       "1   0   0   0    0   0   0   0   0   0   0  \n",
       "2   0   0   0    0   0   0   0   0   0   0  \n",
       "3   0   0   0    0   0   0   0   0   0   0  \n",
       "4   0   0   0    0   0   0   0   0   0   0  \n",
       "\n",
       "[5 rows x 18385 columns]"
      ]
     },
     "execution_count": 34,
     "metadata": {},
     "output_type": "execute_result"
    }
   ],
   "source": [
    "lyrics_count_df.head()"
   ]
  },
  {
   "cell_type": "code",
   "execution_count": 35,
   "metadata": {},
   "outputs": [
    {
     "data": {
      "image/png": "[encoded data removed]",
      "text/plain": [
       "<Figure size 432x288 with 1 Axes>"
      ]
     },
     "metadata": {
      "needs_background": "light"
     },
     "output_type": "display_data"
    }
   ],
   "source": [
    "plt.yticks(fontsize = 10)\n",
    "lyrics_count_df.sum().sort_values(ascending = False).head(31).plot(kind = 'barh', title = 'Top 30 words in Hot-100 top 10 songs')\n",
    "plt.savefig('./images/top_words.png', bbox_inches='tight');"
   ]
  },
  {
   "cell_type": "code",
   "execution_count": 36,
   "metadata": {},
   "outputs": [],
   "source": [
    "#adding cleaned lyrics col\n",
    "regex = RegexpTokenizer('\\w+|\\$[\\d\\.]+|\\S+\\s+\\?\\(\\[')\n",
    "token_ = lyrics_df['lyrics'].apply(regex.tokenize)"
   ]
  },
  {
   "cell_type": "code",
   "execution_count": 37,
   "metadata": {},
   "outputs": [
    {
     "data": {
      "text/plain": [
       "0    [Cardi, B, Look, I, said, certified, freak, Se...\n",
       "1    [Intro, DaBaby, Woo, woo, I, pull, up, pull, u...\n",
       "Name: lyrics, dtype: object"
      ]
     },
     "execution_count": 37,
     "metadata": {},
     "output_type": "execute_result"
    }
   ],
   "source": [
    "token_[0:2]"
   ]
  },
  {
   "cell_type": "code",
   "execution_count": 38,
   "metadata": {},
   "outputs": [],
   "source": [
    "lyricss = lyrics_df['lyrics'][0:]"
   ]
  },
  {
   "cell_type": "code",
   "execution_count": 39,
   "metadata": {},
   "outputs": [],
   "source": [
    "stopwords = CountVectorizer(stop_words = 'english').get_stop_words()"
   ]
  },
  {
   "cell_type": "code",
   "execution_count": 40,
   "metadata": {},
   "outputs": [],
   "source": [
    "newlyrics = []\n",
    "for lyric in lyricss:\n",
    "    lyric_letters = re.sub(\"[^a-zA-z]\", \" \", lyric) #tokenizing our data and returning only words, no special characters\n",
    "    words = lyric_letters.lower().split() #making all words lower case\n",
    "    \n",
    "    stop_words = set(stopwords)           #stop words to be removed\n",
    "    \n",
    "    useful_words = [word for word in words if not word in stop_words]\n",
    "    \n",
    "    useful_words2 = (\" \".join(useful_words))\n",
    "    newlyrics.append(useful_words2)"
   ]
  },
  {
   "cell_type": "code",
   "execution_count": 41,
   "metadata": {},
   "outputs": [],
   "source": [
    "cleaned_lyrics = pd.DataFrame(newlyrics)"
   ]
  },
  {
   "cell_type": "code",
   "execution_count": 42,
   "metadata": {},
   "outputs": [],
   "source": [
    "cleaned_lyrics.rename(columns = {0: 'cleaned_lyrics'}, inplace = True)"
   ]
  },
  {
   "cell_type": "code",
   "execution_count": 43,
   "metadata": {},
   "outputs": [],
   "source": [
    "lyrics_df = pd.merge(lyrics_df, cleaned_lyrics, how = 'left', left_index=True, right_index=True)"
   ]
  },
  {
   "cell_type": "code",
   "execution_count": 44,
   "metadata": {},
   "outputs": [
    {
     "name": "stdout",
     "output_type": "stream",
     "text": [
      "<class 'pandas.core.frame.DataFrame'>\n",
      "RangeIndex: 957 entries, 0 to 956\n",
      "Data columns (total 20 columns):\n",
      " #   Column            Non-Null Count  Dtype  \n",
      "---  ------            --------------  -----  \n",
      " 0   artist            957 non-null    object \n",
      " 1   track_name        957 non-null    object \n",
      " 2   track_id          957 non-null    object \n",
      " 3   popularity        957 non-null    int64  \n",
      " 4   danceability      957 non-null    float64\n",
      " 5   energy            957 non-null    float64\n",
      " 6   key               957 non-null    int64  \n",
      " 7   loudness          957 non-null    float64\n",
      " 8   mode              957 non-null    int64  \n",
      " 9   speechiness       957 non-null    float64\n",
      " 10  instrumentalness  957 non-null    float64\n",
      " 11  liveness          957 non-null    float64\n",
      " 12  valence           957 non-null    float64\n",
      " 13  tempo             957 non-null    float64\n",
      " 14  duration_ms       957 non-null    int64  \n",
      " 15  time_signature    957 non-null    int64  \n",
      " 16  is_top10          957 non-null    int64  \n",
      " 17  lyrics            957 non-null    object \n",
      " 18  lyrics1           957 non-null    object \n",
      " 19  cleaned_lyrics    957 non-null    object \n",
      "dtypes: float64(8), int64(6), object(6)\n",
      "memory usage: 149.7+ KB\n"
     ]
    }
   ],
   "source": [
    "lyrics_df.info()"
   ]
  },
  {
   "cell_type": "code",
   "execution_count": 45,
   "metadata": {},
   "outputs": [],
   "source": [
    "#Setting up the models\n",
    "X = lyrics_df['cleaned_lyrics']\n",
    "y = lyrics_df['is_top10']"
   ]
  },
  {
   "cell_type": "code",
   "execution_count": 46,
   "metadata": {},
   "outputs": [],
   "source": [
    "X_train, X_test, y_train, y_test = train_test_split(X,\n",
    "                                                    y,\n",
    "                                                    test_size=0.2,\n",
    "                                                    stratify=y,\n",
    "                                                    random_state=42)"
   ]
  },
  {
   "cell_type": "code",
   "execution_count": 47,
   "metadata": {},
   "outputs": [],
   "source": [
    "cve = CountVectorizer(stop_words = 'english')"
   ]
  },
  {
   "cell_type": "code",
   "execution_count": 48,
   "metadata": {},
   "outputs": [
    {
     "data": {
      "text/plain": [
       "CountVectorizer(analyzer='word', binary=False, decode_error='strict',\n",
       "                dtype=<class 'numpy.int64'>, encoding='utf-8', input='content',\n",
       "                lowercase=True, max_df=1.0, max_features=None, min_df=1,\n",
       "                ngram_range=(1, 1), preprocessor=None, stop_words='english',\n",
       "                strip_accents=None, token_pattern='(?u)\\\\b\\\\w\\\\w+\\\\b',\n",
       "                tokenizer=None, vocabulary=None)"
      ]
     },
     "execution_count": 48,
     "metadata": {},
     "output_type": "execute_result"
    }
   ],
   "source": [
    "cve.fit(X_train)"
   ]
  },
  {
   "cell_type": "code",
   "execution_count": 49,
   "metadata": {},
   "outputs": [
    {
     "data": {
      "text/plain": [
       "LogisticRegression(C=1.0, class_weight=None, dual=False, fit_intercept=True,\n",
       "                   intercept_scaling=1, l1_ratio=None, max_iter=100,\n",
       "                   multi_class='auto', n_jobs=None, penalty='l2',\n",
       "                   random_state=None, solver='liblinear', tol=0.0001, verbose=0,\n",
       "                   warm_start=False)"
      ]
     },
     "execution_count": 49,
     "metadata": {},
     "output_type": "execute_result"
    }
   ],
   "source": [
    "X_train = cve.transform(X_train)\n",
    "X_train_df_ = pd.DataFrame(X_train.toarray(),\n",
    "                          columns=cve.get_feature_names())\n",
    "X_test = cve.transform(X_test)\n",
    "X_test_df = pd.DataFrame(X_test.toarray(),\n",
    "                         columns=cve.get_feature_names())\n",
    "lr_ = LogisticRegression(solver = 'liblinear')\n",
    "lr_.fit(X_train, y_train)"
   ]
  },
  {
   "cell_type": "code",
   "execution_count": 50,
   "metadata": {},
   "outputs": [
    {
     "data": {
      "text/plain": [
       "0.984313725490196"
      ]
     },
     "execution_count": 50,
     "metadata": {},
     "output_type": "execute_result"
    }
   ],
   "source": [
    "lr_.score(X_train, y_train)"
   ]
  },
  {
   "cell_type": "code",
   "execution_count": 51,
   "metadata": {},
   "outputs": [
    {
     "data": {
      "text/plain": [
       "0.703125"
      ]
     },
     "execution_count": 51,
     "metadata": {},
     "output_type": "execute_result"
    }
   ],
   "source": [
    "lr_.score(X_test, y_test)"
   ]
  },
  {
   "cell_type": "code",
   "execution_count": 52,
   "metadata": {},
   "outputs": [],
   "source": [
    "X_train_, X_test_, y_train_, y_test_ = train_test_split(X,\n",
    "                                                    y,\n",
    "                                                    test_size=0.33,\n",
    "                                                    stratify=y,\n",
    "                                                    random_state=42)"
   ]
  },
  {
   "cell_type": "code",
   "execution_count": 53,
   "metadata": {},
   "outputs": [],
   "source": [
    "cv = CountVectorizer(stop_words = 'english')"
   ]
  },
  {
   "cell_type": "code",
   "execution_count": 54,
   "metadata": {},
   "outputs": [
    {
     "data": {
      "text/plain": [
       "DecisionTreeClassifier(ccp_alpha=0.0, class_weight=None, criterion='gini',\n",
       "                       max_depth=5, max_features=None, max_leaf_nodes=None,\n",
       "                       min_impurity_decrease=0.0, min_impurity_split=None,\n",
       "                       min_samples_leaf=1, min_samples_split=2,\n",
       "                       min_weight_fraction_leaf=0.0, presort='deprecated',\n",
       "                       random_state=None, splitter='best')"
      ]
     },
     "execution_count": 54,
     "metadata": {},
     "output_type": "execute_result"
    }
   ],
   "source": [
    "cv.fit(X_train_)\n",
    "X_train = cv.transform(X_train_)\n",
    "\n",
    "X_train_df = pd.DataFrame(X_train.toarray(),\n",
    "                          columns=cv.get_feature_names())\n",
    "\n",
    "X_test = cv.transform(X_test_)\n",
    "X_test_df = pd.DataFrame(X_test.toarray(),\n",
    "                         columns=cv.get_feature_names())\n",
    "dt= DecisionTreeClassifier(max_depth=5)\n",
    "dt.fit(X_train, y_train_)"
   ]
  },
  {
   "cell_type": "code",
   "execution_count": 55,
   "metadata": {},
   "outputs": [
    {
     "data": {
      "text/plain": [
       "0.7769110764430577"
      ]
     },
     "execution_count": 55,
     "metadata": {},
     "output_type": "execute_result"
    }
   ],
   "source": [
    "dt.score(X_train, y_train_)"
   ]
  },
  {
   "cell_type": "code",
   "execution_count": 56,
   "metadata": {},
   "outputs": [
    {
     "data": {
      "text/plain": [
       "0.7215189873417721"
      ]
     },
     "execution_count": 56,
     "metadata": {},
     "output_type": "execute_result"
    }
   ],
   "source": [
    "dt.score(X_test, y_test_)"
   ]
  },
  {
   "cell_type": "code",
   "execution_count": 57,
   "metadata": {},
   "outputs": [],
   "source": [
    "Z_train, Z_test, y_train, y_test = train_test_split(X,\n",
    "                                                    y,\n",
    "                                                    test_size=0.2,\n",
    "                                                    stratify=y,\n",
    "                                                    random_state=42)"
   ]
  },
  {
   "cell_type": "code",
   "execution_count": 58,
   "metadata": {},
   "outputs": [],
   "source": [
    "cvec = CountVectorizer(stop_words = 'english')"
   ]
  },
  {
   "cell_type": "code",
   "execution_count": 59,
   "metadata": {},
   "outputs": [
    {
     "data": {
      "text/plain": [
       "RandomForestClassifier(bootstrap=True, ccp_alpha=0.0, class_weight=None,\n",
       "                       criterion='gini', max_depth=6, max_features='auto',\n",
       "                       max_leaf_nodes=None, max_samples=None,\n",
       "                       min_impurity_decrease=0.0, min_impurity_split=None,\n",
       "                       min_samples_leaf=1, min_samples_split=2,\n",
       "                       min_weight_fraction_leaf=0.0, n_estimators=2, n_jobs=12,\n",
       "                       oob_score=False, random_state=42, verbose=0,\n",
       "                       warm_start=False)"
      ]
     },
     "execution_count": 59,
     "metadata": {},
     "output_type": "execute_result"
    }
   ],
   "source": [
    "\n",
    "X_train = cvec.fit_transform(Z_train)\n",
    "X_train_df_ = pd.DataFrame(X_train.toarray(),\n",
    "                          columns=cvec.get_feature_names())\n",
    "X_test = cvec.transform(Z_test)\n",
    "X_test_df = pd.DataFrame(X_test.toarray(),\n",
    "                         columns=cvec.get_feature_names())\n",
    "rt = RandomForestClassifier(max_depth=6, n_estimators=2, n_jobs=12, random_state=42)\n",
    "rt.fit(X_train, y_train)"
   ]
  },
  {
   "cell_type": "code",
   "execution_count": 60,
   "metadata": {},
   "outputs": [
    {
     "data": {
      "text/plain": [
       "0.6640522875816993"
      ]
     },
     "execution_count": 60,
     "metadata": {},
     "output_type": "execute_result"
    }
   ],
   "source": [
    "rt.score(X_train, y_train)"
   ]
  },
  {
   "cell_type": "code",
   "execution_count": 61,
   "metadata": {},
   "outputs": [
    {
     "data": {
      "text/plain": [
       "0.6354166666666666"
      ]
     },
     "execution_count": 61,
     "metadata": {},
     "output_type": "execute_result"
    }
   ],
   "source": [
    "rt.score(X_test, y_test)"
   ]
  },
  {
   "cell_type": "code",
   "execution_count": 62,
   "metadata": {},
   "outputs": [],
   "source": [
    "B_train, B_test, y_train, y_test = train_test_split(X,\n",
    "                                                    y,\n",
    "                                                    test_size=0.2,\n",
    "                                                    stratify=y,\n",
    "                                                    random_state=42)"
   ]
  },
  {
   "cell_type": "code",
   "execution_count": 63,
   "metadata": {},
   "outputs": [],
   "source": [
    "cvec = CountVectorizer(stop_words = 'english')"
   ]
  },
  {
   "cell_type": "code",
   "execution_count": 64,
   "metadata": {},
   "outputs": [
    {
     "data": {
      "text/plain": [
       "KNeighborsClassifier(algorithm='auto', leaf_size=30, metric='minkowski',\n",
       "                     metric_params=None, n_jobs=3, n_neighbors=5, p=2,\n",
       "                     weights='uniform')"
      ]
     },
     "execution_count": 64,
     "metadata": {},
     "output_type": "execute_result"
    }
   ],
   "source": [
    "\n",
    "X_train = cvec.fit_transform(B_train)\n",
    "X_train_df_ = pd.DataFrame(X_train.toarray(),\n",
    "                          columns=cvec.get_feature_names())\n",
    "X_test = cvec.transform(B_test)\n",
    "X_test_df = pd.DataFrame(X_test.toarray(),\n",
    "                         columns=cvec.get_feature_names())\n",
    "knn = KNeighborsClassifier(n_neighbors= 5, n_jobs=3)\n",
    "knn.fit(X_train, y_train)"
   ]
  },
  {
   "cell_type": "code",
   "execution_count": 65,
   "metadata": {},
   "outputs": [
    {
     "data": {
      "text/plain": [
       "0.6470588235294118"
      ]
     },
     "execution_count": 65,
     "metadata": {},
     "output_type": "execute_result"
    }
   ],
   "source": [
    "knn.score(X_train, y_train)"
   ]
  },
  {
   "cell_type": "code",
   "execution_count": 66,
   "metadata": {},
   "outputs": [
    {
     "data": {
      "text/plain": [
       "0.5572916666666666"
      ]
     },
     "execution_count": 66,
     "metadata": {},
     "output_type": "execute_result"
    }
   ],
   "source": [
    "knn.score(X_test, y_test)"
   ]
  },
  {
   "cell_type": "code",
   "execution_count": 67,
   "metadata": {},
   "outputs": [],
   "source": [
    "C_train, C_test, y_train, y_test = train_test_split(X,\n",
    "                                                    y,\n",
    "                                                    test_size=0.2,\n",
    "                                                    stratify=y,\n",
    "                                                    random_state=42)"
   ]
  },
  {
   "cell_type": "code",
   "execution_count": 68,
   "metadata": {},
   "outputs": [
    {
     "data": {
      "text/plain": [
       "BaggingClassifier(base_estimator=DecisionTreeClassifier(ccp_alpha=0.0,\n",
       "                                                        class_weight=None,\n",
       "                                                        criterion='gini',\n",
       "                                                        max_depth=6,\n",
       "                                                        max_features=None,\n",
       "                                                        max_leaf_nodes=None,\n",
       "                                                        min_impurity_decrease=0.0,\n",
       "                                                        min_impurity_split=None,\n",
       "                                                        min_samples_leaf=1,\n",
       "                                                        min_samples_split=2,\n",
       "                                                        min_weight_fraction_leaf=0.0,\n",
       "                                                        presort='deprecated',\n",
       "                                                        random_state=None,\n",
       "                                                        splitter='best'),\n",
       "                  bootstrap=True, bootstrap_features=False, max_features=1.0,\n",
       "                  max_samples=1.0, n_estimators=100, n_jobs=12, oob_score=False,\n",
       "                  random_state=None, verbose=0, warm_start=False)"
      ]
     },
     "execution_count": 68,
     "metadata": {},
     "output_type": "execute_result"
    }
   ],
   "source": [
    "X_train = cvec.fit_transform(C_train)\n",
    "X_train_df_ = pd.DataFrame(X_train.toarray(),\n",
    "                          columns=cvec.get_feature_names())\n",
    "X_test = cvec.transform(C_test)\n",
    "X_test_df = pd.DataFrame(X_test.toarray(),\n",
    "                         columns=cvec.get_feature_names())\n",
    "bagging = BaggingClassifier(base_estimator = DecisionTreeClassifier(max_depth=6), n_estimators=100, n_jobs=12)\n",
    "bagging.fit(X_train, y_train)"
   ]
  },
  {
   "cell_type": "code",
   "execution_count": 69,
   "metadata": {},
   "outputs": [
    {
     "data": {
      "text/plain": [
       "0.8379084967320262"
      ]
     },
     "execution_count": 69,
     "metadata": {},
     "output_type": "execute_result"
    }
   ],
   "source": [
    "bagging.score(X_train, y_train)"
   ]
  },
  {
   "cell_type": "code",
   "execution_count": 70,
   "metadata": {},
   "outputs": [
    {
     "data": {
      "text/plain": [
       "0.78125"
      ]
     },
     "execution_count": 70,
     "metadata": {},
     "output_type": "execute_result"
    }
   ],
   "source": [
    "bagging.score(X_test, y_test)"
   ]
  },
  {
   "cell_type": "code",
   "execution_count": 71,
   "metadata": {},
   "outputs": [],
   "source": [
    "D_train, D_test, y_train, y_test = train_test_split(X,\n",
    "                                                    y,\n",
    "                                                    test_size=0.2,\n",
    "                                                    stratify=y,\n",
    "                                                    random_state=42)"
   ]
  },
  {
   "cell_type": "code",
   "execution_count": 72,
   "metadata": {},
   "outputs": [
    {
     "data": {
      "text/plain": [
       "AdaBoostClassifier(algorithm='SAMME.R', base_estimator=None, learning_rate=1.0,\n",
       "                   n_estimators=100, random_state=42)"
      ]
     },
     "execution_count": 72,
     "metadata": {},
     "output_type": "execute_result"
    }
   ],
   "source": [
    "X_train = cvec.fit_transform(D_train)\n",
    "X_train_df_ = pd.DataFrame(X_train.toarray(),\n",
    "                          columns=cvec.get_feature_names())\n",
    "X_test = cvec.transform(D_test)\n",
    "X_test_df = pd.DataFrame(X_test.toarray(),\n",
    "                         columns=cvec.get_feature_names())\n",
    "ada = AdaBoostClassifier(n_estimators=100, random_state=42)\n",
    "ada.fit(X_train, y_train)"
   ]
  },
  {
   "cell_type": "code",
   "execution_count": 73,
   "metadata": {},
   "outputs": [
    {
     "data": {
      "text/plain": [
       "0.9320261437908497"
      ]
     },
     "execution_count": 73,
     "metadata": {},
     "output_type": "execute_result"
    }
   ],
   "source": [
    "ada.score(X_train, y_train)"
   ]
  },
  {
   "cell_type": "code",
   "execution_count": 74,
   "metadata": {},
   "outputs": [
    {
     "data": {
      "text/plain": [
       "0.6927083333333334"
      ]
     },
     "execution_count": 74,
     "metadata": {},
     "output_type": "execute_result"
    }
   ],
   "source": [
    "ada.score(X_test, y_test)"
   ]
  },
  {
   "cell_type": "markdown",
   "metadata": {},
   "source": [
    "## Conlusions and Findings:\n",
    "\n",
    "- Out of all the models, the two with the least bias-variance trade offs are the Random Forest and Decision Tree.\n",
    "- Decision tree finished with a training score of 77.69% and testing score of 72.78%\n",
    "- Random Forrest finished with a traning score of 63.4% and testing of 63.5%\n",
    "\n",
    "When compared to our audio features model alone, it seems that our audio features out performed the lyrics model only by a smidge. Both models do perform above the baseline though indicating what I originally suspected, there's a relevant trend in Billboard top 10 hits!\n",
    "\n",
    "- I wouldn't go as far as to say that these models can fully predict if a song will land in the top 10 list but it's a very good start. This way, the artist can have an idea as to what types of songs they can make to get more exposure."
   ]
  },
  {
   "cell_type": "code",
   "execution_count": null,
   "metadata": {},
   "outputs": [],
   "source": []
  }
 ],
 "metadata": {
  "kernelspec": {
   "display_name": "Python 3",
   "language": "python",
   "name": "python3"
  },
  "language_info": {
   "codemirror_mode": {
    "name": "ipython",
    "version": 3
   },
   "file_extension": ".py",
   "mimetype": "text/x-python",
   "name": "python",
   "nbconvert_exporter": "python",
   "pygments_lexer": "ipython3",
   "version": "3.7.7"
  }
 },
 "nbformat": 4,
 "nbformat_minor": 4
}
